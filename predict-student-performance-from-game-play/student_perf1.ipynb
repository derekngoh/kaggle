{
 "cells": [
  {
   "cell_type": "markdown",
   "id": "4dd67fa1",
   "metadata": {},
   "source": [
    "# Game Play Student Performance 1\n",
    "### First notebook\n",
    "### Get baseline Brier Score"
   ]
  },
  {
   "cell_type": "code",
   "execution_count": 1,
   "id": "14d65036",
   "metadata": {},
   "outputs": [],
   "source": [
    "import pandas as pd\n",
    "import numpy as np"
   ]
  },
  {
   "cell_type": "code",
   "execution_count": 2,
   "id": "ec78fe4f",
   "metadata": {},
   "outputs": [],
   "source": [
    "# Reference: https://www.kaggle.com/competitions/predict-student-performance-from-game-play/discussion/384359\n",
    "dtypes={\n",
    "    'elapsed_time':np.int32,\n",
    "    'name':'category',\n",
    "    'level':np.uint8,\n",
    "    'room_coor_x':np.float32,\n",
    "    'room_coor_y':np.float32,\n",
    "    'screen_coor_x':np.float32,\n",
    "    'screen_coor_y':np.float32,\n",
    "    'hover_duration':np.float32,\n",
    "    'fullscreen':np.uint8,\n",
    "    'hq':np.uint8,\n",
    "    'music':np.uint8,\n",
    "    'level_group':'category'}"
   ]
  },
  {
   "cell_type": "code",
   "execution_count": 3,
   "id": "b15faad3",
   "metadata": {},
   "outputs": [
    {
     "name": "stdout",
     "output_type": "stream",
     "text": [
      "26296946\n",
      "3728\n"
     ]
    }
   ],
   "source": [
    "raw_data_train = pd.read_csv(\"./student_perf_data_raw/train.csv\", dtype=dtypes)\n",
    "print(len(raw_data_train))\n",
    "raw_data_test = pd.read_csv(\"./student_perf_data_raw/test.csv\", dtype=dtypes)\n",
    "print(len(raw_data_test))\n"
   ]
  },
  {
   "cell_type": "code",
   "execution_count": 4,
   "id": "707fc5b9",
   "metadata": {},
   "outputs": [
    {
     "name": "stdout",
     "output_type": "stream",
     "text": [
      "26300674\n"
     ]
    }
   ],
   "source": [
    "print(len(raw_data_test)+len(raw_data_train))"
   ]
  },
  {
   "cell_type": "code",
   "execution_count": 5,
   "id": "05570263",
   "metadata": {},
   "outputs": [
    {
     "name": "stdout",
     "output_type": "stream",
     "text": [
      "26300674\n"
     ]
    },
    {
     "data": {
      "text/html": [
       "<div>\n",
       "<style scoped>\n",
       "    .dataframe tbody tr th:only-of-type {\n",
       "        vertical-align: middle;\n",
       "    }\n",
       "\n",
       "    .dataframe tbody tr th {\n",
       "        vertical-align: top;\n",
       "    }\n",
       "\n",
       "    .dataframe thead th {\n",
       "        text-align: right;\n",
       "    }\n",
       "</style>\n",
       "<table border=\"1\" class=\"dataframe\">\n",
       "  <thead>\n",
       "    <tr style=\"text-align: right;\">\n",
       "      <th></th>\n",
       "      <th>session_id</th>\n",
       "      <th>index</th>\n",
       "      <th>elapsed_time</th>\n",
       "      <th>event_name</th>\n",
       "      <th>name</th>\n",
       "      <th>level</th>\n",
       "      <th>page</th>\n",
       "      <th>room_coor_x</th>\n",
       "      <th>room_coor_y</th>\n",
       "      <th>screen_coor_x</th>\n",
       "      <th>...</th>\n",
       "      <th>text</th>\n",
       "      <th>fqid</th>\n",
       "      <th>room_fqid</th>\n",
       "      <th>text_fqid</th>\n",
       "      <th>fullscreen</th>\n",
       "      <th>hq</th>\n",
       "      <th>music</th>\n",
       "      <th>level_group</th>\n",
       "      <th>label</th>\n",
       "      <th>session_level</th>\n",
       "    </tr>\n",
       "  </thead>\n",
       "  <tbody>\n",
       "    <tr>\n",
       "      <th>26300669</th>\n",
       "      <td>20090312331414616</td>\n",
       "      <td>1001</td>\n",
       "      <td>1581679</td>\n",
       "      <td>map_hover</td>\n",
       "      <td>basic</td>\n",
       "      <td>22</td>\n",
       "      <td>NaN</td>\n",
       "      <td>NaN</td>\n",
       "      <td>NaN</td>\n",
       "      <td>NaN</td>\n",
       "      <td>...</td>\n",
       "      <td>NaN</td>\n",
       "      <td>tunic.wildlife</td>\n",
       "      <td>tunic.historicalsociety.entry</td>\n",
       "      <td>NaN</td>\n",
       "      <td>0</td>\n",
       "      <td>0</td>\n",
       "      <td>1</td>\n",
       "      <td>13-22</td>\n",
       "      <td>test</td>\n",
       "      <td>8.0</td>\n",
       "    </tr>\n",
       "    <tr>\n",
       "      <th>26300670</th>\n",
       "      <td>20090312331414616</td>\n",
       "      <td>1002</td>\n",
       "      <td>1583044</td>\n",
       "      <td>map_hover</td>\n",
       "      <td>basic</td>\n",
       "      <td>22</td>\n",
       "      <td>NaN</td>\n",
       "      <td>NaN</td>\n",
       "      <td>NaN</td>\n",
       "      <td>NaN</td>\n",
       "      <td>...</td>\n",
       "      <td>NaN</td>\n",
       "      <td>tunic.capitol_2</td>\n",
       "      <td>tunic.historicalsociety.entry</td>\n",
       "      <td>NaN</td>\n",
       "      <td>0</td>\n",
       "      <td>0</td>\n",
       "      <td>1</td>\n",
       "      <td>13-22</td>\n",
       "      <td>test</td>\n",
       "      <td>8.0</td>\n",
       "    </tr>\n",
       "    <tr>\n",
       "      <th>26300671</th>\n",
       "      <td>20090312331414616</td>\n",
       "      <td>1003</td>\n",
       "      <td>1583410</td>\n",
       "      <td>map_click</td>\n",
       "      <td>undefined</td>\n",
       "      <td>22</td>\n",
       "      <td>NaN</td>\n",
       "      <td>483.726349</td>\n",
       "      <td>-3.880048</td>\n",
       "      <td>456.0</td>\n",
       "      <td>...</td>\n",
       "      <td>NaN</td>\n",
       "      <td>tunic.capitol_2</td>\n",
       "      <td>tunic.historicalsociety.entry</td>\n",
       "      <td>NaN</td>\n",
       "      <td>0</td>\n",
       "      <td>0</td>\n",
       "      <td>1</td>\n",
       "      <td>13-22</td>\n",
       "      <td>test</td>\n",
       "      <td>8.0</td>\n",
       "    </tr>\n",
       "    <tr>\n",
       "      <th>26300672</th>\n",
       "      <td>20090312331414616</td>\n",
       "      <td>1004</td>\n",
       "      <td>1585841</td>\n",
       "      <td>navigate_click</td>\n",
       "      <td>undefined</td>\n",
       "      <td>22</td>\n",
       "      <td>NaN</td>\n",
       "      <td>192.372147</td>\n",
       "      <td>38.216179</td>\n",
       "      <td>383.0</td>\n",
       "      <td>...</td>\n",
       "      <td>NaN</td>\n",
       "      <td>chap4_finale_c</td>\n",
       "      <td>tunic.capitol_2.hall</td>\n",
       "      <td>NaN</td>\n",
       "      <td>0</td>\n",
       "      <td>0</td>\n",
       "      <td>1</td>\n",
       "      <td>13-22</td>\n",
       "      <td>test</td>\n",
       "      <td>8.0</td>\n",
       "    </tr>\n",
       "    <tr>\n",
       "      <th>26300673</th>\n",
       "      <td>20090312331414616</td>\n",
       "      <td>1005</td>\n",
       "      <td>1587810</td>\n",
       "      <td>checkpoint</td>\n",
       "      <td>basic</td>\n",
       "      <td>22</td>\n",
       "      <td>NaN</td>\n",
       "      <td>NaN</td>\n",
       "      <td>NaN</td>\n",
       "      <td>NaN</td>\n",
       "      <td>...</td>\n",
       "      <td>NaN</td>\n",
       "      <td>chap4_finale_c</td>\n",
       "      <td>tunic.capitol_2.hall</td>\n",
       "      <td>NaN</td>\n",
       "      <td>0</td>\n",
       "      <td>0</td>\n",
       "      <td>1</td>\n",
       "      <td>13-22</td>\n",
       "      <td>test</td>\n",
       "      <td>8.0</td>\n",
       "    </tr>\n",
       "  </tbody>\n",
       "</table>\n",
       "<p>5 rows × 22 columns</p>\n",
       "</div>"
      ],
      "text/plain": [
       "                 session_id  index  elapsed_time      event_name       name  \\\n",
       "26300669  20090312331414616   1001       1581679       map_hover      basic   \n",
       "26300670  20090312331414616   1002       1583044       map_hover      basic   \n",
       "26300671  20090312331414616   1003       1583410       map_click  undefined   \n",
       "26300672  20090312331414616   1004       1585841  navigate_click  undefined   \n",
       "26300673  20090312331414616   1005       1587810      checkpoint      basic   \n",
       "\n",
       "          level  page  room_coor_x  room_coor_y  screen_coor_x  ...  text  \\\n",
       "26300669     22   NaN          NaN          NaN            NaN  ...   NaN   \n",
       "26300670     22   NaN          NaN          NaN            NaN  ...   NaN   \n",
       "26300671     22   NaN   483.726349    -3.880048          456.0  ...   NaN   \n",
       "26300672     22   NaN   192.372147    38.216179          383.0  ...   NaN   \n",
       "26300673     22   NaN          NaN          NaN            NaN  ...   NaN   \n",
       "\n",
       "                     fqid                      room_fqid text_fqid fullscreen  \\\n",
       "26300669   tunic.wildlife  tunic.historicalsociety.entry       NaN          0   \n",
       "26300670  tunic.capitol_2  tunic.historicalsociety.entry       NaN          0   \n",
       "26300671  tunic.capitol_2  tunic.historicalsociety.entry       NaN          0   \n",
       "26300672   chap4_finale_c           tunic.capitol_2.hall       NaN          0   \n",
       "26300673   chap4_finale_c           tunic.capitol_2.hall       NaN          0   \n",
       "\n",
       "         hq  music  level_group  label session_level  \n",
       "26300669  0      1        13-22   test           8.0  \n",
       "26300670  0      1        13-22   test           8.0  \n",
       "26300671  0      1        13-22   test           8.0  \n",
       "26300672  0      1        13-22   test           8.0  \n",
       "26300673  0      1        13-22   test           8.0  \n",
       "\n",
       "[5 rows x 22 columns]"
      ]
     },
     "execution_count": 5,
     "metadata": {},
     "output_type": "execute_result"
    }
   ],
   "source": [
    "#combine train and test set for feature engineering use later\n",
    "raw_data_train['label'] = 'train'\n",
    "raw_data_test['label'] = 'test'\n",
    "combined_set = pd.concat([raw_data_train, raw_data_test], axis=0).reset_index(drop=True)\n",
    "print(len(combined_set))\n",
    "combined_set.tail()"
   ]
  },
  {
   "cell_type": "markdown",
   "id": "8f56c140",
   "metadata": {},
   "source": [
    "# Get random set to speed up process"
   ]
  },
  {
   "cell_type": "code",
   "execution_count": 6,
   "id": "f9fbc038",
   "metadata": {},
   "outputs": [],
   "source": [
    "unique_sessions = combined_set.loc[:, ['session_id']].drop_duplicates()\n",
    "random_set = unique_sessions.sample(frac=0.1, replace=False).reset_index(drop=True)"
   ]
  },
  {
   "cell_type": "code",
   "execution_count": 7,
   "id": "5ce3df4a",
   "metadata": {},
   "outputs": [],
   "source": [
    "# Set combined set to random set to reduce size\n",
    "combined_set = random_set.merge(combined_set.rename_axis('temp_index').reset_index(), how='left', on='session_id').set_index('temp_index', drop=True)\n",
    "combined_set.index.names = [\"\"]"
   ]
  },
  {
   "cell_type": "code",
   "execution_count": 8,
   "id": "4b6d089e",
   "metadata": {},
   "outputs": [
    {
     "data": {
      "text/html": [
       "<div>\n",
       "<style scoped>\n",
       "    .dataframe tbody tr th:only-of-type {\n",
       "        vertical-align: middle;\n",
       "    }\n",
       "\n",
       "    .dataframe tbody tr th {\n",
       "        vertical-align: top;\n",
       "    }\n",
       "\n",
       "    .dataframe thead th {\n",
       "        text-align: right;\n",
       "    }\n",
       "</style>\n",
       "<table border=\"1\" class=\"dataframe\">\n",
       "  <thead>\n",
       "    <tr style=\"text-align: right;\">\n",
       "      <th></th>\n",
       "      <th>session_id</th>\n",
       "      <th>index</th>\n",
       "      <th>elapsed_time</th>\n",
       "      <th>event_name</th>\n",
       "      <th>name</th>\n",
       "      <th>level</th>\n",
       "      <th>page</th>\n",
       "      <th>room_coor_x</th>\n",
       "      <th>room_coor_y</th>\n",
       "      <th>screen_coor_x</th>\n",
       "      <th>...</th>\n",
       "      <th>text</th>\n",
       "      <th>fqid</th>\n",
       "      <th>room_fqid</th>\n",
       "      <th>text_fqid</th>\n",
       "      <th>fullscreen</th>\n",
       "      <th>hq</th>\n",
       "      <th>music</th>\n",
       "      <th>level_group</th>\n",
       "      <th>label</th>\n",
       "      <th>session_level</th>\n",
       "    </tr>\n",
       "    <tr>\n",
       "      <th></th>\n",
       "      <th></th>\n",
       "      <th></th>\n",
       "      <th></th>\n",
       "      <th></th>\n",
       "      <th></th>\n",
       "      <th></th>\n",
       "      <th></th>\n",
       "      <th></th>\n",
       "      <th></th>\n",
       "      <th></th>\n",
       "      <th></th>\n",
       "      <th></th>\n",
       "      <th></th>\n",
       "      <th></th>\n",
       "      <th></th>\n",
       "      <th></th>\n",
       "      <th></th>\n",
       "      <th></th>\n",
       "      <th></th>\n",
       "      <th></th>\n",
       "      <th></th>\n",
       "    </tr>\n",
       "  </thead>\n",
       "  <tbody>\n",
       "    <tr>\n",
       "      <th>2463279</th>\n",
       "      <td>20110311060547370</td>\n",
       "      <td>1362</td>\n",
       "      <td>1898290</td>\n",
       "      <td>map_hover</td>\n",
       "      <td>basic</td>\n",
       "      <td>22</td>\n",
       "      <td>NaN</td>\n",
       "      <td>NaN</td>\n",
       "      <td>NaN</td>\n",
       "      <td>NaN</td>\n",
       "      <td>...</td>\n",
       "      <td>NaN</td>\n",
       "      <td>tomap</td>\n",
       "      <td>tunic.historicalsociety.entry</td>\n",
       "      <td>NaN</td>\n",
       "      <td>0</td>\n",
       "      <td>0</td>\n",
       "      <td>1</td>\n",
       "      <td>13-22</td>\n",
       "      <td>train</td>\n",
       "      <td>NaN</td>\n",
       "    </tr>\n",
       "    <tr>\n",
       "      <th>2463280</th>\n",
       "      <td>20110311060547370</td>\n",
       "      <td>1363</td>\n",
       "      <td>1898739</td>\n",
       "      <td>map_hover</td>\n",
       "      <td>basic</td>\n",
       "      <td>22</td>\n",
       "      <td>NaN</td>\n",
       "      <td>NaN</td>\n",
       "      <td>NaN</td>\n",
       "      <td>NaN</td>\n",
       "      <td>...</td>\n",
       "      <td>NaN</td>\n",
       "      <td>tunic.humanecology</td>\n",
       "      <td>tunic.historicalsociety.entry</td>\n",
       "      <td>NaN</td>\n",
       "      <td>0</td>\n",
       "      <td>0</td>\n",
       "      <td>1</td>\n",
       "      <td>13-22</td>\n",
       "      <td>train</td>\n",
       "      <td>NaN</td>\n",
       "    </tr>\n",
       "    <tr>\n",
       "      <th>2463281</th>\n",
       "      <td>20110311060547370</td>\n",
       "      <td>1364</td>\n",
       "      <td>1899089</td>\n",
       "      <td>map_click</td>\n",
       "      <td>undefined</td>\n",
       "      <td>22</td>\n",
       "      <td>NaN</td>\n",
       "      <td>532.578979</td>\n",
       "      <td>49.819336</td>\n",
       "      <td>489.0</td>\n",
       "      <td>...</td>\n",
       "      <td>NaN</td>\n",
       "      <td>tunic.capitol_2</td>\n",
       "      <td>tunic.historicalsociety.entry</td>\n",
       "      <td>NaN</td>\n",
       "      <td>0</td>\n",
       "      <td>0</td>\n",
       "      <td>1</td>\n",
       "      <td>13-22</td>\n",
       "      <td>train</td>\n",
       "      <td>NaN</td>\n",
       "    </tr>\n",
       "    <tr>\n",
       "      <th>2463282</th>\n",
       "      <td>20110311060547370</td>\n",
       "      <td>1365</td>\n",
       "      <td>1903054</td>\n",
       "      <td>navigate_click</td>\n",
       "      <td>undefined</td>\n",
       "      <td>22</td>\n",
       "      <td>NaN</td>\n",
       "      <td>262.069122</td>\n",
       "      <td>104.882843</td>\n",
       "      <td>429.0</td>\n",
       "      <td>...</td>\n",
       "      <td>NaN</td>\n",
       "      <td>chap4_finale_c</td>\n",
       "      <td>tunic.capitol_2.hall</td>\n",
       "      <td>NaN</td>\n",
       "      <td>0</td>\n",
       "      <td>0</td>\n",
       "      <td>1</td>\n",
       "      <td>13-22</td>\n",
       "      <td>train</td>\n",
       "      <td>NaN</td>\n",
       "    </tr>\n",
       "    <tr>\n",
       "      <th>2463283</th>\n",
       "      <td>20110311060547370</td>\n",
       "      <td>1366</td>\n",
       "      <td>1905030</td>\n",
       "      <td>checkpoint</td>\n",
       "      <td>basic</td>\n",
       "      <td>22</td>\n",
       "      <td>NaN</td>\n",
       "      <td>NaN</td>\n",
       "      <td>NaN</td>\n",
       "      <td>NaN</td>\n",
       "      <td>...</td>\n",
       "      <td>NaN</td>\n",
       "      <td>chap4_finale_c</td>\n",
       "      <td>tunic.capitol_2.hall</td>\n",
       "      <td>NaN</td>\n",
       "      <td>0</td>\n",
       "      <td>0</td>\n",
       "      <td>1</td>\n",
       "      <td>13-22</td>\n",
       "      <td>train</td>\n",
       "      <td>NaN</td>\n",
       "    </tr>\n",
       "  </tbody>\n",
       "</table>\n",
       "<p>5 rows × 22 columns</p>\n",
       "</div>"
      ],
      "text/plain": [
       "                session_id  index  elapsed_time      event_name       name  \\\n",
       "                                                                             \n",
       "2463279  20110311060547370   1362       1898290       map_hover      basic   \n",
       "2463280  20110311060547370   1363       1898739       map_hover      basic   \n",
       "2463281  20110311060547370   1364       1899089       map_click  undefined   \n",
       "2463282  20110311060547370   1365       1903054  navigate_click  undefined   \n",
       "2463283  20110311060547370   1366       1905030      checkpoint      basic   \n",
       "\n",
       "         level  page  room_coor_x  room_coor_y  screen_coor_x  ...  text  \\\n",
       "                                                               ...         \n",
       "2463279     22   NaN          NaN          NaN            NaN  ...   NaN   \n",
       "2463280     22   NaN          NaN          NaN            NaN  ...   NaN   \n",
       "2463281     22   NaN   532.578979    49.819336          489.0  ...   NaN   \n",
       "2463282     22   NaN   262.069122   104.882843          429.0  ...   NaN   \n",
       "2463283     22   NaN          NaN          NaN            NaN  ...   NaN   \n",
       "\n",
       "                       fqid                      room_fqid text_fqid  \\\n",
       "                                                                       \n",
       "2463279               tomap  tunic.historicalsociety.entry       NaN   \n",
       "2463280  tunic.humanecology  tunic.historicalsociety.entry       NaN   \n",
       "2463281     tunic.capitol_2  tunic.historicalsociety.entry       NaN   \n",
       "2463282      chap4_finale_c           tunic.capitol_2.hall       NaN   \n",
       "2463283      chap4_finale_c           tunic.capitol_2.hall       NaN   \n",
       "\n",
       "        fullscreen hq  music  level_group  label session_level  \n",
       "                                                                \n",
       "2463279          0  0      1        13-22  train           NaN  \n",
       "2463280          0  0      1        13-22  train           NaN  \n",
       "2463281          0  0      1        13-22  train           NaN  \n",
       "2463282          0  0      1        13-22  train           NaN  \n",
       "2463283          0  0      1        13-22  train           NaN  \n",
       "\n",
       "[5 rows x 22 columns]"
      ]
     },
     "execution_count": 8,
     "metadata": {},
     "output_type": "execute_result"
    }
   ],
   "source": [
    "combined_set.tail()"
   ]
  },
  {
   "cell_type": "code",
   "execution_count": 9,
   "id": "499fe17a",
   "metadata": {},
   "outputs": [
    {
     "data": {
      "text/plain": [
       "2630509"
      ]
     },
     "execution_count": 9,
     "metadata": {},
     "output_type": "execute_result"
    }
   ],
   "source": [
    "len(combined_set)"
   ]
  },
  {
   "cell_type": "markdown",
   "id": "4aec918f",
   "metadata": {},
   "source": [
    "# Exploratory Analysis"
   ]
  },
  {
   "cell_type": "code",
   "execution_count": 10,
   "id": "9581a87b",
   "metadata": {},
   "outputs": [],
   "source": [
    "explore_set = combined_set[combined_set['label']=='train']"
   ]
  },
  {
   "cell_type": "code",
   "execution_count": 11,
   "id": "0883ec3f",
   "metadata": {},
   "outputs": [
    {
     "name": "stdout",
     "output_type": "stream",
     "text": [
      "<class 'pandas.core.frame.DataFrame'>\n",
      "Int64Index: 2630509 entries, 5890842 to 2463283\n",
      "Data columns (total 22 columns):\n",
      " #   Column          Non-Null Count    Dtype   \n",
      "---  ------          --------------    -----   \n",
      " 0   session_id      2630509 non-null  int64   \n",
      " 1   index           2630509 non-null  int64   \n",
      " 2   elapsed_time    2630509 non-null  int32   \n",
      " 3   event_name      2630509 non-null  object  \n",
      " 4   name            2630509 non-null  category\n",
      " 5   level           2630509 non-null  uint8   \n",
      " 6   page            56747 non-null    float64 \n",
      " 7   room_coor_x     2423043 non-null  float32 \n",
      " 8   room_coor_y     2423043 non-null  float32 \n",
      " 9   screen_coor_x   2423043 non-null  float32 \n",
      " 10  screen_coor_y   2423043 non-null  float32 \n",
      " 11  hover_duration  200365 non-null   float32 \n",
      " 12  text            961827 non-null   object  \n",
      " 13  fqid            1804360 non-null  object  \n",
      " 14  room_fqid       2630509 non-null  object  \n",
      " 15  text_fqid       961833 non-null   object  \n",
      " 16  fullscreen      2630509 non-null  uint8   \n",
      " 17  hq              2630509 non-null  uint8   \n",
      " 18  music           2630509 non-null  uint8   \n",
      " 19  level_group     2630509 non-null  category\n",
      " 20  label           2630509 non-null  object  \n",
      " 21  session_level   0 non-null        float64 \n",
      "dtypes: category(2), float32(5), float64(2), int32(1), int64(2), object(6), uint8(4)\n",
      "memory usage: 296.0+ MB\n",
      "2630509\n"
     ]
    }
   ],
   "source": [
    "explore_set.info(verbose=True, show_counts=True)\n",
    "print(len(explore_set))"
   ]
  },
  {
   "cell_type": "code",
   "execution_count": 12,
   "id": "420b1bd7",
   "metadata": {},
   "outputs": [],
   "source": [
    "# Consider to split event name into event and action\n",
    "# When both room coordinates are positive, room is in sight. x\n",
    "### Might be useful to know how many steps to room in sight for each level / event\n",
    "### Might also be useful to know how many steps stayed when room is in sight\n",
    "# Good to know time used at each step (index) x\n",
    "# Good to know how many of each even, like how many person talked to (clicked), how many maps seen etc. x\n",
    "# Good to know how many times the same map / person is clicked. (repeated actions) x\n",
    "# Good to know if someone uses music / fullscreen or change halfway (use avg) x\n",
    "# Good to know if text is a question \n",
    "# Good to know page access count for each session / level / level grp\n",
    "# Good to know lead lag event_name\n",
    "# Good to know text info after extracting room/fqid info"
   ]
  },
  {
   "cell_type": "markdown",
   "id": "6c9b41d4",
   "metadata": {},
   "source": [
    "### Prelim Feature Engineering prior to aggregation"
   ]
  },
  {
   "cell_type": "code",
   "execution_count": 13,
   "id": "ad8126af",
   "metadata": {},
   "outputs": [
    {
     "name": "stdout",
     "output_type": "stream",
     "text": [
      "2630509\n",
      "2630509\n"
     ]
    }
   ],
   "source": [
    "print(len(combined_set.index))\n",
    "print(combined_set.index.nunique())"
   ]
  },
  {
   "cell_type": "code",
   "execution_count": 14,
   "id": "da309c9e",
   "metadata": {},
   "outputs": [
    {
     "name": "stdout",
     "output_type": "stream",
     "text": [
      "2630509\n"
     ]
    }
   ],
   "source": [
    "# convert dummy\n",
    "# Split event_name into event and action\n",
    "print(len(combined_set))\n",
    "combined_set[\"event\"] = combined_set[\"event_name\"].apply(lambda x: x.split(\"_\")[0])\n",
    "combined_set[\"action\"] = combined_set[\"event_name\"].apply(lambda x: x.split(\"_\")[-1])"
   ]
  },
  {
   "cell_type": "code",
   "execution_count": 15,
   "id": "818402d3",
   "metadata": {},
   "outputs": [
    {
     "name": "stdout",
     "output_type": "stream",
     "text": [
      "2630509\n",
      "2630509\n"
     ]
    }
   ],
   "source": [
    "# convert dummy\n",
    "# Get event type count for session, level and level grp \n",
    "#event\n",
    "print(len(combined_set))\n",
    "combined_set['level_event_count'] = combined_set.groupby(['session_id', 'level', 'event'])['event'].transform('count')\n",
    "#action\n",
    "print(len(combined_set))\n",
    "combined_set['level_action_count'] = combined_set.groupby(['session_id', 'level', 'action'])['action'].transform('count')"
   ]
  },
  {
   "cell_type": "code",
   "execution_count": 17,
   "id": "ce1c1af0",
   "metadata": {},
   "outputs": [
    {
     "name": "stdout",
     "output_type": "stream",
     "text": [
      "2630509\n"
     ]
    }
   ],
   "source": [
    "# convert dummy\n",
    "# Get count of repeated actions\n",
    "#repeated actions\n",
    "\n",
    "def q75(x):\n",
    "    return x.quantile(0.75)\n",
    "\n",
    "print(len(combined_set))\n",
    "combined_set['rptevent'] = combined_set['event_name'] +['_']+ combined_set['fqid']\n",
    "combined_set['level_rptevent_count'] = combined_set.groupby(['session_id', 'level', 'rptevent'])['rptevent'].transform('count')\n",
    "combined_set['level_rptevent_quantile'] = combined_set.groupby(['session_id','level'])['level_rptevent_count'].transform(q75)\n",
    "level_rptevent_sigcount = combined_set['level_rptevent_count'][combined_set['level_rptevent_count'].gt(combined_set['level_rptevent_quantile'])]\n",
    "level_rptevent_sigcount = pd.DataFrame(level_rptevent_sigcount).set_axis([\"level_rptevent_sigcount\"], axis='columns')\n",
    "combined_set = pd.concat([combined_set, level_rptevent_sigcount], axis=1)\n",
    "combined_set.drop(['level_rptevent_count', 'level_rptevent_quantile'], axis=1, inplace=True)"
   ]
  },
  {
   "cell_type": "code",
   "execution_count": 19,
   "id": "2c34dfe1",
   "metadata": {},
   "outputs": [
    {
     "name": "stdout",
     "output_type": "stream",
     "text": [
      "2630509\n"
     ]
    }
   ],
   "source": [
    "# convert dummy\n",
    "# Get count of room id\n",
    "# access room how many times per level\n",
    "print(len(combined_set))\n",
    "combined_set['level_roomfqid_count'] = combined_set.groupby(['session_id', 'level', 'room_fqid'])['room_fqid'].transform('count')"
   ]
  },
  {
   "cell_type": "code",
   "execution_count": 20,
   "id": "783fcf98",
   "metadata": {},
   "outputs": [
    {
     "name": "stdout",
     "output_type": "stream",
     "text": [
      "2630509\n",
      "2630509\n",
      "2630509\n"
     ]
    }
   ],
   "source": [
    "# Check if room in sight, and general positional info\n",
    "print(len(combined_set))\n",
    "combined_set['room_in_sight'] = np.where((combined_set['room_coor_x']>0) & (combined_set['room_coor_y']>0), True, False)\n",
    "print(len(combined_set))\n",
    "combined_set['room_position_info'] =  abs(combined_set['screen_coor_x']-combined_set['room_coor_x'])+abs(combined_set['screen_coor_y']-combined_set['room_coor_y'])\n",
    "print(len(combined_set))\n",
    "combined_set['room_not_in_sight_count'] = combined_set[~combined_set['room_in_sight']].groupby(['session_id', 'level'])['room_in_sight'].transform('count')\n",
    "combined_set['room_not_in_sight_count'] = combined_set.groupby(['session_id', 'level'])['room_not_in_sight_count'].ffill().bfill()"
   ]
  },
  {
   "cell_type": "code",
   "execution_count": 21,
   "id": "93272d58",
   "metadata": {},
   "outputs": [],
   "source": [
    "# Get steps for level and level group\n",
    "combined_set['level_step_count'] = combined_set.groupby(['session_id', 'level']).cumcount()"
   ]
  },
  {
   "cell_type": "code",
   "execution_count": 22,
   "id": "5654a69b",
   "metadata": {},
   "outputs": [],
   "source": [
    "# Get time use at each step for level and level group\n",
    "combined_set['level_step_time_used'] = combined_set.groupby(['session_id', 'level'])['elapsed_time'].diff().fillna(0)\n",
    "combined_set['level_elapsed_time'] = combined_set.groupby(['session_id', 'level'])['level_step_time_used'].cumsum()"
   ]
  },
  {
   "cell_type": "code",
   "execution_count": 23,
   "id": "2ab68df8",
   "metadata": {},
   "outputs": [],
   "source": [
    "# Check music and fullscreen used for full session\n",
    "combined_set['full_sess_music'] = combined_set.groupby(['session_id'])['music'].transform('mean')\n",
    "combined_set['full_sess_fullscreen'] = combined_set.groupby(['session_id'])['fullscreen'].transform('mean')\n",
    "combined_set['full_sess_hq'] = combined_set.groupby(['session_id'])['hq'].transform('mean')"
   ]
  },
  {
   "cell_type": "code",
   "execution_count": 24,
   "id": "2178daa0",
   "metadata": {},
   "outputs": [],
   "source": [
    "# Check if text is a question\n",
    "combined_set['text_is_question'] = np.where((~combined_set['text'].isnull()) & (combined_set['text'].str.contains('\\?')), True, False)\n",
    "combined_set['text_is_question_count'] = combined_set[combined_set['text_is_question']].groupby(['session_id', 'level'])['text_is_question'].transform('count')\n",
    "combined_set['text_is_question_count'] = combined_set.groupby(['session_id', 'level'])['text_is_question_count'].ffill().bfill()"
   ]
  },
  {
   "cell_type": "code",
   "execution_count": 25,
   "id": "2b447a2e",
   "metadata": {},
   "outputs": [],
   "source": [
    "# convert dummy\n",
    "# Get page access count\n",
    "combined_set['level_page_access_count'] = combined_set.groupby(['session_id', 'level', 'page'])['page'].transform('count')"
   ]
  },
  {
   "cell_type": "code",
   "execution_count": 26,
   "id": "5b85acce",
   "metadata": {},
   "outputs": [],
   "source": [
    "# Get additional text info if available\n",
    "fqid = combined_set['fqid'].str.lower()\n",
    "text_fqid = combined_set['text_fqid'].str.lower()\n",
    "room_fqid = combined_set['room_fqid'].str.lower()      "
   ]
  },
  {
   "cell_type": "code",
   "execution_count": 27,
   "id": "c86f8eeb",
   "metadata": {},
   "outputs": [],
   "source": [
    "df_temp = pd.DataFrame({'fqid':fqid, 'text_fqid':text_fqid})\n",
    "df_checked = df_temp.apply(lambda x: [word for word in str(x.text_fqid).split(\".\") if word not in str(x.fqid).split('.')] , axis=1) "
   ]
  },
  {
   "cell_type": "code",
   "execution_count": 28,
   "id": "37824a8a",
   "metadata": {},
   "outputs": [],
   "source": [
    "df_temp = pd.DataFrame({'room_fqid':room_fqid, 'df_checked':df_checked})\n",
    "df_temp['df_checked'] = ['.'.join(map(str,l)) for l in df_temp['df_checked']]"
   ]
  },
  {
   "cell_type": "code",
   "execution_count": 29,
   "id": "c7fcf4f6",
   "metadata": {},
   "outputs": [],
   "source": [
    "df_checked = df_temp.apply(lambda x: [word for word in str(x.df_checked).split(\".\") if word not in str(x.room_fqid).split('.')] , axis=1) \n",
    "df_checked = ['.'.join(map(str,l)) for l in df_checked]"
   ]
  },
  {
   "cell_type": "code",
   "execution_count": 30,
   "id": "cfcac089",
   "metadata": {},
   "outputs": [
    {
     "data": {
      "text/html": [
       "<div>\n",
       "<style scoped>\n",
       "    .dataframe tbody tr th:only-of-type {\n",
       "        vertical-align: middle;\n",
       "    }\n",
       "\n",
       "    .dataframe tbody tr th {\n",
       "        vertical-align: top;\n",
       "    }\n",
       "\n",
       "    .dataframe thead th {\n",
       "        text-align: right;\n",
       "    }\n",
       "</style>\n",
       "<table border=\"1\" class=\"dataframe\">\n",
       "  <thead>\n",
       "    <tr style=\"text-align: right;\">\n",
       "      <th></th>\n",
       "      <th>session_id</th>\n",
       "      <th>index</th>\n",
       "      <th>elapsed_time</th>\n",
       "      <th>event_name</th>\n",
       "      <th>name</th>\n",
       "      <th>level</th>\n",
       "      <th>page</th>\n",
       "      <th>room_coor_x</th>\n",
       "      <th>room_coor_y</th>\n",
       "      <th>screen_coor_x</th>\n",
       "      <th>...</th>\n",
       "      <th>level_step_count</th>\n",
       "      <th>level_step_time_used</th>\n",
       "      <th>level_elapsed_time</th>\n",
       "      <th>full_sess_music</th>\n",
       "      <th>full_sess_fullscreen</th>\n",
       "      <th>full_sess_hq</th>\n",
       "      <th>text_is_question</th>\n",
       "      <th>text_is_question_count</th>\n",
       "      <th>level_page_access_count</th>\n",
       "      <th>addition_info_fr_id</th>\n",
       "    </tr>\n",
       "    <tr>\n",
       "      <th></th>\n",
       "      <th></th>\n",
       "      <th></th>\n",
       "      <th></th>\n",
       "      <th></th>\n",
       "      <th></th>\n",
       "      <th></th>\n",
       "      <th></th>\n",
       "      <th></th>\n",
       "      <th></th>\n",
       "      <th></th>\n",
       "      <th></th>\n",
       "      <th></th>\n",
       "      <th></th>\n",
       "      <th></th>\n",
       "      <th></th>\n",
       "      <th></th>\n",
       "      <th></th>\n",
       "      <th></th>\n",
       "      <th></th>\n",
       "      <th></th>\n",
       "      <th></th>\n",
       "    </tr>\n",
       "  </thead>\n",
       "  <tbody>\n",
       "    <tr>\n",
       "      <th>5890842</th>\n",
       "      <td>21010108291765796</td>\n",
       "      <td>0</td>\n",
       "      <td>0</td>\n",
       "      <td>cutscene_click</td>\n",
       "      <td>basic</td>\n",
       "      <td>0</td>\n",
       "      <td>NaN</td>\n",
       "      <td>-402.991394</td>\n",
       "      <td>26.685314</td>\n",
       "      <td>391.0</td>\n",
       "      <td>...</td>\n",
       "      <td>0</td>\n",
       "      <td>0.0</td>\n",
       "      <td>0.0</td>\n",
       "      <td>1.0</td>\n",
       "      <td>0.0</td>\n",
       "      <td>0.0</td>\n",
       "      <td>False</td>\n",
       "      <td>3.0</td>\n",
       "      <td>NaN</td>\n",
       "      <td>NaN</td>\n",
       "    </tr>\n",
       "    <tr>\n",
       "      <th>5890843</th>\n",
       "      <td>21010108291765796</td>\n",
       "      <td>1</td>\n",
       "      <td>25472936</td>\n",
       "      <td>person_click</td>\n",
       "      <td>basic</td>\n",
       "      <td>0</td>\n",
       "      <td>NaN</td>\n",
       "      <td>-183.991409</td>\n",
       "      <td>-0.314686</td>\n",
       "      <td>610.0</td>\n",
       "      <td>...</td>\n",
       "      <td>1</td>\n",
       "      <td>25472936.0</td>\n",
       "      <td>25472936.0</td>\n",
       "      <td>1.0</td>\n",
       "      <td>0.0</td>\n",
       "      <td>0.0</td>\n",
       "      <td>True</td>\n",
       "      <td>3.0</td>\n",
       "      <td>NaN</td>\n",
       "      <td>intro_0_cs_0</td>\n",
       "    </tr>\n",
       "    <tr>\n",
       "      <th>5890844</th>\n",
       "      <td>21010108291765796</td>\n",
       "      <td>2</td>\n",
       "      <td>25476068</td>\n",
       "      <td>person_click</td>\n",
       "      <td>basic</td>\n",
       "      <td>0</td>\n",
       "      <td>NaN</td>\n",
       "      <td>33.008595</td>\n",
       "      <td>-150.314682</td>\n",
       "      <td>827.0</td>\n",
       "      <td>...</td>\n",
       "      <td>2</td>\n",
       "      <td>3132.0</td>\n",
       "      <td>25476068.0</td>\n",
       "      <td>1.0</td>\n",
       "      <td>0.0</td>\n",
       "      <td>0.0</td>\n",
       "      <td>False</td>\n",
       "      <td>3.0</td>\n",
       "      <td>NaN</td>\n",
       "      <td>intro_0_cs_0</td>\n",
       "    </tr>\n",
       "    <tr>\n",
       "      <th>5890845</th>\n",
       "      <td>21010108291765796</td>\n",
       "      <td>3</td>\n",
       "      <td>25478455</td>\n",
       "      <td>person_click</td>\n",
       "      <td>basic</td>\n",
       "      <td>0</td>\n",
       "      <td>NaN</td>\n",
       "      <td>33.008595</td>\n",
       "      <td>-151.314682</td>\n",
       "      <td>827.0</td>\n",
       "      <td>...</td>\n",
       "      <td>3</td>\n",
       "      <td>2387.0</td>\n",
       "      <td>25478455.0</td>\n",
       "      <td>1.0</td>\n",
       "      <td>0.0</td>\n",
       "      <td>0.0</td>\n",
       "      <td>False</td>\n",
       "      <td>3.0</td>\n",
       "      <td>NaN</td>\n",
       "      <td>intro_0_cs_0</td>\n",
       "    </tr>\n",
       "    <tr>\n",
       "      <th>5890846</th>\n",
       "      <td>21010108291765796</td>\n",
       "      <td>4</td>\n",
       "      <td>25480312</td>\n",
       "      <td>person_click</td>\n",
       "      <td>basic</td>\n",
       "      <td>0</td>\n",
       "      <td>NaN</td>\n",
       "      <td>33.008595</td>\n",
       "      <td>-151.314682</td>\n",
       "      <td>827.0</td>\n",
       "      <td>...</td>\n",
       "      <td>4</td>\n",
       "      <td>1857.0</td>\n",
       "      <td>25480312.0</td>\n",
       "      <td>1.0</td>\n",
       "      <td>0.0</td>\n",
       "      <td>0.0</td>\n",
       "      <td>False</td>\n",
       "      <td>3.0</td>\n",
       "      <td>NaN</td>\n",
       "      <td>intro_0_cs_0</td>\n",
       "    </tr>\n",
       "  </tbody>\n",
       "</table>\n",
       "<p>5 rows × 42 columns</p>\n",
       "</div>"
      ],
      "text/plain": [
       "                session_id  index  elapsed_time      event_name   name  level  \\\n",
       "                                                                                \n",
       "5890842  21010108291765796      0             0  cutscene_click  basic      0   \n",
       "5890843  21010108291765796      1      25472936    person_click  basic      0   \n",
       "5890844  21010108291765796      2      25476068    person_click  basic      0   \n",
       "5890845  21010108291765796      3      25478455    person_click  basic      0   \n",
       "5890846  21010108291765796      4      25480312    person_click  basic      0   \n",
       "\n",
       "         page  room_coor_x  room_coor_y  screen_coor_x  ...  level_step_count  \\\n",
       "                                                        ...                     \n",
       "5890842   NaN  -402.991394    26.685314          391.0  ...                 0   \n",
       "5890843   NaN  -183.991409    -0.314686          610.0  ...                 1   \n",
       "5890844   NaN    33.008595  -150.314682          827.0  ...                 2   \n",
       "5890845   NaN    33.008595  -151.314682          827.0  ...                 3   \n",
       "5890846   NaN    33.008595  -151.314682          827.0  ...                 4   \n",
       "\n",
       "         level_step_time_used level_elapsed_time full_sess_music  \\\n",
       "                                                                   \n",
       "5890842                   0.0                0.0             1.0   \n",
       "5890843            25472936.0         25472936.0             1.0   \n",
       "5890844                3132.0         25476068.0             1.0   \n",
       "5890845                2387.0         25478455.0             1.0   \n",
       "5890846                1857.0         25480312.0             1.0   \n",
       "\n",
       "        full_sess_fullscreen full_sess_hq  text_is_question  \\\n",
       "                                                              \n",
       "5890842                  0.0          0.0             False   \n",
       "5890843                  0.0          0.0              True   \n",
       "5890844                  0.0          0.0             False   \n",
       "5890845                  0.0          0.0             False   \n",
       "5890846                  0.0          0.0             False   \n",
       "\n",
       "         text_is_question_count  level_page_access_count addition_info_fr_id  \n",
       "                                                                              \n",
       "5890842                     3.0                      NaN                 NaN  \n",
       "5890843                     3.0                      NaN        intro_0_cs_0  \n",
       "5890844                     3.0                      NaN        intro_0_cs_0  \n",
       "5890845                     3.0                      NaN        intro_0_cs_0  \n",
       "5890846                     3.0                      NaN        intro_0_cs_0  \n",
       "\n",
       "[5 rows x 42 columns]"
      ]
     },
     "execution_count": 30,
     "metadata": {},
     "output_type": "execute_result"
    }
   ],
   "source": [
    "combined_set['addition_info_fr_id'] = df_checked\n",
    "combined_set['addition_info_fr_id'].replace(['', 'nan'], np.nan, inplace=True)\n",
    "combined_set.head()"
   ]
  },
  {
   "cell_type": "code",
   "execution_count": 31,
   "id": "b416e18d",
   "metadata": {},
   "outputs": [],
   "source": [
    "# convert dummy\n",
    "# Get count of room id\n",
    "# access room how many times per level\n",
    "\n",
    "def q75(x):\n",
    "    return x.quantile(0.75)\n",
    "\n",
    "combined_set['level_additionalinfo_count'] = combined_set.groupby(['session_id', 'level', 'addition_info_fr_id'])['addition_info_fr_id'].transform('count')\n",
    "combined_set['level_additionalinfo_quantile'] = combined_set.groupby(['session_id','level'])['level_additionalinfo_count'].transform(q75)\n",
    "level_additionalinfo_sigcount = combined_set['level_additionalinfo_count'][combined_set['level_additionalinfo_count'].gt(combined_set['level_additionalinfo_quantile'])]\n",
    "level_additionalinfo_sigcount = pd.DataFrame(level_additionalinfo_sigcount).set_axis([\"level_additionalinfo_sigcount\"], axis='columns')\n",
    "combined_set = pd.concat([combined_set, level_additionalinfo_sigcount], axis=1)\n",
    "combined_set.drop(['level_additionalinfo_count', 'level_additionalinfo_quantile'], axis=1, inplace=True)"
   ]
  },
  {
   "cell_type": "code",
   "execution_count": 33,
   "id": "38ee646c",
   "metadata": {},
   "outputs": [],
   "source": [
    "combined_set.to_csv('./student_perf1/after_interim_feature_engineering.csv')"
   ]
  },
  {
   "cell_type": "markdown",
   "id": "e770f187",
   "metadata": {},
   "source": [
    "### Preprocessing for aggregation"
   ]
  },
  {
   "cell_type": "code",
   "execution_count": 34,
   "id": "b61b1efb",
   "metadata": {},
   "outputs": [],
   "source": [
    "reduced_combined_set = combined_set.drop(['index', 'event_name', 'name', \n",
    "                                          'room_coor_x', 'room_coor_y', \n",
    "                                          'screen_coor_x', 'screen_coor_y', 'text',\n",
    "                                         'fqid', 'fullscreen', 'hq', 'music',\n",
    "                                         'text_fqid', 'room_in_sight', 'text_is_question',\n",
    "                                         'level_step_time_used'], axis=1)"
   ]
  },
  {
   "cell_type": "code",
   "execution_count": 35,
   "id": "651d5da0",
   "metadata": {},
   "outputs": [],
   "source": [
    "# reduced_combined_set.to_csv('./student_perf1/reduced_df_before_aggregation.csv')"
   ]
  },
  {
   "cell_type": "code",
   "execution_count": 36,
   "id": "02d38efd",
   "metadata": {},
   "outputs": [],
   "source": [
    "# Pivot categorical columns"
   ]
  },
  {
   "cell_type": "code",
   "execution_count": 37,
   "id": "386e28ec",
   "metadata": {},
   "outputs": [],
   "source": [
    "reduced_combined_set = pd.read_csv('./student_perf1/after_interim_feature_engineering.csv')"
   ]
  },
  {
   "cell_type": "code",
   "execution_count": 38,
   "id": "30376630",
   "metadata": {},
   "outputs": [
    {
     "data": {
      "text/plain": [
       "(2630509, 44)"
      ]
     },
     "execution_count": 38,
     "metadata": {},
     "output_type": "execute_result"
    }
   ],
   "source": [
    "reduced_combined_set.shape"
   ]
  },
  {
   "cell_type": "code",
   "execution_count": 39,
   "id": "6c443672",
   "metadata": {},
   "outputs": [
    {
     "data": {
      "text/plain": [
       "(2630509, 61)"
      ]
     },
     "execution_count": 39,
     "metadata": {},
     "output_type": "execute_result"
    }
   ],
   "source": [
    "# pivot and updown fill room_fqid\n",
    "temp = reduced_combined_set.pivot(columns='room_fqid', values='level_roomfqid_count')\n",
    "temp2 = pd.concat([reduced_combined_set[['session_id', 'level']], temp], axis=1)\n",
    "temp2 = temp2.groupby(['session_id', 'level'])[['session_id', 'level'] + list(pd.Series(list(temp.columns)).explode())].ffill().bfill()\n",
    "temp2.drop(['session_id', 'level'], axis=1, inplace=True)\n",
    "reduced_combined_set = pd.concat([reduced_combined_set, temp2], axis=1).drop(['room_fqid','level_roomfqid_count'], axis=1)\n",
    "reduced_combined_set.shape"
   ]
  },
  {
   "cell_type": "code",
   "execution_count": 40,
   "id": "4b1a8dea",
   "metadata": {},
   "outputs": [
    {
     "data": {
      "text/plain": [
       "(2630509, 68)"
      ]
     },
     "execution_count": 40,
     "metadata": {},
     "output_type": "execute_result"
    }
   ],
   "source": [
    "# pivot event\n",
    "temp = reduced_combined_set.pivot(columns='event', values='level_event_count')\n",
    "temp2 = pd.concat([reduced_combined_set[['session_id', 'level']], temp], axis=1)\n",
    "temp2 = temp2.groupby(['session_id', 'level'])[['session_id', 'level'] + list(pd.Series(list(temp.columns)).explode())].ffill().bfill()\n",
    "temp2.drop(['session_id', 'level'], axis=1, inplace=True)\n",
    "reduced_combined_set = pd.concat([reduced_combined_set, temp2], axis=1).drop(['event','level_event_count'], axis=1)\n",
    "reduced_combined_set.shape"
   ]
  },
  {
   "cell_type": "code",
   "execution_count": 41,
   "id": "0f35c996",
   "metadata": {},
   "outputs": [
    {
     "data": {
      "text/plain": [
       "(2630509, 69)"
      ]
     },
     "execution_count": 41,
     "metadata": {},
     "output_type": "execute_result"
    }
   ],
   "source": [
    "# pivot action\n",
    "temp = reduced_combined_set.pivot(columns='action', values='level_action_count')\n",
    "temp2 = pd.concat([reduced_combined_set[['session_id', 'level']], temp], axis=1)\n",
    "temp2 = temp2.groupby(['session_id', 'level'])[['session_id', 'level'] + list(pd.Series(list(temp.columns)).explode())].ffill().bfill()\n",
    "temp2.drop(['session_id', 'level'], axis=1, inplace=True)\n",
    "reduced_combined_set = pd.concat([reduced_combined_set, temp2], axis=1).drop(['action','level_action_count'], axis=1)\n",
    "reduced_combined_set.shape"
   ]
  },
  {
   "cell_type": "code",
   "execution_count": 42,
   "id": "04c535cf",
   "metadata": {},
   "outputs": [
    {
     "data": {
      "text/plain": [
       "(2630509, 344)"
      ]
     },
     "execution_count": 42,
     "metadata": {},
     "output_type": "execute_result"
    }
   ],
   "source": [
    "#pivot rptevent\n",
    "temp = reduced_combined_set.pivot(columns='rptevent', values='level_rptevent_sigcount')\n",
    "temp2 = pd.concat([reduced_combined_set[['session_id', 'level']], temp], axis=1)\n",
    "temp2 = temp2.groupby(['session_id', 'level'])[['session_id', 'level'] + list(pd.Series(list(temp.columns)).explode())].ffill().bfill()\n",
    "temp2.drop(['session_id', 'level'], axis=1, inplace=True)\n",
    "reduced_combined_set = pd.concat([reduced_combined_set, temp2], axis=1).drop(['rptevent','level_rptevent_sigcount'], axis=1)\n",
    "reduced_combined_set.shape"
   ]
  },
  {
   "cell_type": "code",
   "execution_count": 43,
   "id": "1a4a8970",
   "metadata": {},
   "outputs": [
    {
     "data": {
      "text/plain": [
       "(2630509, 350)"
      ]
     },
     "execution_count": 43,
     "metadata": {},
     "output_type": "execute_result"
    }
   ],
   "source": [
    "#pivot page\n",
    "temp = reduced_combined_set.pivot(columns='page', values='level_page_access_count')\n",
    "temp2 = pd.concat([reduced_combined_set[['session_id', 'level']], temp], axis=1)\n",
    "temp2 = temp2.groupby(['session_id', 'level'])[['session_id', 'level'] + list(pd.Series(list(temp.columns)).explode())].ffill().bfill()\n",
    "temp2.drop(['session_id', 'level'], axis=1, inplace=True)\n",
    "reduced_combined_set = pd.concat([reduced_combined_set, temp2], axis=1).drop(['page','level_page_access_count'], axis=1)\n",
    "reduced_combined_set.shape"
   ]
  },
  {
   "cell_type": "code",
   "execution_count": 44,
   "id": "c113b2be",
   "metadata": {},
   "outputs": [
    {
     "data": {
      "text/plain": [
       "(2630509, 418)"
      ]
     },
     "execution_count": 44,
     "metadata": {},
     "output_type": "execute_result"
    }
   ],
   "source": [
    "#pivot additional info\n",
    "temp = reduced_combined_set.pivot(columns='addition_info_fr_id', values='level_additionalinfo_sigcount')\n",
    "temp2 = pd.concat([reduced_combined_set[['session_id', 'level']], temp], axis=1)\n",
    "temp2 = temp2.groupby(['session_id', 'level'])[['session_id', 'level'] + list(pd.Series(list(temp.columns)).explode())].ffill().bfill()\n",
    "temp2.drop(['session_id', 'level'], axis=1, inplace=True)\n",
    "reduced_combined_set = pd.concat([reduced_combined_set, temp2], axis=1).drop(['addition_info_fr_id','level_additionalinfo_sigcount'], axis=1)\n",
    "reduced_combined_set.shape"
   ]
  },
  {
   "cell_type": "code",
   "execution_count": 61,
   "id": "d82f23aa",
   "metadata": {},
   "outputs": [
    {
     "ename": "MemoryError",
     "evalue": "Unable to allocate 6.19 GiB for an array with shape (316, 2630509) and data type float64",
     "output_type": "error",
     "traceback": [
      "\u001b[1;31m---------------------------------------------------------------------------\u001b[0m",
      "\u001b[1;31mMemoryError\u001b[0m                               Traceback (most recent call last)",
      "Cell \u001b[1;32mIn [61], line 1\u001b[0m\n\u001b[1;32m----> 1\u001b[0m \u001b[43mreduced_combined_set\u001b[49m\u001b[38;5;241;43m.\u001b[39;49m\u001b[43mdrop\u001b[49m\u001b[43m(\u001b[49m\u001b[38;5;124;43m'\u001b[39;49m\u001b[38;5;124;43mUnnamed: 0\u001b[39;49m\u001b[38;5;124;43m'\u001b[39;49m\u001b[43m,\u001b[49m\u001b[43m \u001b[49m\u001b[43maxis\u001b[49m\u001b[38;5;241;43m=\u001b[39;49m\u001b[38;5;241;43m1\u001b[39;49m\u001b[43m,\u001b[49m\u001b[43m \u001b[49m\u001b[43minplace\u001b[49m\u001b[38;5;241;43m=\u001b[39;49m\u001b[38;5;28;43;01mTrue\u001b[39;49;00m\u001b[43m)\u001b[49m\n\u001b[0;32m      2\u001b[0m reduced_combined_set\u001b[38;5;241m.\u001b[39minfo(verbose\u001b[38;5;241m=\u001b[39m\u001b[38;5;28;01mTrue\u001b[39;00m)\n",
      "File \u001b[1;32m~\\.conda\\envs\\tensorflow_gpu\\lib\\site-packages\\pandas\\util\\_decorators.py:331\u001b[0m, in \u001b[0;36mdeprecate_nonkeyword_arguments.<locals>.decorate.<locals>.wrapper\u001b[1;34m(*args, **kwargs)\u001b[0m\n\u001b[0;32m    325\u001b[0m \u001b[38;5;28;01mif\u001b[39;00m \u001b[38;5;28mlen\u001b[39m(args) \u001b[38;5;241m>\u001b[39m num_allow_args:\n\u001b[0;32m    326\u001b[0m     warnings\u001b[38;5;241m.\u001b[39mwarn(\n\u001b[0;32m    327\u001b[0m         msg\u001b[38;5;241m.\u001b[39mformat(arguments\u001b[38;5;241m=\u001b[39m_format_argument_list(allow_args)),\n\u001b[0;32m    328\u001b[0m         \u001b[38;5;167;01mFutureWarning\u001b[39;00m,\n\u001b[0;32m    329\u001b[0m         stacklevel\u001b[38;5;241m=\u001b[39mfind_stack_level(),\n\u001b[0;32m    330\u001b[0m     )\n\u001b[1;32m--> 331\u001b[0m \u001b[38;5;28;01mreturn\u001b[39;00m \u001b[43mfunc\u001b[49m\u001b[43m(\u001b[49m\u001b[38;5;241;43m*\u001b[39;49m\u001b[43margs\u001b[49m\u001b[43m,\u001b[49m\u001b[43m \u001b[49m\u001b[38;5;241;43m*\u001b[39;49m\u001b[38;5;241;43m*\u001b[39;49m\u001b[43mkwargs\u001b[49m\u001b[43m)\u001b[49m\n",
      "File \u001b[1;32m~\\.conda\\envs\\tensorflow_gpu\\lib\\site-packages\\pandas\\core\\frame.py:5388\u001b[0m, in \u001b[0;36mDataFrame.drop\u001b[1;34m(self, labels, axis, index, columns, level, inplace, errors)\u001b[0m\n\u001b[0;32m   5240\u001b[0m \u001b[38;5;129m@deprecate_nonkeyword_arguments\u001b[39m(version\u001b[38;5;241m=\u001b[39m\u001b[38;5;28;01mNone\u001b[39;00m, allowed_args\u001b[38;5;241m=\u001b[39m[\u001b[38;5;124m\"\u001b[39m\u001b[38;5;124mself\u001b[39m\u001b[38;5;124m\"\u001b[39m, \u001b[38;5;124m\"\u001b[39m\u001b[38;5;124mlabels\u001b[39m\u001b[38;5;124m\"\u001b[39m])\n\u001b[0;32m   5241\u001b[0m \u001b[38;5;28;01mdef\u001b[39;00m \u001b[38;5;21mdrop\u001b[39m(  \u001b[38;5;66;03m# type: ignore[override]\u001b[39;00m\n\u001b[0;32m   5242\u001b[0m     \u001b[38;5;28mself\u001b[39m,\n\u001b[1;32m   (...)\u001b[0m\n\u001b[0;32m   5249\u001b[0m     errors: IgnoreRaise \u001b[38;5;241m=\u001b[39m \u001b[38;5;124m\"\u001b[39m\u001b[38;5;124mraise\u001b[39m\u001b[38;5;124m\"\u001b[39m,\n\u001b[0;32m   5250\u001b[0m ) \u001b[38;5;241m-\u001b[39m\u001b[38;5;241m>\u001b[39m DataFrame \u001b[38;5;241m|\u001b[39m \u001b[38;5;28;01mNone\u001b[39;00m:\n\u001b[0;32m   5251\u001b[0m     \u001b[38;5;124;03m\"\"\"\u001b[39;00m\n\u001b[0;32m   5252\u001b[0m \u001b[38;5;124;03m    Drop specified labels from rows or columns.\u001b[39;00m\n\u001b[0;32m   5253\u001b[0m \n\u001b[1;32m   (...)\u001b[0m\n\u001b[0;32m   5386\u001b[0m \u001b[38;5;124;03m            weight  1.0     0.8\u001b[39;00m\n\u001b[0;32m   5387\u001b[0m \u001b[38;5;124;03m    \"\"\"\u001b[39;00m\n\u001b[1;32m-> 5388\u001b[0m     \u001b[38;5;28;01mreturn\u001b[39;00m \u001b[38;5;28;43msuper\u001b[39;49m\u001b[43m(\u001b[49m\u001b[43m)\u001b[49m\u001b[38;5;241;43m.\u001b[39;49m\u001b[43mdrop\u001b[49m\u001b[43m(\u001b[49m\n\u001b[0;32m   5389\u001b[0m \u001b[43m        \u001b[49m\u001b[43mlabels\u001b[49m\u001b[38;5;241;43m=\u001b[39;49m\u001b[43mlabels\u001b[49m\u001b[43m,\u001b[49m\n\u001b[0;32m   5390\u001b[0m \u001b[43m        \u001b[49m\u001b[43maxis\u001b[49m\u001b[38;5;241;43m=\u001b[39;49m\u001b[43maxis\u001b[49m\u001b[43m,\u001b[49m\n\u001b[0;32m   5391\u001b[0m \u001b[43m        \u001b[49m\u001b[43mindex\u001b[49m\u001b[38;5;241;43m=\u001b[39;49m\u001b[43mindex\u001b[49m\u001b[43m,\u001b[49m\n\u001b[0;32m   5392\u001b[0m \u001b[43m        \u001b[49m\u001b[43mcolumns\u001b[49m\u001b[38;5;241;43m=\u001b[39;49m\u001b[43mcolumns\u001b[49m\u001b[43m,\u001b[49m\n\u001b[0;32m   5393\u001b[0m \u001b[43m        \u001b[49m\u001b[43mlevel\u001b[49m\u001b[38;5;241;43m=\u001b[39;49m\u001b[43mlevel\u001b[49m\u001b[43m,\u001b[49m\n\u001b[0;32m   5394\u001b[0m \u001b[43m        \u001b[49m\u001b[43minplace\u001b[49m\u001b[38;5;241;43m=\u001b[39;49m\u001b[43minplace\u001b[49m\u001b[43m,\u001b[49m\n\u001b[0;32m   5395\u001b[0m \u001b[43m        \u001b[49m\u001b[43merrors\u001b[49m\u001b[38;5;241;43m=\u001b[39;49m\u001b[43merrors\u001b[49m\u001b[43m,\u001b[49m\n\u001b[0;32m   5396\u001b[0m \u001b[43m    \u001b[49m\u001b[43m)\u001b[49m\n",
      "File \u001b[1;32m~\\.conda\\envs\\tensorflow_gpu\\lib\\site-packages\\pandas\\util\\_decorators.py:331\u001b[0m, in \u001b[0;36mdeprecate_nonkeyword_arguments.<locals>.decorate.<locals>.wrapper\u001b[1;34m(*args, **kwargs)\u001b[0m\n\u001b[0;32m    325\u001b[0m \u001b[38;5;28;01mif\u001b[39;00m \u001b[38;5;28mlen\u001b[39m(args) \u001b[38;5;241m>\u001b[39m num_allow_args:\n\u001b[0;32m    326\u001b[0m     warnings\u001b[38;5;241m.\u001b[39mwarn(\n\u001b[0;32m    327\u001b[0m         msg\u001b[38;5;241m.\u001b[39mformat(arguments\u001b[38;5;241m=\u001b[39m_format_argument_list(allow_args)),\n\u001b[0;32m    328\u001b[0m         \u001b[38;5;167;01mFutureWarning\u001b[39;00m,\n\u001b[0;32m    329\u001b[0m         stacklevel\u001b[38;5;241m=\u001b[39mfind_stack_level(),\n\u001b[0;32m    330\u001b[0m     )\n\u001b[1;32m--> 331\u001b[0m \u001b[38;5;28;01mreturn\u001b[39;00m \u001b[43mfunc\u001b[49m\u001b[43m(\u001b[49m\u001b[38;5;241;43m*\u001b[39;49m\u001b[43margs\u001b[49m\u001b[43m,\u001b[49m\u001b[43m \u001b[49m\u001b[38;5;241;43m*\u001b[39;49m\u001b[38;5;241;43m*\u001b[39;49m\u001b[43mkwargs\u001b[49m\u001b[43m)\u001b[49m\n",
      "File \u001b[1;32m~\\.conda\\envs\\tensorflow_gpu\\lib\\site-packages\\pandas\\core\\generic.py:4505\u001b[0m, in \u001b[0;36mNDFrame.drop\u001b[1;34m(self, labels, axis, index, columns, level, inplace, errors)\u001b[0m\n\u001b[0;32m   4503\u001b[0m \u001b[38;5;28;01mfor\u001b[39;00m axis, labels \u001b[38;5;129;01min\u001b[39;00m axes\u001b[38;5;241m.\u001b[39mitems():\n\u001b[0;32m   4504\u001b[0m     \u001b[38;5;28;01mif\u001b[39;00m labels \u001b[38;5;129;01mis\u001b[39;00m \u001b[38;5;129;01mnot\u001b[39;00m \u001b[38;5;28;01mNone\u001b[39;00m:\n\u001b[1;32m-> 4505\u001b[0m         obj \u001b[38;5;241m=\u001b[39m \u001b[43mobj\u001b[49m\u001b[38;5;241;43m.\u001b[39;49m\u001b[43m_drop_axis\u001b[49m\u001b[43m(\u001b[49m\u001b[43mlabels\u001b[49m\u001b[43m,\u001b[49m\u001b[43m \u001b[49m\u001b[43maxis\u001b[49m\u001b[43m,\u001b[49m\u001b[43m \u001b[49m\u001b[43mlevel\u001b[49m\u001b[38;5;241;43m=\u001b[39;49m\u001b[43mlevel\u001b[49m\u001b[43m,\u001b[49m\u001b[43m \u001b[49m\u001b[43merrors\u001b[49m\u001b[38;5;241;43m=\u001b[39;49m\u001b[43merrors\u001b[49m\u001b[43m)\u001b[49m\n\u001b[0;32m   4507\u001b[0m \u001b[38;5;28;01mif\u001b[39;00m inplace:\n\u001b[0;32m   4508\u001b[0m     \u001b[38;5;28mself\u001b[39m\u001b[38;5;241m.\u001b[39m_update_inplace(obj)\n",
      "File \u001b[1;32m~\\.conda\\envs\\tensorflow_gpu\\lib\\site-packages\\pandas\\core\\generic.py:4585\u001b[0m, in \u001b[0;36mNDFrame._drop_axis\u001b[1;34m(self, labels, axis, level, errors, only_slice)\u001b[0m\n\u001b[0;32m   4582\u001b[0m     new_axis \u001b[38;5;241m=\u001b[39m axis\u001b[38;5;241m.\u001b[39mtake(indexer)\n\u001b[0;32m   4584\u001b[0m bm_axis \u001b[38;5;241m=\u001b[39m \u001b[38;5;28mself\u001b[39m\u001b[38;5;241m.\u001b[39mndim \u001b[38;5;241m-\u001b[39m axis_num \u001b[38;5;241m-\u001b[39m \u001b[38;5;241m1\u001b[39m\n\u001b[1;32m-> 4585\u001b[0m new_mgr \u001b[38;5;241m=\u001b[39m \u001b[38;5;28;43mself\u001b[39;49m\u001b[38;5;241;43m.\u001b[39;49m\u001b[43m_mgr\u001b[49m\u001b[38;5;241;43m.\u001b[39;49m\u001b[43mreindex_indexer\u001b[49m\u001b[43m(\u001b[49m\n\u001b[0;32m   4586\u001b[0m \u001b[43m    \u001b[49m\u001b[43mnew_axis\u001b[49m\u001b[43m,\u001b[49m\n\u001b[0;32m   4587\u001b[0m \u001b[43m    \u001b[49m\u001b[43mindexer\u001b[49m\u001b[43m,\u001b[49m\n\u001b[0;32m   4588\u001b[0m \u001b[43m    \u001b[49m\u001b[43maxis\u001b[49m\u001b[38;5;241;43m=\u001b[39;49m\u001b[43mbm_axis\u001b[49m\u001b[43m,\u001b[49m\n\u001b[0;32m   4589\u001b[0m \u001b[43m    \u001b[49m\u001b[43mallow_dups\u001b[49m\u001b[38;5;241;43m=\u001b[39;49m\u001b[38;5;28;43;01mTrue\u001b[39;49;00m\u001b[43m,\u001b[49m\n\u001b[0;32m   4590\u001b[0m \u001b[43m    \u001b[49m\u001b[43monly_slice\u001b[49m\u001b[38;5;241;43m=\u001b[39;49m\u001b[43monly_slice\u001b[49m\u001b[43m,\u001b[49m\n\u001b[0;32m   4591\u001b[0m \u001b[43m\u001b[49m\u001b[43m)\u001b[49m\n\u001b[0;32m   4592\u001b[0m result \u001b[38;5;241m=\u001b[39m \u001b[38;5;28mself\u001b[39m\u001b[38;5;241m.\u001b[39m_constructor(new_mgr)\n\u001b[0;32m   4593\u001b[0m \u001b[38;5;28;01mif\u001b[39;00m \u001b[38;5;28mself\u001b[39m\u001b[38;5;241m.\u001b[39mndim \u001b[38;5;241m==\u001b[39m \u001b[38;5;241m1\u001b[39m:\n",
      "File \u001b[1;32m~\\.conda\\envs\\tensorflow_gpu\\lib\\site-packages\\pandas\\core\\internals\\managers.py:735\u001b[0m, in \u001b[0;36mBaseBlockManager.reindex_indexer\u001b[1;34m(self, new_axis, indexer, axis, fill_value, allow_dups, copy, only_slice, use_na_proxy)\u001b[0m\n\u001b[0;32m    732\u001b[0m     \u001b[38;5;28;01mraise\u001b[39;00m \u001b[38;5;167;01mIndexError\u001b[39;00m(\u001b[38;5;124m\"\u001b[39m\u001b[38;5;124mRequested axis not found in manager\u001b[39m\u001b[38;5;124m\"\u001b[39m)\n\u001b[0;32m    734\u001b[0m \u001b[38;5;28;01mif\u001b[39;00m axis \u001b[38;5;241m==\u001b[39m \u001b[38;5;241m0\u001b[39m:\n\u001b[1;32m--> 735\u001b[0m     new_blocks, new_refs \u001b[38;5;241m=\u001b[39m \u001b[38;5;28;43mself\u001b[39;49m\u001b[38;5;241;43m.\u001b[39;49m\u001b[43m_slice_take_blocks_ax0\u001b[49m\u001b[43m(\u001b[49m\n\u001b[0;32m    736\u001b[0m \u001b[43m        \u001b[49m\u001b[43mindexer\u001b[49m\u001b[43m,\u001b[49m\n\u001b[0;32m    737\u001b[0m \u001b[43m        \u001b[49m\u001b[43mfill_value\u001b[49m\u001b[38;5;241;43m=\u001b[39;49m\u001b[43mfill_value\u001b[49m\u001b[43m,\u001b[49m\n\u001b[0;32m    738\u001b[0m \u001b[43m        \u001b[49m\u001b[43monly_slice\u001b[49m\u001b[38;5;241;43m=\u001b[39;49m\u001b[43monly_slice\u001b[49m\u001b[43m,\u001b[49m\n\u001b[0;32m    739\u001b[0m \u001b[43m        \u001b[49m\u001b[43muse_na_proxy\u001b[49m\u001b[38;5;241;43m=\u001b[39;49m\u001b[43muse_na_proxy\u001b[49m\u001b[43m,\u001b[49m\n\u001b[0;32m    740\u001b[0m \u001b[43m    \u001b[49m\u001b[43m)\u001b[49m\n\u001b[0;32m    741\u001b[0m \u001b[38;5;28;01melse\u001b[39;00m:\n\u001b[0;32m    742\u001b[0m     new_blocks \u001b[38;5;241m=\u001b[39m [\n\u001b[0;32m    743\u001b[0m         blk\u001b[38;5;241m.\u001b[39mtake_nd(\n\u001b[0;32m    744\u001b[0m             indexer,\n\u001b[1;32m   (...)\u001b[0m\n\u001b[0;32m    750\u001b[0m         \u001b[38;5;28;01mfor\u001b[39;00m blk \u001b[38;5;129;01min\u001b[39;00m \u001b[38;5;28mself\u001b[39m\u001b[38;5;241m.\u001b[39mblocks\n\u001b[0;32m    751\u001b[0m     ]\n",
      "File \u001b[1;32m~\\.conda\\envs\\tensorflow_gpu\\lib\\site-packages\\pandas\\core\\internals\\managers.py:902\u001b[0m, in \u001b[0;36mBaseBlockManager._slice_take_blocks_ax0\u001b[1;34m(self, slice_or_indexer, fill_value, only_slice, use_na_proxy)\u001b[0m\n\u001b[0;32m    900\u001b[0m         refs\u001b[38;5;241m.\u001b[39mappend(weakref\u001b[38;5;241m.\u001b[39mref(blk))\n\u001b[0;32m    901\u001b[0m \u001b[38;5;28;01melse\u001b[39;00m:\n\u001b[1;32m--> 902\u001b[0m     nb \u001b[38;5;241m=\u001b[39m \u001b[43mblk\u001b[49m\u001b[38;5;241;43m.\u001b[39;49m\u001b[43mtake_nd\u001b[49m\u001b[43m(\u001b[49m\u001b[43mtaker\u001b[49m\u001b[43m,\u001b[49m\u001b[43m \u001b[49m\u001b[43maxis\u001b[49m\u001b[38;5;241;43m=\u001b[39;49m\u001b[38;5;241;43m0\u001b[39;49m\u001b[43m,\u001b[49m\u001b[43m \u001b[49m\u001b[43mnew_mgr_locs\u001b[49m\u001b[38;5;241;43m=\u001b[39;49m\u001b[43mmgr_locs\u001b[49m\u001b[43m)\u001b[49m\n\u001b[0;32m    903\u001b[0m     blocks\u001b[38;5;241m.\u001b[39mappend(nb)\n\u001b[0;32m    904\u001b[0m     refs\u001b[38;5;241m.\u001b[39mappend(\u001b[38;5;28;01mNone\u001b[39;00m)\n",
      "File \u001b[1;32m~\\.conda\\envs\\tensorflow_gpu\\lib\\site-packages\\pandas\\core\\internals\\blocks.py:878\u001b[0m, in \u001b[0;36mBlock.take_nd\u001b[1;34m(self, indexer, axis, new_mgr_locs, fill_value)\u001b[0m\n\u001b[0;32m    875\u001b[0m     allow_fill \u001b[38;5;241m=\u001b[39m \u001b[38;5;28;01mTrue\u001b[39;00m\n\u001b[0;32m    877\u001b[0m \u001b[38;5;66;03m# Note: algos.take_nd has upcast logic similar to coerce_to_target_dtype\u001b[39;00m\n\u001b[1;32m--> 878\u001b[0m new_values \u001b[38;5;241m=\u001b[39m \u001b[43malgos\u001b[49m\u001b[38;5;241;43m.\u001b[39;49m\u001b[43mtake_nd\u001b[49m\u001b[43m(\u001b[49m\n\u001b[0;32m    879\u001b[0m \u001b[43m    \u001b[49m\u001b[43mvalues\u001b[49m\u001b[43m,\u001b[49m\u001b[43m \u001b[49m\u001b[43mindexer\u001b[49m\u001b[43m,\u001b[49m\u001b[43m \u001b[49m\u001b[43maxis\u001b[49m\u001b[38;5;241;43m=\u001b[39;49m\u001b[43maxis\u001b[49m\u001b[43m,\u001b[49m\u001b[43m \u001b[49m\u001b[43mallow_fill\u001b[49m\u001b[38;5;241;43m=\u001b[39;49m\u001b[43mallow_fill\u001b[49m\u001b[43m,\u001b[49m\u001b[43m \u001b[49m\u001b[43mfill_value\u001b[49m\u001b[38;5;241;43m=\u001b[39;49m\u001b[43mfill_value\u001b[49m\n\u001b[0;32m    880\u001b[0m \u001b[43m\u001b[49m\u001b[43m)\u001b[49m\n\u001b[0;32m    882\u001b[0m \u001b[38;5;66;03m# Called from three places in managers, all of which satisfy\u001b[39;00m\n\u001b[0;32m    883\u001b[0m \u001b[38;5;66;03m#  this assertion\u001b[39;00m\n\u001b[0;32m    884\u001b[0m \u001b[38;5;28;01massert\u001b[39;00m \u001b[38;5;129;01mnot\u001b[39;00m (axis \u001b[38;5;241m==\u001b[39m \u001b[38;5;241m0\u001b[39m \u001b[38;5;129;01mand\u001b[39;00m new_mgr_locs \u001b[38;5;129;01mis\u001b[39;00m \u001b[38;5;28;01mNone\u001b[39;00m)\n",
      "File \u001b[1;32m~\\.conda\\envs\\tensorflow_gpu\\lib\\site-packages\\pandas\\core\\array_algos\\take.py:117\u001b[0m, in \u001b[0;36mtake_nd\u001b[1;34m(arr, indexer, axis, fill_value, allow_fill)\u001b[0m\n\u001b[0;32m    114\u001b[0m     \u001b[38;5;28;01mreturn\u001b[39;00m arr\u001b[38;5;241m.\u001b[39mtake(indexer, fill_value\u001b[38;5;241m=\u001b[39mfill_value, allow_fill\u001b[38;5;241m=\u001b[39mallow_fill)\n\u001b[0;32m    116\u001b[0m arr \u001b[38;5;241m=\u001b[39m np\u001b[38;5;241m.\u001b[39masarray(arr)\n\u001b[1;32m--> 117\u001b[0m \u001b[38;5;28;01mreturn\u001b[39;00m \u001b[43m_take_nd_ndarray\u001b[49m\u001b[43m(\u001b[49m\u001b[43marr\u001b[49m\u001b[43m,\u001b[49m\u001b[43m \u001b[49m\u001b[43mindexer\u001b[49m\u001b[43m,\u001b[49m\u001b[43m \u001b[49m\u001b[43maxis\u001b[49m\u001b[43m,\u001b[49m\u001b[43m \u001b[49m\u001b[43mfill_value\u001b[49m\u001b[43m,\u001b[49m\u001b[43m \u001b[49m\u001b[43mallow_fill\u001b[49m\u001b[43m)\u001b[49m\n",
      "File \u001b[1;32m~\\.conda\\envs\\tensorflow_gpu\\lib\\site-packages\\pandas\\core\\array_algos\\take.py:158\u001b[0m, in \u001b[0;36m_take_nd_ndarray\u001b[1;34m(arr, indexer, axis, fill_value, allow_fill)\u001b[0m\n\u001b[0;32m    156\u001b[0m     out \u001b[38;5;241m=\u001b[39m np\u001b[38;5;241m.\u001b[39mempty(out_shape, dtype\u001b[38;5;241m=\u001b[39mdtype, order\u001b[38;5;241m=\u001b[39m\u001b[38;5;124m\"\u001b[39m\u001b[38;5;124mF\u001b[39m\u001b[38;5;124m\"\u001b[39m)\n\u001b[0;32m    157\u001b[0m \u001b[38;5;28;01melse\u001b[39;00m:\n\u001b[1;32m--> 158\u001b[0m     out \u001b[38;5;241m=\u001b[39m \u001b[43mnp\u001b[49m\u001b[38;5;241;43m.\u001b[39;49m\u001b[43mempty\u001b[49m\u001b[43m(\u001b[49m\u001b[43mout_shape\u001b[49m\u001b[43m,\u001b[49m\u001b[43m \u001b[49m\u001b[43mdtype\u001b[49m\u001b[38;5;241;43m=\u001b[39;49m\u001b[43mdtype\u001b[49m\u001b[43m)\u001b[49m\n\u001b[0;32m    160\u001b[0m func \u001b[38;5;241m=\u001b[39m _get_take_nd_function(\n\u001b[0;32m    161\u001b[0m     arr\u001b[38;5;241m.\u001b[39mndim, arr\u001b[38;5;241m.\u001b[39mdtype, out\u001b[38;5;241m.\u001b[39mdtype, axis\u001b[38;5;241m=\u001b[39maxis, mask_info\u001b[38;5;241m=\u001b[39mmask_info\n\u001b[0;32m    162\u001b[0m )\n\u001b[0;32m    163\u001b[0m func(arr, indexer, out, fill_value)\n",
      "\u001b[1;31mMemoryError\u001b[0m: Unable to allocate 6.19 GiB for an array with shape (316, 2630509) and data type float64"
     ]
    }
   ],
   "source": [
    "reduced_combined_set.drop('Unnamed: 0', axis=1, inplace=True)\n",
    "reduced_combined_set.info(verbose=True)"
   ]
  },
  {
   "cell_type": "code",
   "execution_count": 46,
   "id": "cfa14da3",
   "metadata": {},
   "outputs": [],
   "source": [
    "# aggregate to session and level"
   ]
  },
  {
   "cell_type": "code",
   "execution_count": 47,
   "id": "fcc296da",
   "metadata": {
    "scrolled": true
   },
   "outputs": [
    {
     "data": {
      "text/html": [
       "<div>\n",
       "<style scoped>\n",
       "    .dataframe tbody tr th:only-of-type {\n",
       "        vertical-align: middle;\n",
       "    }\n",
       "\n",
       "    .dataframe tbody tr th {\n",
       "        vertical-align: top;\n",
       "    }\n",
       "\n",
       "    .dataframe thead th {\n",
       "        text-align: right;\n",
       "    }\n",
       "</style>\n",
       "<table border=\"1\" class=\"dataframe\">\n",
       "  <thead>\n",
       "    <tr style=\"text-align: right;\">\n",
       "      <th></th>\n",
       "      <th></th>\n",
       "      <th>elapsed_time</th>\n",
       "      <th>hover_duration</th>\n",
       "      <th>room_position_info</th>\n",
       "      <th>room_not_in_sight_count</th>\n",
       "      <th>level_step_count</th>\n",
       "      <th>level_elapsed_time</th>\n",
       "      <th>full_sess_music</th>\n",
       "      <th>full_sess_hq</th>\n",
       "      <th>full_sess_fullscreen</th>\n",
       "      <th>text_is_question_count</th>\n",
       "      <th>level_group</th>\n",
       "      <th>label</th>\n",
       "    </tr>\n",
       "    <tr>\n",
       "      <th>session_id</th>\n",
       "      <th>level</th>\n",
       "      <th></th>\n",
       "      <th></th>\n",
       "      <th></th>\n",
       "      <th></th>\n",
       "      <th></th>\n",
       "      <th></th>\n",
       "      <th></th>\n",
       "      <th></th>\n",
       "      <th></th>\n",
       "      <th></th>\n",
       "      <th></th>\n",
       "      <th></th>\n",
       "    </tr>\n",
       "  </thead>\n",
       "  <tbody>\n",
       "    <tr>\n",
       "      <th rowspan=\"5\" valign=\"top\">22100211280762644</th>\n",
       "      <th>18</th>\n",
       "      <td>1116267</td>\n",
       "      <td>887.000000</td>\n",
       "      <td>996.483957</td>\n",
       "      <td>7979.0</td>\n",
       "      <td>100</td>\n",
       "      <td>116138.0</td>\n",
       "      <td>1.0</td>\n",
       "      <td>0.0</td>\n",
       "      <td>0.0</td>\n",
       "      <td>1111.0</td>\n",
       "      <td>13-22</td>\n",
       "      <td>train</td>\n",
       "    </tr>\n",
       "    <tr>\n",
       "      <th>19</th>\n",
       "      <td>1157483</td>\n",
       "      <td>142.000000</td>\n",
       "      <td>1098.681394</td>\n",
       "      <td>663.0</td>\n",
       "      <td>38</td>\n",
       "      <td>38743.0</td>\n",
       "      <td>1.0</td>\n",
       "      <td>0.0</td>\n",
       "      <td>0.0</td>\n",
       "      <td>195.0</td>\n",
       "      <td>13-22</td>\n",
       "      <td>train</td>\n",
       "    </tr>\n",
       "    <tr>\n",
       "      <th>20</th>\n",
       "      <td>1186960</td>\n",
       "      <td>2609.000000</td>\n",
       "      <td>868.338647</td>\n",
       "      <td>475.0</td>\n",
       "      <td>24</td>\n",
       "      <td>29013.0</td>\n",
       "      <td>1.0</td>\n",
       "      <td>0.0</td>\n",
       "      <td>0.0</td>\n",
       "      <td>25.0</td>\n",
       "      <td>13-22</td>\n",
       "      <td>train</td>\n",
       "    </tr>\n",
       "    <tr>\n",
       "      <th>21</th>\n",
       "      <td>1250189</td>\n",
       "      <td>1339.363636</td>\n",
       "      <td>813.543397</td>\n",
       "      <td>3036.0</td>\n",
       "      <td>68</td>\n",
       "      <td>62716.0</td>\n",
       "      <td>1.0</td>\n",
       "      <td>0.0</td>\n",
       "      <td>0.0</td>\n",
       "      <td>207.0</td>\n",
       "      <td>13-22</td>\n",
       "      <td>train</td>\n",
       "    </tr>\n",
       "    <tr>\n",
       "      <th>22</th>\n",
       "      <td>1263910</td>\n",
       "      <td>266.000000</td>\n",
       "      <td>734.877068</td>\n",
       "      <td>40.0</td>\n",
       "      <td>7</td>\n",
       "      <td>12106.0</td>\n",
       "      <td>1.0</td>\n",
       "      <td>0.0</td>\n",
       "      <td>0.0</td>\n",
       "      <td>24.0</td>\n",
       "      <td>13-22</td>\n",
       "      <td>train</td>\n",
       "    </tr>\n",
       "  </tbody>\n",
       "</table>\n",
       "</div>"
      ],
      "text/plain": [
       "                         elapsed_time  hover_duration  room_position_info  \\\n",
       "session_id        level                                                     \n",
       "22100211280762644 18          1116267      887.000000          996.483957   \n",
       "                  19          1157483      142.000000         1098.681394   \n",
       "                  20          1186960     2609.000000          868.338647   \n",
       "                  21          1250189     1339.363636          813.543397   \n",
       "                  22          1263910      266.000000          734.877068   \n",
       "\n",
       "                         room_not_in_sight_count  level_step_count  \\\n",
       "session_id        level                                              \n",
       "22100211280762644 18                      7979.0               100   \n",
       "                  19                       663.0                38   \n",
       "                  20                       475.0                24   \n",
       "                  21                      3036.0                68   \n",
       "                  22                        40.0                 7   \n",
       "\n",
       "                         level_elapsed_time  full_sess_music  full_sess_hq  \\\n",
       "session_id        level                                                      \n",
       "22100211280762644 18               116138.0              1.0           0.0   \n",
       "                  19                38743.0              1.0           0.0   \n",
       "                  20                29013.0              1.0           0.0   \n",
       "                  21                62716.0              1.0           0.0   \n",
       "                  22                12106.0              1.0           0.0   \n",
       "\n",
       "                         full_sess_fullscreen  text_is_question_count  \\\n",
       "session_id        level                                                 \n",
       "22100211280762644 18                      0.0                  1111.0   \n",
       "                  19                      0.0                   195.0   \n",
       "                  20                      0.0                    25.0   \n",
       "                  21                      0.0                   207.0   \n",
       "                  22                      0.0                    24.0   \n",
       "\n",
       "                        level_group  label  \n",
       "session_id        level                     \n",
       "22100211280762644 18          13-22  train  \n",
       "                  19          13-22  train  \n",
       "                  20          13-22  train  \n",
       "                  21          13-22  train  \n",
       "                  22          13-22  train  "
      ]
     },
     "execution_count": 47,
     "metadata": {},
     "output_type": "execute_result"
    }
   ],
   "source": [
    "agg_combined_set = reduced_combined_set.groupby(['session_id', 'level']).agg({\n",
    "    'elapsed_time': 'max',\n",
    "    'hover_duration': 'mean',\n",
    "    'room_position_info': 'mean',\n",
    "    'room_not_in_sight_count': 'sum',\n",
    "    'level_step_count': 'max',\n",
    "    'level_elapsed_time': 'max',\n",
    "    'full_sess_music': 'mean',\n",
    "    'full_sess_hq': 'mean',\n",
    "    'full_sess_fullscreen': 'mean',\n",
    "    'text_is_question_count': 'sum',\n",
    "    'level_group': 'max',\n",
    "    'label': 'max'\n",
    "})\n",
    "agg_combined_set.tail()"
   ]
  },
  {
   "cell_type": "code",
   "execution_count": 48,
   "id": "846741d1",
   "metadata": {},
   "outputs": [],
   "source": [
    "agg_combined_set.to_csv('./student_perf1/agg_dataset.csv')"
   ]
  },
  {
   "cell_type": "code",
   "execution_count": 49,
   "id": "bfec5910",
   "metadata": {},
   "outputs": [
    {
     "name": "stdout",
     "output_type": "stream",
     "text": [
      "2630509\n",
      "2630509\n"
     ]
    }
   ],
   "source": [
    "#merge pivot set\n",
    "print(len(reduced_combined_set))\n",
    "pivoted_set = reduced_combined_set.set_index(['session_id', 'level']).drop(agg_combined_set.columns, axis=1).drop_duplicates()\n",
    "print(len(pivoted_set))"
   ]
  },
  {
   "cell_type": "code",
   "execution_count": 50,
   "id": "f391becb",
   "metadata": {},
   "outputs": [],
   "source": [
    "# pivoted_set.to_csv('./student_perf1/check_pivotedset.csv')"
   ]
  },
  {
   "cell_type": "code",
   "execution_count": 51,
   "id": "b3858c7c",
   "metadata": {},
   "outputs": [
    {
     "data": {
      "text/html": [
       "<div>\n",
       "<style scoped>\n",
       "    .dataframe tbody tr th:only-of-type {\n",
       "        vertical-align: middle;\n",
       "    }\n",
       "\n",
       "    .dataframe tbody tr th {\n",
       "        vertical-align: top;\n",
       "    }\n",
       "\n",
       "    .dataframe thead th {\n",
       "        text-align: right;\n",
       "    }\n",
       "</style>\n",
       "<table border=\"1\" class=\"dataframe\">\n",
       "  <thead>\n",
       "    <tr style=\"text-align: right;\">\n",
       "      <th></th>\n",
       "      <th></th>\n",
       "      <th>Unnamed: 0</th>\n",
       "      <th>index</th>\n",
       "      <th>event_name</th>\n",
       "      <th>name</th>\n",
       "      <th>room_coor_x</th>\n",
       "      <th>room_coor_y</th>\n",
       "      <th>screen_coor_x</th>\n",
       "      <th>screen_coor_y</th>\n",
       "      <th>text</th>\n",
       "      <th>fqid</th>\n",
       "      <th>...</th>\n",
       "      <th>symbol_recap</th>\n",
       "      <th>takealook</th>\n",
       "      <th>talktogramps</th>\n",
       "      <th>tracks.hub.deer</th>\n",
       "      <th>trapped</th>\n",
       "      <th>wells</th>\n",
       "      <th>wells_recap</th>\n",
       "      <th>wellsbadge.hub</th>\n",
       "      <th>whatdo</th>\n",
       "      <th>writeitup</th>\n",
       "    </tr>\n",
       "    <tr>\n",
       "      <th>session_id</th>\n",
       "      <th>level</th>\n",
       "      <th></th>\n",
       "      <th></th>\n",
       "      <th></th>\n",
       "      <th></th>\n",
       "      <th></th>\n",
       "      <th></th>\n",
       "      <th></th>\n",
       "      <th></th>\n",
       "      <th></th>\n",
       "      <th></th>\n",
       "      <th></th>\n",
       "      <th></th>\n",
       "      <th></th>\n",
       "      <th></th>\n",
       "      <th></th>\n",
       "      <th></th>\n",
       "      <th></th>\n",
       "      <th></th>\n",
       "      <th></th>\n",
       "      <th></th>\n",
       "      <th></th>\n",
       "    </tr>\n",
       "  </thead>\n",
       "  <tbody>\n",
       "    <tr>\n",
       "      <th rowspan=\"5\" valign=\"top\">20110311060547370</th>\n",
       "      <th>22</th>\n",
       "      <td>2463279</td>\n",
       "      <td>1362</td>\n",
       "      <td>map_hover</td>\n",
       "      <td>basic</td>\n",
       "      <td>NaN</td>\n",
       "      <td>NaN</td>\n",
       "      <td>NaN</td>\n",
       "      <td>NaN</td>\n",
       "      <td>NaN</td>\n",
       "      <td>tomap</td>\n",
       "      <td>...</td>\n",
       "      <td>NaN</td>\n",
       "      <td>NaN</td>\n",
       "      <td>NaN</td>\n",
       "      <td>NaN</td>\n",
       "      <td>NaN</td>\n",
       "      <td>NaN</td>\n",
       "      <td>NaN</td>\n",
       "      <td>NaN</td>\n",
       "      <td>NaN</td>\n",
       "      <td>NaN</td>\n",
       "    </tr>\n",
       "    <tr>\n",
       "      <th>22</th>\n",
       "      <td>2463280</td>\n",
       "      <td>1363</td>\n",
       "      <td>map_hover</td>\n",
       "      <td>basic</td>\n",
       "      <td>NaN</td>\n",
       "      <td>NaN</td>\n",
       "      <td>NaN</td>\n",
       "      <td>NaN</td>\n",
       "      <td>NaN</td>\n",
       "      <td>tunic.humanecology</td>\n",
       "      <td>...</td>\n",
       "      <td>NaN</td>\n",
       "      <td>NaN</td>\n",
       "      <td>NaN</td>\n",
       "      <td>NaN</td>\n",
       "      <td>NaN</td>\n",
       "      <td>NaN</td>\n",
       "      <td>NaN</td>\n",
       "      <td>NaN</td>\n",
       "      <td>NaN</td>\n",
       "      <td>NaN</td>\n",
       "    </tr>\n",
       "    <tr>\n",
       "      <th>22</th>\n",
       "      <td>2463281</td>\n",
       "      <td>1364</td>\n",
       "      <td>map_click</td>\n",
       "      <td>undefined</td>\n",
       "      <td>532.57900</td>\n",
       "      <td>49.819336</td>\n",
       "      <td>489.0</td>\n",
       "      <td>299.0</td>\n",
       "      <td>NaN</td>\n",
       "      <td>tunic.capitol_2</td>\n",
       "      <td>...</td>\n",
       "      <td>NaN</td>\n",
       "      <td>NaN</td>\n",
       "      <td>NaN</td>\n",
       "      <td>NaN</td>\n",
       "      <td>NaN</td>\n",
       "      <td>NaN</td>\n",
       "      <td>NaN</td>\n",
       "      <td>NaN</td>\n",
       "      <td>NaN</td>\n",
       "      <td>NaN</td>\n",
       "    </tr>\n",
       "    <tr>\n",
       "      <th>22</th>\n",
       "      <td>2463282</td>\n",
       "      <td>1365</td>\n",
       "      <td>navigate_click</td>\n",
       "      <td>undefined</td>\n",
       "      <td>262.06912</td>\n",
       "      <td>104.882840</td>\n",
       "      <td>429.0</td>\n",
       "      <td>228.0</td>\n",
       "      <td>NaN</td>\n",
       "      <td>chap4_finale_c</td>\n",
       "      <td>...</td>\n",
       "      <td>NaN</td>\n",
       "      <td>NaN</td>\n",
       "      <td>NaN</td>\n",
       "      <td>NaN</td>\n",
       "      <td>NaN</td>\n",
       "      <td>NaN</td>\n",
       "      <td>NaN</td>\n",
       "      <td>NaN</td>\n",
       "      <td>NaN</td>\n",
       "      <td>NaN</td>\n",
       "    </tr>\n",
       "    <tr>\n",
       "      <th>22</th>\n",
       "      <td>2463283</td>\n",
       "      <td>1366</td>\n",
       "      <td>checkpoint</td>\n",
       "      <td>basic</td>\n",
       "      <td>NaN</td>\n",
       "      <td>NaN</td>\n",
       "      <td>NaN</td>\n",
       "      <td>NaN</td>\n",
       "      <td>NaN</td>\n",
       "      <td>chap4_finale_c</td>\n",
       "      <td>...</td>\n",
       "      <td>NaN</td>\n",
       "      <td>NaN</td>\n",
       "      <td>NaN</td>\n",
       "      <td>NaN</td>\n",
       "      <td>NaN</td>\n",
       "      <td>NaN</td>\n",
       "      <td>NaN</td>\n",
       "      <td>NaN</td>\n",
       "      <td>NaN</td>\n",
       "      <td>NaN</td>\n",
       "    </tr>\n",
       "  </tbody>\n",
       "</table>\n",
       "<p>5 rows × 404 columns</p>\n",
       "</div>"
      ],
      "text/plain": [
       "                         Unnamed: 0  index      event_name       name  \\\n",
       "session_id        level                                                 \n",
       "20110311060547370 22        2463279   1362       map_hover      basic   \n",
       "                  22        2463280   1363       map_hover      basic   \n",
       "                  22        2463281   1364       map_click  undefined   \n",
       "                  22        2463282   1365  navigate_click  undefined   \n",
       "                  22        2463283   1366      checkpoint      basic   \n",
       "\n",
       "                         room_coor_x  room_coor_y  screen_coor_x  \\\n",
       "session_id        level                                            \n",
       "20110311060547370 22             NaN          NaN            NaN   \n",
       "                  22             NaN          NaN            NaN   \n",
       "                  22       532.57900    49.819336          489.0   \n",
       "                  22       262.06912   104.882840          429.0   \n",
       "                  22             NaN          NaN            NaN   \n",
       "\n",
       "                         screen_coor_y text                fqid  ...  \\\n",
       "session_id        level                                          ...   \n",
       "20110311060547370 22               NaN  NaN               tomap  ...   \n",
       "                  22               NaN  NaN  tunic.humanecology  ...   \n",
       "                  22             299.0  NaN     tunic.capitol_2  ...   \n",
       "                  22             228.0  NaN      chap4_finale_c  ...   \n",
       "                  22               NaN  NaN      chap4_finale_c  ...   \n",
       "\n",
       "                        symbol_recap  takealook  talktogramps  \\\n",
       "session_id        level                                         \n",
       "20110311060547370 22             NaN        NaN           NaN   \n",
       "                  22             NaN        NaN           NaN   \n",
       "                  22             NaN        NaN           NaN   \n",
       "                  22             NaN        NaN           NaN   \n",
       "                  22             NaN        NaN           NaN   \n",
       "\n",
       "                         tracks.hub.deer  trapped  wells  wells_recap  \\\n",
       "session_id        level                                                 \n",
       "20110311060547370 22                 NaN      NaN    NaN          NaN   \n",
       "                  22                 NaN      NaN    NaN          NaN   \n",
       "                  22                 NaN      NaN    NaN          NaN   \n",
       "                  22                 NaN      NaN    NaN          NaN   \n",
       "                  22                 NaN      NaN    NaN          NaN   \n",
       "\n",
       "                         wellsbadge.hub  whatdo  writeitup  \n",
       "session_id        level                                     \n",
       "20110311060547370 22                NaN     NaN        NaN  \n",
       "                  22                NaN     NaN        NaN  \n",
       "                  22                NaN     NaN        NaN  \n",
       "                  22                NaN     NaN        NaN  \n",
       "                  22                NaN     NaN        NaN  \n",
       "\n",
       "[5 rows x 404 columns]"
      ]
     },
     "execution_count": 51,
     "metadata": {},
     "output_type": "execute_result"
    }
   ],
   "source": [
    "pivoted_set.tail()"
   ]
  },
  {
   "cell_type": "code",
   "execution_count": 57,
   "id": "5be6e73d",
   "metadata": {},
   "outputs": [
    {
     "ename": "InvalidIndexError",
     "evalue": "Reindexing only valid with uniquely valued Index objects",
     "output_type": "error",
     "traceback": [
      "\u001b[1;31m---------------------------------------------------------------------------\u001b[0m",
      "\u001b[1;31mInvalidIndexError\u001b[0m                         Traceback (most recent call last)",
      "Cell \u001b[1;32mIn [57], line 1\u001b[0m\n\u001b[1;32m----> 1\u001b[0m full_agg_set \u001b[38;5;241m=\u001b[39m \u001b[43mpd\u001b[49m\u001b[38;5;241;43m.\u001b[39;49m\u001b[43mconcat\u001b[49m\u001b[43m(\u001b[49m\u001b[43m[\u001b[49m\u001b[43magg_combined_set\u001b[49m\u001b[43m,\u001b[49m\u001b[43m \u001b[49m\u001b[43mpivoted_set\u001b[49m\u001b[43m]\u001b[49m\u001b[43m,\u001b[49m\u001b[43m \u001b[49m\u001b[43maxis\u001b[49m\u001b[38;5;241;43m=\u001b[39;49m\u001b[38;5;241;43m1\u001b[39;49m\u001b[43m)\u001b[49m\n",
      "File \u001b[1;32m~\\.conda\\envs\\tensorflow_gpu\\lib\\site-packages\\pandas\\util\\_decorators.py:331\u001b[0m, in \u001b[0;36mdeprecate_nonkeyword_arguments.<locals>.decorate.<locals>.wrapper\u001b[1;34m(*args, **kwargs)\u001b[0m\n\u001b[0;32m    325\u001b[0m \u001b[38;5;28;01mif\u001b[39;00m \u001b[38;5;28mlen\u001b[39m(args) \u001b[38;5;241m>\u001b[39m num_allow_args:\n\u001b[0;32m    326\u001b[0m     warnings\u001b[38;5;241m.\u001b[39mwarn(\n\u001b[0;32m    327\u001b[0m         msg\u001b[38;5;241m.\u001b[39mformat(arguments\u001b[38;5;241m=\u001b[39m_format_argument_list(allow_args)),\n\u001b[0;32m    328\u001b[0m         \u001b[38;5;167;01mFutureWarning\u001b[39;00m,\n\u001b[0;32m    329\u001b[0m         stacklevel\u001b[38;5;241m=\u001b[39mfind_stack_level(),\n\u001b[0;32m    330\u001b[0m     )\n\u001b[1;32m--> 331\u001b[0m \u001b[38;5;28;01mreturn\u001b[39;00m \u001b[43mfunc\u001b[49m\u001b[43m(\u001b[49m\u001b[38;5;241;43m*\u001b[39;49m\u001b[43margs\u001b[49m\u001b[43m,\u001b[49m\u001b[43m \u001b[49m\u001b[38;5;241;43m*\u001b[39;49m\u001b[38;5;241;43m*\u001b[39;49m\u001b[43mkwargs\u001b[49m\u001b[43m)\u001b[49m\n",
      "File \u001b[1;32m~\\.conda\\envs\\tensorflow_gpu\\lib\\site-packages\\pandas\\core\\reshape\\concat.py:381\u001b[0m, in \u001b[0;36mconcat\u001b[1;34m(objs, axis, join, ignore_index, keys, levels, names, verify_integrity, sort, copy)\u001b[0m\n\u001b[0;32m    159\u001b[0m \u001b[38;5;124;03m\"\"\"\u001b[39;00m\n\u001b[0;32m    160\u001b[0m \u001b[38;5;124;03mConcatenate pandas objects along a particular axis.\u001b[39;00m\n\u001b[0;32m    161\u001b[0m \n\u001b[1;32m   (...)\u001b[0m\n\u001b[0;32m    366\u001b[0m \u001b[38;5;124;03m1   3   4\u001b[39;00m\n\u001b[0;32m    367\u001b[0m \u001b[38;5;124;03m\"\"\"\u001b[39;00m\n\u001b[0;32m    368\u001b[0m op \u001b[38;5;241m=\u001b[39m _Concatenator(\n\u001b[0;32m    369\u001b[0m     objs,\n\u001b[0;32m    370\u001b[0m     axis\u001b[38;5;241m=\u001b[39maxis,\n\u001b[1;32m   (...)\u001b[0m\n\u001b[0;32m    378\u001b[0m     sort\u001b[38;5;241m=\u001b[39msort,\n\u001b[0;32m    379\u001b[0m )\n\u001b[1;32m--> 381\u001b[0m \u001b[38;5;28;01mreturn\u001b[39;00m \u001b[43mop\u001b[49m\u001b[38;5;241;43m.\u001b[39;49m\u001b[43mget_result\u001b[49m\u001b[43m(\u001b[49m\u001b[43m)\u001b[49m\n",
      "File \u001b[1;32m~\\.conda\\envs\\tensorflow_gpu\\lib\\site-packages\\pandas\\core\\reshape\\concat.py:612\u001b[0m, in \u001b[0;36m_Concatenator.get_result\u001b[1;34m(self)\u001b[0m\n\u001b[0;32m    610\u001b[0m         obj_labels \u001b[38;5;241m=\u001b[39m obj\u001b[38;5;241m.\u001b[39maxes[\u001b[38;5;241m1\u001b[39m \u001b[38;5;241m-\u001b[39m ax]\n\u001b[0;32m    611\u001b[0m         \u001b[38;5;28;01mif\u001b[39;00m \u001b[38;5;129;01mnot\u001b[39;00m new_labels\u001b[38;5;241m.\u001b[39mequals(obj_labels):\n\u001b[1;32m--> 612\u001b[0m             indexers[ax] \u001b[38;5;241m=\u001b[39m \u001b[43mobj_labels\u001b[49m\u001b[38;5;241;43m.\u001b[39;49m\u001b[43mget_indexer\u001b[49m\u001b[43m(\u001b[49m\u001b[43mnew_labels\u001b[49m\u001b[43m)\u001b[49m\n\u001b[0;32m    614\u001b[0m     mgrs_indexers\u001b[38;5;241m.\u001b[39mappend((obj\u001b[38;5;241m.\u001b[39m_mgr, indexers))\n\u001b[0;32m    616\u001b[0m new_data \u001b[38;5;241m=\u001b[39m concatenate_managers(\n\u001b[0;32m    617\u001b[0m     mgrs_indexers, \u001b[38;5;28mself\u001b[39m\u001b[38;5;241m.\u001b[39mnew_axes, concat_axis\u001b[38;5;241m=\u001b[39m\u001b[38;5;28mself\u001b[39m\u001b[38;5;241m.\u001b[39mbm_axis, copy\u001b[38;5;241m=\u001b[39m\u001b[38;5;28mself\u001b[39m\u001b[38;5;241m.\u001b[39mcopy\n\u001b[0;32m    618\u001b[0m )\n",
      "File \u001b[1;32m~\\.conda\\envs\\tensorflow_gpu\\lib\\site-packages\\pandas\\core\\indexes\\base.py:3905\u001b[0m, in \u001b[0;36mIndex.get_indexer\u001b[1;34m(self, target, method, limit, tolerance)\u001b[0m\n\u001b[0;32m   3902\u001b[0m \u001b[38;5;28mself\u001b[39m\u001b[38;5;241m.\u001b[39m_check_indexing_method(method, limit, tolerance)\n\u001b[0;32m   3904\u001b[0m \u001b[38;5;28;01mif\u001b[39;00m \u001b[38;5;129;01mnot\u001b[39;00m \u001b[38;5;28mself\u001b[39m\u001b[38;5;241m.\u001b[39m_index_as_unique:\n\u001b[1;32m-> 3905\u001b[0m     \u001b[38;5;28;01mraise\u001b[39;00m InvalidIndexError(\u001b[38;5;28mself\u001b[39m\u001b[38;5;241m.\u001b[39m_requires_unique_msg)\n\u001b[0;32m   3907\u001b[0m \u001b[38;5;28;01mif\u001b[39;00m \u001b[38;5;28mlen\u001b[39m(target) \u001b[38;5;241m==\u001b[39m \u001b[38;5;241m0\u001b[39m:\n\u001b[0;32m   3908\u001b[0m     \u001b[38;5;28;01mreturn\u001b[39;00m np\u001b[38;5;241m.\u001b[39marray([], dtype\u001b[38;5;241m=\u001b[39mnp\u001b[38;5;241m.\u001b[39mintp)\n",
      "\u001b[1;31mInvalidIndexError\u001b[0m: Reindexing only valid with uniquely valued Index objects"
     ]
    }
   ],
   "source": [
    "full_agg_set = pd.concat([agg_combined_set, pivoted_set], axis=1)"
   ]
  },
  {
   "cell_type": "code",
   "execution_count": 60,
   "id": "48a64cff",
   "metadata": {},
   "outputs": [
    {
     "data": {
      "text/plain": [
       "2041"
      ]
     },
     "execution_count": 60,
     "metadata": {},
     "output_type": "execute_result"
    }
   ],
   "source": [
    "import gc\n",
    "gc.collect()"
   ]
  },
  {
   "cell_type": "markdown",
   "id": "e5ce8222",
   "metadata": {},
   "source": [
    "# Explore Aggr Set"
   ]
  },
  {
   "cell_type": "code",
   "execution_count": null,
   "id": "ab9cee1f",
   "metadata": {},
   "outputs": [],
   "source": [
    "full_agg_set.tail()"
   ]
  },
  {
   "cell_type": "code",
   "execution_count": null,
   "id": "33bce4bf",
   "metadata": {},
   "outputs": [],
   "source": [
    "full_agg_set.info(verbose=True, show_counts=True)"
   ]
  },
  {
   "cell_type": "code",
   "execution_count": null,
   "id": "21da7c4e",
   "metadata": {},
   "outputs": [],
   "source": [
    "full_agg_set.to_csv('./student_perf1/full_agg_set.csv')"
   ]
  },
  {
   "cell_type": "code",
   "execution_count": null,
   "id": "6c96d055",
   "metadata": {},
   "outputs": [],
   "source": []
  }
 ],
 "metadata": {
  "kernelspec": {
   "display_name": "Python 3 (ipykernel)",
   "language": "python",
   "name": "python3"
  },
  "language_info": {
   "codemirror_mode": {
    "name": "ipython",
    "version": 3
   },
   "file_extension": ".py",
   "mimetype": "text/x-python",
   "name": "python",
   "nbconvert_exporter": "python",
   "pygments_lexer": "ipython3",
   "version": "3.8.1"
  }
 },
 "nbformat": 4,
 "nbformat_minor": 5
}
