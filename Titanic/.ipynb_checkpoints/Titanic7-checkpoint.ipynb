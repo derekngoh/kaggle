{
 "cells": [
  {
   "cell_type": "markdown",
   "id": "9566a444",
   "metadata": {},
   "source": [
    "# Titanic8 - Improve Titanic7\n",
    "### Reintroduce Multicategory"
   ]
  },
  {
   "cell_type": "markdown",
   "id": "00ace57e",
   "metadata": {},
   "source": [
    "# Feature Engineering"
   ]
  },
  {
   "cell_type": "code",
   "execution_count": 1,
   "id": "db316a27",
   "metadata": {},
   "outputs": [],
   "source": [
    "#Add features to better interpret data and see relationships better\n",
    "###### Remove fare outliers and cluster fare to identify suitable fare groups,\n",
    "###### which might indirectly tell / relate socio-economic class and potential cabin location / quality. (window / no window etc)\n",
    "\n",
    "###### Group age groups into ranges\n",
    "\n",
    "###### Identify potential family relation, family size, unaccompanied minor / teens\n",
    "###### Split family name, group ticket / fares, embarkation\n",
    "\n",
    "###### Impute missing age values and others, considering multiple features, e.g. embarkation, family relation, sibsp, parch etc\n",
    "\n",
    "###### Check cabin is properly assigned; alpha only or alpha num\n"
   ]
  },
  {
   "cell_type": "code",
   "execution_count": 2,
   "id": "240ed391",
   "metadata": {},
   "outputs": [],
   "source": [
    "import pandas as pd\n",
    "import numpy as np"
   ]
  },
  {
   "cell_type": "code",
   "execution_count": 3,
   "id": "5ab16943",
   "metadata": {},
   "outputs": [],
   "source": [
    "titanic_raw_train = pd.read_csv(\"./titanic_data_raw/train.csv\")\n",
    "titanic_raw_test = pd.read_csv(\"./titanic_data_raw/test.csv\")"
   ]
  },
  {
   "cell_type": "code",
   "execution_count": 4,
   "id": "91b4c027",
   "metadata": {},
   "outputs": [],
   "source": [
    "titanic_raw_train['label'] = 'train'\n",
    "titanic_raw_test['label'] = 'test'"
   ]
  },
  {
   "cell_type": "code",
   "execution_count": 5,
   "id": "c717481f",
   "metadata": {},
   "outputs": [],
   "source": [
    "titanic_raw_combined = pd.concat([titanic_raw_train, titanic_raw_test])"
   ]
  },
  {
   "cell_type": "code",
   "execution_count": 6,
   "id": "b9b0efd7",
   "metadata": {},
   "outputs": [
    {
     "name": "stdout",
     "output_type": "stream",
     "text": [
      "Length of df =  1309\n"
     ]
    },
    {
     "data": {
      "text/html": [
       "<div>\n",
       "<style scoped>\n",
       "    .dataframe tbody tr th:only-of-type {\n",
       "        vertical-align: middle;\n",
       "    }\n",
       "\n",
       "    .dataframe tbody tr th {\n",
       "        vertical-align: top;\n",
       "    }\n",
       "\n",
       "    .dataframe thead th {\n",
       "        text-align: right;\n",
       "    }\n",
       "</style>\n",
       "<table border=\"1\" class=\"dataframe\">\n",
       "  <thead>\n",
       "    <tr style=\"text-align: right;\">\n",
       "      <th></th>\n",
       "      <th>PassengerId</th>\n",
       "      <th>Survived</th>\n",
       "      <th>Pclass</th>\n",
       "      <th>Name</th>\n",
       "      <th>Sex</th>\n",
       "      <th>Age</th>\n",
       "      <th>SibSp</th>\n",
       "      <th>Parch</th>\n",
       "      <th>Ticket</th>\n",
       "      <th>Fare</th>\n",
       "      <th>Cabin</th>\n",
       "      <th>Embarked</th>\n",
       "      <th>label</th>\n",
       "    </tr>\n",
       "  </thead>\n",
       "  <tbody>\n",
       "    <tr>\n",
       "      <th>413</th>\n",
       "      <td>1305</td>\n",
       "      <td>NaN</td>\n",
       "      <td>3</td>\n",
       "      <td>Spector, Mr. Woolf</td>\n",
       "      <td>male</td>\n",
       "      <td>NaN</td>\n",
       "      <td>0</td>\n",
       "      <td>0</td>\n",
       "      <td>A.5. 3236</td>\n",
       "      <td>8.0500</td>\n",
       "      <td>NaN</td>\n",
       "      <td>S</td>\n",
       "      <td>test</td>\n",
       "    </tr>\n",
       "    <tr>\n",
       "      <th>414</th>\n",
       "      <td>1306</td>\n",
       "      <td>NaN</td>\n",
       "      <td>1</td>\n",
       "      <td>Oliva y Ocana, Dona. Fermina</td>\n",
       "      <td>female</td>\n",
       "      <td>39.0</td>\n",
       "      <td>0</td>\n",
       "      <td>0</td>\n",
       "      <td>PC 17758</td>\n",
       "      <td>108.9000</td>\n",
       "      <td>C105</td>\n",
       "      <td>C</td>\n",
       "      <td>test</td>\n",
       "    </tr>\n",
       "    <tr>\n",
       "      <th>415</th>\n",
       "      <td>1307</td>\n",
       "      <td>NaN</td>\n",
       "      <td>3</td>\n",
       "      <td>Saether, Mr. Simon Sivertsen</td>\n",
       "      <td>male</td>\n",
       "      <td>38.5</td>\n",
       "      <td>0</td>\n",
       "      <td>0</td>\n",
       "      <td>SOTON/O.Q. 3101262</td>\n",
       "      <td>7.2500</td>\n",
       "      <td>NaN</td>\n",
       "      <td>S</td>\n",
       "      <td>test</td>\n",
       "    </tr>\n",
       "    <tr>\n",
       "      <th>416</th>\n",
       "      <td>1308</td>\n",
       "      <td>NaN</td>\n",
       "      <td>3</td>\n",
       "      <td>Ware, Mr. Frederick</td>\n",
       "      <td>male</td>\n",
       "      <td>NaN</td>\n",
       "      <td>0</td>\n",
       "      <td>0</td>\n",
       "      <td>359309</td>\n",
       "      <td>8.0500</td>\n",
       "      <td>NaN</td>\n",
       "      <td>S</td>\n",
       "      <td>test</td>\n",
       "    </tr>\n",
       "    <tr>\n",
       "      <th>417</th>\n",
       "      <td>1309</td>\n",
       "      <td>NaN</td>\n",
       "      <td>3</td>\n",
       "      <td>Peter, Master. Michael J</td>\n",
       "      <td>male</td>\n",
       "      <td>NaN</td>\n",
       "      <td>1</td>\n",
       "      <td>1</td>\n",
       "      <td>2668</td>\n",
       "      <td>22.3583</td>\n",
       "      <td>NaN</td>\n",
       "      <td>C</td>\n",
       "      <td>test</td>\n",
       "    </tr>\n",
       "  </tbody>\n",
       "</table>\n",
       "</div>"
      ],
      "text/plain": [
       "     PassengerId  Survived  Pclass                          Name     Sex  \\\n",
       "413         1305       NaN       3            Spector, Mr. Woolf    male   \n",
       "414         1306       NaN       1  Oliva y Ocana, Dona. Fermina  female   \n",
       "415         1307       NaN       3  Saether, Mr. Simon Sivertsen    male   \n",
       "416         1308       NaN       3           Ware, Mr. Frederick    male   \n",
       "417         1309       NaN       3      Peter, Master. Michael J    male   \n",
       "\n",
       "      Age  SibSp  Parch              Ticket      Fare Cabin Embarked label  \n",
       "413   NaN      0      0           A.5. 3236    8.0500   NaN        S  test  \n",
       "414  39.0      0      0            PC 17758  108.9000  C105        C  test  \n",
       "415  38.5      0      0  SOTON/O.Q. 3101262    7.2500   NaN        S  test  \n",
       "416   NaN      0      0              359309    8.0500   NaN        S  test  \n",
       "417   NaN      1      1                2668   22.3583   NaN        C  test  "
      ]
     },
     "execution_count": 6,
     "metadata": {},
     "output_type": "execute_result"
    }
   ],
   "source": [
    "print(\"Length of df = \", len(titanic_raw_combined))\n",
    "titanic_raw_combined.tail()"
   ]
  },
  {
   "cell_type": "markdown",
   "id": "6b92b982",
   "metadata": {},
   "source": [
    "### Add family name column"
   ]
  },
  {
   "cell_type": "code",
   "execution_count": 7,
   "id": "df57a3f7",
   "metadata": {},
   "outputs": [],
   "source": [
    "#create family name column\n",
    "titanic_raw_combined[\"LastName\"] = titanic_raw_combined[\"Name\"].str.split(\",\", n=1, expand=True)[0]"
   ]
  },
  {
   "cell_type": "markdown",
   "id": "8bb91688",
   "metadata": {},
   "source": [
    "### Add cabin info columns"
   ]
  },
  {
   "cell_type": "code",
   "execution_count": 8,
   "id": "ade1c073",
   "metadata": {},
   "outputs": [],
   "source": [
    "# check cabin is properly assigned. Fill NaN cabin to 0 for proper processing.\n",
    "titanic_raw_combined[\"Cabin\"] = titanic_raw_combined[\"Cabin\"].replace(np.nan,\"not_assigned\")\n",
    "titanic_raw_combined[\"Cabin\"] = titanic_raw_combined[\"Cabin\"].astype(str)\n",
    "titanic_raw_combined[\"cabin_proper\"] = list(map(lambda x: (not x.isalpha()) & (x.strip().isalnum()), titanic_raw_combined['Cabin']))"
   ]
  },
  {
   "cell_type": "code",
   "execution_count": 9,
   "id": "b8f70a99",
   "metadata": {},
   "outputs": [],
   "source": [
    "titanic_raw_combined[\"multiple_cabin\"] = list(map(lambda x: len(x)>1, titanic_raw_combined[\"Cabin\"].str.split(\" \"))) "
   ]
  },
  {
   "cell_type": "markdown",
   "id": "578e2326",
   "metadata": {},
   "source": [
    "### Impute Embarkation"
   ]
  },
  {
   "cell_type": "code",
   "execution_count": 10,
   "id": "0d092d7d",
   "metadata": {},
   "outputs": [],
   "source": [
    "impute_embarkation_df_full = titanic_raw_combined[['Fare', 'Ticket', 'Embarked', 'Pclass', 'SibSp', 'Parch','label']]"
   ]
  },
  {
   "cell_type": "code",
   "execution_count": 11,
   "id": "47f45f8e",
   "metadata": {},
   "outputs": [
    {
     "name": "stdout",
     "output_type": "stream",
     "text": [
      "<class 'pandas.core.frame.DataFrame'>\n",
      "Int64Index: 1309 entries, 0 to 417\n",
      "Data columns (total 7 columns):\n",
      " #   Column    Non-Null Count  Dtype  \n",
      "---  ------    --------------  -----  \n",
      " 0   Fare      1308 non-null   float64\n",
      " 1   Ticket    1309 non-null   object \n",
      " 2   Embarked  1307 non-null   object \n",
      " 3   Pclass    1309 non-null   int64  \n",
      " 4   SibSp     1309 non-null   int64  \n",
      " 5   Parch     1309 non-null   int64  \n",
      " 6   label     1309 non-null   object \n",
      "dtypes: float64(1), int64(3), object(3)\n",
      "memory usage: 81.8+ KB\n"
     ]
    }
   ],
   "source": [
    "na_mask = impute_embarkation_df_full.isnull()\n",
    "original = impute_embarkation_df_full\n",
    "impute_embarkation_df_full = impute_embarkation_df_full[~na_mask]\n",
    "impute_embarkation_df_full.info()"
   ]
  },
  {
   "cell_type": "code",
   "execution_count": 12,
   "id": "eb1ef734",
   "metadata": {},
   "outputs": [],
   "source": [
    "from sklearn import preprocessing\n",
    "le = preprocessing.LabelEncoder()\n",
    "\n",
    "impute_embarkation_df_full['Ticket'] = le.fit_transform(impute_embarkation_df_full['Ticket'])\n",
    "impute_embarkation_df_full['Embarked'] = le.fit_transform(impute_embarkation_df_full['Embarked'])"
   ]
  },
  {
   "cell_type": "code",
   "execution_count": 13,
   "id": "5472912b",
   "metadata": {},
   "outputs": [],
   "source": [
    "import sklearn.neighbors._base\n",
    "import sys\n",
    "sys.modules['sklearn.neighbors.base'] = sklearn.neighbors._base\n",
    "from missingpy import MissForest\n",
    "\n",
    "imputer_embarked = MissForest()\n",
    "embarked_fit = imputer_embarked.fit(impute_embarkation_df_full[impute_embarkation_df_full['label']=='train'].drop('label', axis=1))"
   ]
  },
  {
   "cell_type": "code",
   "execution_count": 14,
   "id": "17008623",
   "metadata": {},
   "outputs": [
    {
     "name": "stdout",
     "output_type": "stream",
     "text": [
      "<class 'pandas.core.frame.DataFrame'>\n",
      "Int64Index: 1309 entries, 0 to 417\n",
      "Data columns (total 7 columns):\n",
      " #   Column    Non-Null Count  Dtype  \n",
      "---  ------    --------------  -----  \n",
      " 0   Fare      1308 non-null   float64\n",
      " 1   Ticket    1309 non-null   int32  \n",
      " 2   Embarked  1307 non-null   object \n",
      " 3   Pclass    1309 non-null   int64  \n",
      " 4   SibSp     1309 non-null   int64  \n",
      " 5   Parch     1309 non-null   int64  \n",
      " 6   label     1309 non-null   object \n",
      "dtypes: float64(1), int32(1), int64(3), object(2)\n",
      "memory usage: 76.7+ KB\n"
     ]
    }
   ],
   "source": [
    "impute_embarkation_df_full = impute_embarkation_df_full.where(~na_mask, original)\n",
    "impute_embarkation_df_full.info()"
   ]
  },
  {
   "cell_type": "code",
   "execution_count": 15,
   "id": "f098e082",
   "metadata": {},
   "outputs": [
    {
     "name": "stderr",
     "output_type": "stream",
     "text": [
      "C:\\Users\\Personal\\.conda\\envs\\tensorflow_gpu\\lib\\site-packages\\sklearn\\ensemble\\_forest.py:400: FutureWarning: Criterion 'mse' was deprecated in v1.0 and will be removed in version 1.2. Use `criterion='squared_error'` which is equivalent.\n",
      "  warn(\n",
      "C:\\Users\\Personal\\.conda\\envs\\tensorflow_gpu\\lib\\site-packages\\sklearn\\ensemble\\_forest.py:416: FutureWarning: `max_features='auto'` has been deprecated in 1.1 and will be removed in 1.3. To keep the past behaviour, explicitly set `max_features=1.0` or remove this parameter as it is also the default value for RandomForestRegressors and ExtraTreesRegressors.\n",
      "  warn(\n",
      "C:\\Users\\Personal\\.conda\\envs\\tensorflow_gpu\\lib\\site-packages\\sklearn\\ensemble\\_forest.py:400: FutureWarning: Criterion 'mse' was deprecated in v1.0 and will be removed in version 1.2. Use `criterion='squared_error'` which is equivalent.\n",
      "  warn(\n",
      "C:\\Users\\Personal\\.conda\\envs\\tensorflow_gpu\\lib\\site-packages\\sklearn\\ensemble\\_forest.py:416: FutureWarning: `max_features='auto'` has been deprecated in 1.1 and will be removed in 1.3. To keep the past behaviour, explicitly set `max_features=1.0` or remove this parameter as it is also the default value for RandomForestRegressors and ExtraTreesRegressors.\n",
      "  warn(\n"
     ]
    },
    {
     "name": "stdout",
     "output_type": "stream",
     "text": [
      "Iteration: 0\n"
     ]
    },
    {
     "name": "stderr",
     "output_type": "stream",
     "text": [
      "C:\\Users\\Personal\\.conda\\envs\\tensorflow_gpu\\lib\\site-packages\\sklearn\\ensemble\\_forest.py:400: FutureWarning: Criterion 'mse' was deprecated in v1.0 and will be removed in version 1.2. Use `criterion='squared_error'` which is equivalent.\n",
      "  warn(\n",
      "C:\\Users\\Personal\\.conda\\envs\\tensorflow_gpu\\lib\\site-packages\\sklearn\\ensemble\\_forest.py:416: FutureWarning: `max_features='auto'` has been deprecated in 1.1 and will be removed in 1.3. To keep the past behaviour, explicitly set `max_features=1.0` or remove this parameter as it is also the default value for RandomForestRegressors and ExtraTreesRegressors.\n",
      "  warn(\n",
      "C:\\Users\\Personal\\.conda\\envs\\tensorflow_gpu\\lib\\site-packages\\sklearn\\ensemble\\_forest.py:400: FutureWarning: Criterion 'mse' was deprecated in v1.0 and will be removed in version 1.2. Use `criterion='squared_error'` which is equivalent.\n",
      "  warn(\n",
      "C:\\Users\\Personal\\.conda\\envs\\tensorflow_gpu\\lib\\site-packages\\sklearn\\ensemble\\_forest.py:416: FutureWarning: `max_features='auto'` has been deprecated in 1.1 and will be removed in 1.3. To keep the past behaviour, explicitly set `max_features=1.0` or remove this parameter as it is also the default value for RandomForestRegressors and ExtraTreesRegressors.\n",
      "  warn(\n"
     ]
    },
    {
     "name": "stdout",
     "output_type": "stream",
     "text": [
      "Iteration: 1\n"
     ]
    },
    {
     "name": "stderr",
     "output_type": "stream",
     "text": [
      "C:\\Users\\Personal\\.conda\\envs\\tensorflow_gpu\\lib\\site-packages\\sklearn\\ensemble\\_forest.py:400: FutureWarning: Criterion 'mse' was deprecated in v1.0 and will be removed in version 1.2. Use `criterion='squared_error'` which is equivalent.\n",
      "  warn(\n",
      "C:\\Users\\Personal\\.conda\\envs\\tensorflow_gpu\\lib\\site-packages\\sklearn\\ensemble\\_forest.py:416: FutureWarning: `max_features='auto'` has been deprecated in 1.1 and will be removed in 1.3. To keep the past behaviour, explicitly set `max_features=1.0` or remove this parameter as it is also the default value for RandomForestRegressors and ExtraTreesRegressors.\n",
      "  warn(\n",
      "C:\\Users\\Personal\\.conda\\envs\\tensorflow_gpu\\lib\\site-packages\\sklearn\\ensemble\\_forest.py:400: FutureWarning: Criterion 'mse' was deprecated in v1.0 and will be removed in version 1.2. Use `criterion='squared_error'` which is equivalent.\n",
      "  warn(\n",
      "C:\\Users\\Personal\\.conda\\envs\\tensorflow_gpu\\lib\\site-packages\\sklearn\\ensemble\\_forest.py:416: FutureWarning: `max_features='auto'` has been deprecated in 1.1 and will be removed in 1.3. To keep the past behaviour, explicitly set `max_features=1.0` or remove this parameter as it is also the default value for RandomForestRegressors and ExtraTreesRegressors.\n",
      "  warn(\n"
     ]
    },
    {
     "name": "stdout",
     "output_type": "stream",
     "text": [
      "Iteration: 2\n"
     ]
    },
    {
     "name": "stderr",
     "output_type": "stream",
     "text": [
      "C:\\Users\\Personal\\.conda\\envs\\tensorflow_gpu\\lib\\site-packages\\sklearn\\ensemble\\_forest.py:400: FutureWarning: Criterion 'mse' was deprecated in v1.0 and will be removed in version 1.2. Use `criterion='squared_error'` which is equivalent.\n",
      "  warn(\n",
      "C:\\Users\\Personal\\.conda\\envs\\tensorflow_gpu\\lib\\site-packages\\sklearn\\ensemble\\_forest.py:416: FutureWarning: `max_features='auto'` has been deprecated in 1.1 and will be removed in 1.3. To keep the past behaviour, explicitly set `max_features=1.0` or remove this parameter as it is also the default value for RandomForestRegressors and ExtraTreesRegressors.\n",
      "  warn(\n",
      "C:\\Users\\Personal\\.conda\\envs\\tensorflow_gpu\\lib\\site-packages\\sklearn\\ensemble\\_forest.py:400: FutureWarning: Criterion 'mse' was deprecated in v1.0 and will be removed in version 1.2. Use `criterion='squared_error'` which is equivalent.\n",
      "  warn(\n",
      "C:\\Users\\Personal\\.conda\\envs\\tensorflow_gpu\\lib\\site-packages\\sklearn\\ensemble\\_forest.py:416: FutureWarning: `max_features='auto'` has been deprecated in 1.1 and will be removed in 1.3. To keep the past behaviour, explicitly set `max_features=1.0` or remove this parameter as it is also the default value for RandomForestRegressors and ExtraTreesRegressors.\n",
      "  warn(\n"
     ]
    },
    {
     "name": "stdout",
     "output_type": "stream",
     "text": [
      "Iteration: 3\n"
     ]
    },
    {
     "name": "stderr",
     "output_type": "stream",
     "text": [
      "C:\\Users\\Personal\\.conda\\envs\\tensorflow_gpu\\lib\\site-packages\\sklearn\\ensemble\\_forest.py:400: FutureWarning: Criterion 'mse' was deprecated in v1.0 and will be removed in version 1.2. Use `criterion='squared_error'` which is equivalent.\n",
      "  warn(\n",
      "C:\\Users\\Personal\\.conda\\envs\\tensorflow_gpu\\lib\\site-packages\\sklearn\\ensemble\\_forest.py:416: FutureWarning: `max_features='auto'` has been deprecated in 1.1 and will be removed in 1.3. To keep the past behaviour, explicitly set `max_features=1.0` or remove this parameter as it is also the default value for RandomForestRegressors and ExtraTreesRegressors.\n",
      "  warn(\n",
      "C:\\Users\\Personal\\.conda\\envs\\tensorflow_gpu\\lib\\site-packages\\sklearn\\ensemble\\_forest.py:400: FutureWarning: Criterion 'mse' was deprecated in v1.0 and will be removed in version 1.2. Use `criterion='squared_error'` which is equivalent.\n",
      "  warn(\n",
      "C:\\Users\\Personal\\.conda\\envs\\tensorflow_gpu\\lib\\site-packages\\sklearn\\ensemble\\_forest.py:416: FutureWarning: `max_features='auto'` has been deprecated in 1.1 and will be removed in 1.3. To keep the past behaviour, explicitly set `max_features=1.0` or remove this parameter as it is also the default value for RandomForestRegressors and ExtraTreesRegressors.\n",
      "  warn(\n"
     ]
    },
    {
     "name": "stdout",
     "output_type": "stream",
     "text": [
      "Iteration: 4\n"
     ]
    },
    {
     "name": "stderr",
     "output_type": "stream",
     "text": [
      "C:\\Users\\Personal\\.conda\\envs\\tensorflow_gpu\\lib\\site-packages\\sklearn\\ensemble\\_forest.py:400: FutureWarning: Criterion 'mse' was deprecated in v1.0 and will be removed in version 1.2. Use `criterion='squared_error'` which is equivalent.\n",
      "  warn(\n",
      "C:\\Users\\Personal\\.conda\\envs\\tensorflow_gpu\\lib\\site-packages\\sklearn\\ensemble\\_forest.py:416: FutureWarning: `max_features='auto'` has been deprecated in 1.1 and will be removed in 1.3. To keep the past behaviour, explicitly set `max_features=1.0` or remove this parameter as it is also the default value for RandomForestRegressors and ExtraTreesRegressors.\n",
      "  warn(\n",
      "C:\\Users\\Personal\\.conda\\envs\\tensorflow_gpu\\lib\\site-packages\\sklearn\\ensemble\\_forest.py:400: FutureWarning: Criterion 'mse' was deprecated in v1.0 and will be removed in version 1.2. Use `criterion='squared_error'` which is equivalent.\n",
      "  warn(\n",
      "C:\\Users\\Personal\\.conda\\envs\\tensorflow_gpu\\lib\\site-packages\\sklearn\\ensemble\\_forest.py:416: FutureWarning: `max_features='auto'` has been deprecated in 1.1 and will be removed in 1.3. To keep the past behaviour, explicitly set `max_features=1.0` or remove this parameter as it is also the default value for RandomForestRegressors and ExtraTreesRegressors.\n",
      "  warn(\n"
     ]
    },
    {
     "name": "stdout",
     "output_type": "stream",
     "text": [
      "Iteration: 5\n"
     ]
    },
    {
     "name": "stderr",
     "output_type": "stream",
     "text": [
      "C:\\Users\\Personal\\.conda\\envs\\tensorflow_gpu\\lib\\site-packages\\sklearn\\ensemble\\_forest.py:400: FutureWarning: Criterion 'mse' was deprecated in v1.0 and will be removed in version 1.2. Use `criterion='squared_error'` which is equivalent.\n",
      "  warn(\n",
      "C:\\Users\\Personal\\.conda\\envs\\tensorflow_gpu\\lib\\site-packages\\sklearn\\ensemble\\_forest.py:416: FutureWarning: `max_features='auto'` has been deprecated in 1.1 and will be removed in 1.3. To keep the past behaviour, explicitly set `max_features=1.0` or remove this parameter as it is also the default value for RandomForestRegressors and ExtraTreesRegressors.\n",
      "  warn(\n",
      "C:\\Users\\Personal\\.conda\\envs\\tensorflow_gpu\\lib\\site-packages\\sklearn\\ensemble\\_forest.py:400: FutureWarning: Criterion 'mse' was deprecated in v1.0 and will be removed in version 1.2. Use `criterion='squared_error'` which is equivalent.\n",
      "  warn(\n",
      "C:\\Users\\Personal\\.conda\\envs\\tensorflow_gpu\\lib\\site-packages\\sklearn\\ensemble\\_forest.py:416: FutureWarning: `max_features='auto'` has been deprecated in 1.1 and will be removed in 1.3. To keep the past behaviour, explicitly set `max_features=1.0` or remove this parameter as it is also the default value for RandomForestRegressors and ExtraTreesRegressors.\n",
      "  warn(\n"
     ]
    },
    {
     "name": "stdout",
     "output_type": "stream",
     "text": [
      "Iteration: 6\n"
     ]
    }
   ],
   "source": [
    "embarked_imputed = imputer_embarked.transform(impute_embarkation_df_full.drop('label', axis=1))"
   ]
  },
  {
   "cell_type": "code",
   "execution_count": 16,
   "id": "2a0e9c1e",
   "metadata": {},
   "outputs": [],
   "source": [
    "titanic_raw_combined['Embarked'] = le.inverse_transform(embarked_imputed[:, 2].round(0).astype('int64'))\n",
    "titanic_raw_combined['Fare'] = embarked_imputed[:, 0]"
   ]
  },
  {
   "cell_type": "markdown",
   "id": "0a0cb3db",
   "metadata": {},
   "source": [
    "### Add potential family relationship"
   ]
  },
  {
   "cell_type": "code",
   "execution_count": 17,
   "id": "66d29be6",
   "metadata": {},
   "outputs": [],
   "source": [
    "#is potential family when they have the following in common\n",
    "### same surname\n",
    "### same embarkation\n",
    "### same ticket\n",
    "### same fare\n",
    "\n",
    "titanic_raw_combined['family_number'] = titanic_raw_combined.groupby(['LastName', 'Ticket', 'Fare', 'Pclass', 'Embarked']).ngroup()"
   ]
  },
  {
   "cell_type": "code",
   "execution_count": 18,
   "id": "47da95a8",
   "metadata": {},
   "outputs": [],
   "source": [
    "#count family member. greater than 1 means a family, one means single.\n",
    "titanic_raw_combined['family_memb_count'] = titanic_raw_combined.groupby(['family_number'])['family_number'].transform('count')"
   ]
  },
  {
   "cell_type": "code",
   "execution_count": 19,
   "id": "b51d4858",
   "metadata": {},
   "outputs": [],
   "source": [
    "titanic_raw_combined[\"has_family\"] = list(map(lambda x: (x>1), titanic_raw_combined['family_memb_count']))"
   ]
  },
  {
   "cell_type": "code",
   "execution_count": 20,
   "id": "f3fcb437",
   "metadata": {},
   "outputs": [
    {
     "name": "stdout",
     "output_type": "stream",
     "text": [
      "<class 'pandas.core.frame.DataFrame'>\n",
      "Int64Index: 1309 entries, 0 to 417\n",
      "Data columns (total 19 columns):\n",
      " #   Column             Non-Null Count  Dtype  \n",
      "---  ------             --------------  -----  \n",
      " 0   PassengerId        1309 non-null   int64  \n",
      " 1   Survived           891 non-null    float64\n",
      " 2   Pclass             1309 non-null   int64  \n",
      " 3   Name               1309 non-null   object \n",
      " 4   Sex                1309 non-null   object \n",
      " 5   Age                1046 non-null   float64\n",
      " 6   SibSp              1309 non-null   int64  \n",
      " 7   Parch              1309 non-null   int64  \n",
      " 8   Ticket             1309 non-null   object \n",
      " 9   Fare               1309 non-null   float64\n",
      " 10  Cabin              1309 non-null   object \n",
      " 11  Embarked           1309 non-null   object \n",
      " 12  label              1309 non-null   object \n",
      " 13  LastName           1309 non-null   object \n",
      " 14  cabin_proper       1309 non-null   bool   \n",
      " 15  multiple_cabin     1309 non-null   bool   \n",
      " 16  family_number      1309 non-null   int64  \n",
      " 17  family_memb_count  1309 non-null   int64  \n",
      " 18  has_family         1309 non-null   bool   \n",
      "dtypes: bool(3), float64(3), int64(6), object(7)\n",
      "memory usage: 177.7+ KB\n"
     ]
    }
   ],
   "source": [
    "titanic_raw_combined.info()"
   ]
  },
  {
   "cell_type": "markdown",
   "id": "70f55b58",
   "metadata": {},
   "source": [
    "### Add potential friendship"
   ]
  },
  {
   "cell_type": "code",
   "execution_count": 21,
   "id": "544b87c5",
   "metadata": {},
   "outputs": [],
   "source": [
    "#is potential family when they have the following in common\n",
    "### different surname\n",
    "### same embarkation\n",
    "### same ticket\n",
    "### same fare\n",
    "\n",
    "titanic_raw_combined['friend_number'] = titanic_raw_combined.groupby(['Ticket', 'Fare', 'Pclass', 'Embarked']).ngroup()\n",
    "titanic_raw_combined['friends_count'] = titanic_raw_combined.groupby(['friend_number'])['family_number'].transform('count')\n",
    "titanic_raw_combined['friends_count'] = titanic_raw_combined['friends_count'].replace(np.nan, 0)"
   ]
  },
  {
   "cell_type": "code",
   "execution_count": 22,
   "id": "435f3bc6",
   "metadata": {},
   "outputs": [
    {
     "name": "stderr",
     "output_type": "stream",
     "text": [
      "C:\\Users\\Personal\\AppData\\Local\\Temp\\ipykernel_11388\\1677190393.py:2: SettingWithCopyWarning: \n",
      "A value is trying to be set on a copy of a slice from a DataFrame.\n",
      "Try using .loc[row_indexer,col_indexer] = value instead\n",
      "\n",
      "See the caveats in the documentation: https://pandas.pydata.org/pandas-docs/stable/user_guide/indexing.html#returning-a-view-versus-a-copy\n",
      "  has_friend_df['has_friend'] = True\n"
     ]
    }
   ],
   "source": [
    "has_friend_df = titanic_raw_combined[(titanic_raw_combined['friends_count']>1) & (titanic_raw_combined['has_family']==False)]\n",
    "has_friend_df['has_friend'] = True "
   ]
  },
  {
   "cell_type": "code",
   "execution_count": 23,
   "id": "e7c3e5be",
   "metadata": {},
   "outputs": [
    {
     "data": {
      "text/html": [
       "<div>\n",
       "<style scoped>\n",
       "    .dataframe tbody tr th:only-of-type {\n",
       "        vertical-align: middle;\n",
       "    }\n",
       "\n",
       "    .dataframe tbody tr th {\n",
       "        vertical-align: top;\n",
       "    }\n",
       "\n",
       "    .dataframe thead th {\n",
       "        text-align: right;\n",
       "    }\n",
       "</style>\n",
       "<table border=\"1\" class=\"dataframe\">\n",
       "  <thead>\n",
       "    <tr style=\"text-align: right;\">\n",
       "      <th></th>\n",
       "      <th>PassengerId</th>\n",
       "      <th>Survived</th>\n",
       "      <th>Pclass</th>\n",
       "      <th>Name</th>\n",
       "      <th>Sex</th>\n",
       "      <th>Age</th>\n",
       "      <th>SibSp</th>\n",
       "      <th>Parch</th>\n",
       "      <th>Ticket</th>\n",
       "      <th>Fare</th>\n",
       "      <th>...</th>\n",
       "      <th>label</th>\n",
       "      <th>LastName</th>\n",
       "      <th>cabin_proper</th>\n",
       "      <th>multiple_cabin</th>\n",
       "      <th>family_number</th>\n",
       "      <th>family_memb_count</th>\n",
       "      <th>has_family</th>\n",
       "      <th>friend_number</th>\n",
       "      <th>friends_count</th>\n",
       "      <th>has_friend</th>\n",
       "    </tr>\n",
       "  </thead>\n",
       "  <tbody>\n",
       "    <tr>\n",
       "      <th>2</th>\n",
       "      <td>75</td>\n",
       "      <td>1.0</td>\n",
       "      <td>3</td>\n",
       "      <td>Bing, Mr. Lee</td>\n",
       "      <td>male</td>\n",
       "      <td>32.0</td>\n",
       "      <td>0</td>\n",
       "      <td>0</td>\n",
       "      <td>1601</td>\n",
       "      <td>56.4958</td>\n",
       "      <td>...</td>\n",
       "      <td>train</td>\n",
       "      <td>Bing</td>\n",
       "      <td>False</td>\n",
       "      <td>False</td>\n",
       "      <td>88</td>\n",
       "      <td>1</td>\n",
       "      <td>False</td>\n",
       "      <td>105</td>\n",
       "      <td>8</td>\n",
       "      <td>True</td>\n",
       "    </tr>\n",
       "    <tr>\n",
       "      <th>3</th>\n",
       "      <td>170</td>\n",
       "      <td>0.0</td>\n",
       "      <td>3</td>\n",
       "      <td>Ling, Mr. Lee</td>\n",
       "      <td>male</td>\n",
       "      <td>28.0</td>\n",
       "      <td>0</td>\n",
       "      <td>0</td>\n",
       "      <td>1601</td>\n",
       "      <td>56.4958</td>\n",
       "      <td>...</td>\n",
       "      <td>train</td>\n",
       "      <td>Ling</td>\n",
       "      <td>False</td>\n",
       "      <td>False</td>\n",
       "      <td>558</td>\n",
       "      <td>1</td>\n",
       "      <td>False</td>\n",
       "      <td>105</td>\n",
       "      <td>8</td>\n",
       "      <td>True</td>\n",
       "    </tr>\n",
       "    <tr>\n",
       "      <th>4</th>\n",
       "      <td>510</td>\n",
       "      <td>1.0</td>\n",
       "      <td>3</td>\n",
       "      <td>Lang, Mr. Fang</td>\n",
       "      <td>male</td>\n",
       "      <td>26.0</td>\n",
       "      <td>0</td>\n",
       "      <td>0</td>\n",
       "      <td>1601</td>\n",
       "      <td>56.4958</td>\n",
       "      <td>...</td>\n",
       "      <td>train</td>\n",
       "      <td>Lang</td>\n",
       "      <td>False</td>\n",
       "      <td>False</td>\n",
       "      <td>528</td>\n",
       "      <td>1</td>\n",
       "      <td>False</td>\n",
       "      <td>105</td>\n",
       "      <td>8</td>\n",
       "      <td>True</td>\n",
       "    </tr>\n",
       "    <tr>\n",
       "      <th>5</th>\n",
       "      <td>644</td>\n",
       "      <td>1.0</td>\n",
       "      <td>3</td>\n",
       "      <td>Foo, Mr. Choong</td>\n",
       "      <td>male</td>\n",
       "      <td>NaN</td>\n",
       "      <td>0</td>\n",
       "      <td>0</td>\n",
       "      <td>1601</td>\n",
       "      <td>56.4958</td>\n",
       "      <td>...</td>\n",
       "      <td>train</td>\n",
       "      <td>Foo</td>\n",
       "      <td>False</td>\n",
       "      <td>False</td>\n",
       "      <td>310</td>\n",
       "      <td>1</td>\n",
       "      <td>False</td>\n",
       "      <td>105</td>\n",
       "      <td>8</td>\n",
       "      <td>True</td>\n",
       "    </tr>\n",
       "    <tr>\n",
       "      <th>8</th>\n",
       "      <td>839</td>\n",
       "      <td>1.0</td>\n",
       "      <td>3</td>\n",
       "      <td>Chip, Mr. Chang</td>\n",
       "      <td>male</td>\n",
       "      <td>32.0</td>\n",
       "      <td>0</td>\n",
       "      <td>0</td>\n",
       "      <td>1601</td>\n",
       "      <td>56.4958</td>\n",
       "      <td>...</td>\n",
       "      <td>train</td>\n",
       "      <td>Chip</td>\n",
       "      <td>False</td>\n",
       "      <td>False</td>\n",
       "      <td>178</td>\n",
       "      <td>1</td>\n",
       "      <td>False</td>\n",
       "      <td>105</td>\n",
       "      <td>8</td>\n",
       "      <td>True</td>\n",
       "    </tr>\n",
       "    <tr>\n",
       "      <th>...</th>\n",
       "      <td>...</td>\n",
       "      <td>...</td>\n",
       "      <td>...</td>\n",
       "      <td>...</td>\n",
       "      <td>...</td>\n",
       "      <td>...</td>\n",
       "      <td>...</td>\n",
       "      <td>...</td>\n",
       "      <td>...</td>\n",
       "      <td>...</td>\n",
       "      <td>...</td>\n",
       "      <td>...</td>\n",
       "      <td>...</td>\n",
       "      <td>...</td>\n",
       "      <td>...</td>\n",
       "      <td>...</td>\n",
       "      <td>...</td>\n",
       "      <td>...</td>\n",
       "      <td>...</td>\n",
       "      <td>...</td>\n",
       "      <td>...</td>\n",
       "    </tr>\n",
       "    <tr>\n",
       "      <th>372</th>\n",
       "      <td>1264</td>\n",
       "      <td>NaN</td>\n",
       "      <td>1</td>\n",
       "      <td>Ismay, Mr. Joseph Bruce</td>\n",
       "      <td>male</td>\n",
       "      <td>49.0</td>\n",
       "      <td>0</td>\n",
       "      <td>0</td>\n",
       "      <td>112058</td>\n",
       "      <td>0.0000</td>\n",
       "      <td>...</td>\n",
       "      <td>test</td>\n",
       "      <td>Ismay</td>\n",
       "      <td>False</td>\n",
       "      <td>True</td>\n",
       "      <td>446</td>\n",
       "      <td>1</td>\n",
       "      <td>False</td>\n",
       "      <td>19</td>\n",
       "      <td>2</td>\n",
       "      <td>True</td>\n",
       "    </tr>\n",
       "    <tr>\n",
       "      <th>375</th>\n",
       "      <td>1267</td>\n",
       "      <td>NaN</td>\n",
       "      <td>1</td>\n",
       "      <td>Bowen, Miss. Grace Scott</td>\n",
       "      <td>female</td>\n",
       "      <td>45.0</td>\n",
       "      <td>0</td>\n",
       "      <td>0</td>\n",
       "      <td>PC 17608</td>\n",
       "      <td>262.3750</td>\n",
       "      <td>...</td>\n",
       "      <td>test</td>\n",
       "      <td>Bowen</td>\n",
       "      <td>False</td>\n",
       "      <td>False</td>\n",
       "      <td>108</td>\n",
       "      <td>1</td>\n",
       "      <td>False</td>\n",
       "      <td>826</td>\n",
       "      <td>7</td>\n",
       "      <td>True</td>\n",
       "    </tr>\n",
       "    <tr>\n",
       "      <th>390</th>\n",
       "      <td>1282</td>\n",
       "      <td>NaN</td>\n",
       "      <td>1</td>\n",
       "      <td>Payne, Mr. Vivian Ponsonby</td>\n",
       "      <td>male</td>\n",
       "      <td>23.0</td>\n",
       "      <td>0</td>\n",
       "      <td>0</td>\n",
       "      <td>12749</td>\n",
       "      <td>93.5000</td>\n",
       "      <td>...</td>\n",
       "      <td>test</td>\n",
       "      <td>Payne</td>\n",
       "      <td>True</td>\n",
       "      <td>False</td>\n",
       "      <td>740</td>\n",
       "      <td>1</td>\n",
       "      <td>False</td>\n",
       "      <td>87</td>\n",
       "      <td>4</td>\n",
       "      <td>True</td>\n",
       "    </tr>\n",
       "    <tr>\n",
       "      <th>400</th>\n",
       "      <td>1292</td>\n",
       "      <td>NaN</td>\n",
       "      <td>1</td>\n",
       "      <td>Bonnell, Miss. Caroline</td>\n",
       "      <td>female</td>\n",
       "      <td>30.0</td>\n",
       "      <td>0</td>\n",
       "      <td>0</td>\n",
       "      <td>36928</td>\n",
       "      <td>164.8667</td>\n",
       "      <td>...</td>\n",
       "      <td>test</td>\n",
       "      <td>Bonnell</td>\n",
       "      <td>True</td>\n",
       "      <td>False</td>\n",
       "      <td>99</td>\n",
       "      <td>1</td>\n",
       "      <td>False</td>\n",
       "      <td>627</td>\n",
       "      <td>4</td>\n",
       "      <td>True</td>\n",
       "    </tr>\n",
       "    <tr>\n",
       "      <th>414</th>\n",
       "      <td>1306</td>\n",
       "      <td>NaN</td>\n",
       "      <td>1</td>\n",
       "      <td>Oliva y Ocana, Dona. Fermina</td>\n",
       "      <td>female</td>\n",
       "      <td>39.0</td>\n",
       "      <td>0</td>\n",
       "      <td>0</td>\n",
       "      <td>PC 17758</td>\n",
       "      <td>108.9000</td>\n",
       "      <td>...</td>\n",
       "      <td>test</td>\n",
       "      <td>Oliva y Ocana</td>\n",
       "      <td>True</td>\n",
       "      <td>False</td>\n",
       "      <td>707</td>\n",
       "      <td>1</td>\n",
       "      <td>False</td>\n",
       "      <td>836</td>\n",
       "      <td>3</td>\n",
       "      <td>True</td>\n",
       "    </tr>\n",
       "  </tbody>\n",
       "</table>\n",
       "<p>130 rows × 22 columns</p>\n",
       "</div>"
      ],
      "text/plain": [
       "     PassengerId  Survived  Pclass                          Name     Sex  \\\n",
       "2             75       1.0       3                 Bing, Mr. Lee    male   \n",
       "3            170       0.0       3                 Ling, Mr. Lee    male   \n",
       "4            510       1.0       3                Lang, Mr. Fang    male   \n",
       "5            644       1.0       3               Foo, Mr. Choong    male   \n",
       "8            839       1.0       3               Chip, Mr. Chang    male   \n",
       "..           ...       ...     ...                           ...     ...   \n",
       "372         1264       NaN       1       Ismay, Mr. Joseph Bruce    male   \n",
       "375         1267       NaN       1      Bowen, Miss. Grace Scott  female   \n",
       "390         1282       NaN       1    Payne, Mr. Vivian Ponsonby    male   \n",
       "400         1292       NaN       1       Bonnell, Miss. Caroline  female   \n",
       "414         1306       NaN       1  Oliva y Ocana, Dona. Fermina  female   \n",
       "\n",
       "      Age  SibSp  Parch    Ticket      Fare  ...  label       LastName  \\\n",
       "2    32.0      0      0      1601   56.4958  ...  train           Bing   \n",
       "3    28.0      0      0      1601   56.4958  ...  train           Ling   \n",
       "4    26.0      0      0      1601   56.4958  ...  train           Lang   \n",
       "5     NaN      0      0      1601   56.4958  ...  train            Foo   \n",
       "8    32.0      0      0      1601   56.4958  ...  train           Chip   \n",
       "..    ...    ...    ...       ...       ...  ...    ...            ...   \n",
       "372  49.0      0      0    112058    0.0000  ...   test          Ismay   \n",
       "375  45.0      0      0  PC 17608  262.3750  ...   test          Bowen   \n",
       "390  23.0      0      0     12749   93.5000  ...   test          Payne   \n",
       "400  30.0      0      0     36928  164.8667  ...   test        Bonnell   \n",
       "414  39.0      0      0  PC 17758  108.9000  ...   test  Oliva y Ocana   \n",
       "\n",
       "    cabin_proper multiple_cabin  family_number  family_memb_count  has_family  \\\n",
       "2          False          False             88                  1       False   \n",
       "3          False          False            558                  1       False   \n",
       "4          False          False            528                  1       False   \n",
       "5          False          False            310                  1       False   \n",
       "8          False          False            178                  1       False   \n",
       "..           ...            ...            ...                ...         ...   \n",
       "372        False           True            446                  1       False   \n",
       "375        False          False            108                  1       False   \n",
       "390         True          False            740                  1       False   \n",
       "400         True          False             99                  1       False   \n",
       "414         True          False            707                  1       False   \n",
       "\n",
       "     friend_number  friends_count  has_friend  \n",
       "2              105              8        True  \n",
       "3              105              8        True  \n",
       "4              105              8        True  \n",
       "5              105              8        True  \n",
       "8              105              8        True  \n",
       "..             ...            ...         ...  \n",
       "372             19              2        True  \n",
       "375            826              7        True  \n",
       "390             87              4        True  \n",
       "400            627              4        True  \n",
       "414            836              3        True  \n",
       "\n",
       "[130 rows x 22 columns]"
      ]
     },
     "execution_count": 23,
     "metadata": {},
     "output_type": "execute_result"
    }
   ],
   "source": [
    "has_friend_df"
   ]
  },
  {
   "cell_type": "code",
   "execution_count": 24,
   "id": "052ba383",
   "metadata": {},
   "outputs": [],
   "source": [
    "titanic_raw_combined = titanic_raw_combined.merge(has_friend_df[['PassengerId','has_friend']], how='left', on='PassengerId')\n",
    "titanic_raw_combined['has_friend'] = titanic_raw_combined['has_friend'].replace(np.nan, False)"
   ]
  },
  {
   "cell_type": "code",
   "execution_count": 25,
   "id": "8e30b3bc",
   "metadata": {},
   "outputs": [
    {
     "data": {
      "text/html": [
       "<div>\n",
       "<style scoped>\n",
       "    .dataframe tbody tr th:only-of-type {\n",
       "        vertical-align: middle;\n",
       "    }\n",
       "\n",
       "    .dataframe tbody tr th {\n",
       "        vertical-align: top;\n",
       "    }\n",
       "\n",
       "    .dataframe thead th {\n",
       "        text-align: right;\n",
       "    }\n",
       "</style>\n",
       "<table border=\"1\" class=\"dataframe\">\n",
       "  <thead>\n",
       "    <tr style=\"text-align: right;\">\n",
       "      <th></th>\n",
       "      <th>PassengerId</th>\n",
       "      <th>Survived</th>\n",
       "      <th>Pclass</th>\n",
       "      <th>Name</th>\n",
       "      <th>Sex</th>\n",
       "      <th>Age</th>\n",
       "      <th>SibSp</th>\n",
       "      <th>Parch</th>\n",
       "      <th>Ticket</th>\n",
       "      <th>Fare</th>\n",
       "      <th>...</th>\n",
       "      <th>label</th>\n",
       "      <th>LastName</th>\n",
       "      <th>cabin_proper</th>\n",
       "      <th>multiple_cabin</th>\n",
       "      <th>family_number</th>\n",
       "      <th>family_memb_count</th>\n",
       "      <th>has_family</th>\n",
       "      <th>friend_number</th>\n",
       "      <th>friends_count</th>\n",
       "      <th>has_friend</th>\n",
       "    </tr>\n",
       "  </thead>\n",
       "  <tbody>\n",
       "    <tr>\n",
       "      <th>0</th>\n",
       "      <td>546</td>\n",
       "      <td>0.0</td>\n",
       "      <td>1</td>\n",
       "      <td>Nicholson, Mr. Arthur Ernest</td>\n",
       "      <td>male</td>\n",
       "      <td>64.0</td>\n",
       "      <td>0</td>\n",
       "      <td>0</td>\n",
       "      <td>693</td>\n",
       "      <td>26.0000</td>\n",
       "      <td>...</td>\n",
       "      <td>train</td>\n",
       "      <td>Nicholson</td>\n",
       "      <td>False</td>\n",
       "      <td>False</td>\n",
       "      <td>678</td>\n",
       "      <td>1</td>\n",
       "      <td>False</td>\n",
       "      <td>687</td>\n",
       "      <td>1</td>\n",
       "      <td>False</td>\n",
       "    </tr>\n",
       "    <tr>\n",
       "      <th>1</th>\n",
       "      <td>873</td>\n",
       "      <td>0.0</td>\n",
       "      <td>1</td>\n",
       "      <td>Carlsson, Mr. Frans Olof</td>\n",
       "      <td>male</td>\n",
       "      <td>33.0</td>\n",
       "      <td>0</td>\n",
       "      <td>0</td>\n",
       "      <td>695</td>\n",
       "      <td>5.0000</td>\n",
       "      <td>...</td>\n",
       "      <td>train</td>\n",
       "      <td>Carlsson</td>\n",
       "      <td>False</td>\n",
       "      <td>True</td>\n",
       "      <td>158</td>\n",
       "      <td>1</td>\n",
       "      <td>False</td>\n",
       "      <td>689</td>\n",
       "      <td>1</td>\n",
       "      <td>False</td>\n",
       "    </tr>\n",
       "    <tr>\n",
       "      <th>2</th>\n",
       "      <td>75</td>\n",
       "      <td>1.0</td>\n",
       "      <td>3</td>\n",
       "      <td>Bing, Mr. Lee</td>\n",
       "      <td>male</td>\n",
       "      <td>32.0</td>\n",
       "      <td>0</td>\n",
       "      <td>0</td>\n",
       "      <td>1601</td>\n",
       "      <td>56.4958</td>\n",
       "      <td>...</td>\n",
       "      <td>train</td>\n",
       "      <td>Bing</td>\n",
       "      <td>False</td>\n",
       "      <td>False</td>\n",
       "      <td>88</td>\n",
       "      <td>1</td>\n",
       "      <td>False</td>\n",
       "      <td>105</td>\n",
       "      <td>8</td>\n",
       "      <td>True</td>\n",
       "    </tr>\n",
       "    <tr>\n",
       "      <th>3</th>\n",
       "      <td>170</td>\n",
       "      <td>0.0</td>\n",
       "      <td>3</td>\n",
       "      <td>Ling, Mr. Lee</td>\n",
       "      <td>male</td>\n",
       "      <td>28.0</td>\n",
       "      <td>0</td>\n",
       "      <td>0</td>\n",
       "      <td>1601</td>\n",
       "      <td>56.4958</td>\n",
       "      <td>...</td>\n",
       "      <td>train</td>\n",
       "      <td>Ling</td>\n",
       "      <td>False</td>\n",
       "      <td>False</td>\n",
       "      <td>558</td>\n",
       "      <td>1</td>\n",
       "      <td>False</td>\n",
       "      <td>105</td>\n",
       "      <td>8</td>\n",
       "      <td>True</td>\n",
       "    </tr>\n",
       "    <tr>\n",
       "      <th>4</th>\n",
       "      <td>510</td>\n",
       "      <td>1.0</td>\n",
       "      <td>3</td>\n",
       "      <td>Lang, Mr. Fang</td>\n",
       "      <td>male</td>\n",
       "      <td>26.0</td>\n",
       "      <td>0</td>\n",
       "      <td>0</td>\n",
       "      <td>1601</td>\n",
       "      <td>56.4958</td>\n",
       "      <td>...</td>\n",
       "      <td>train</td>\n",
       "      <td>Lang</td>\n",
       "      <td>False</td>\n",
       "      <td>False</td>\n",
       "      <td>528</td>\n",
       "      <td>1</td>\n",
       "      <td>False</td>\n",
       "      <td>105</td>\n",
       "      <td>8</td>\n",
       "      <td>True</td>\n",
       "    </tr>\n",
       "    <tr>\n",
       "      <th>...</th>\n",
       "      <td>...</td>\n",
       "      <td>...</td>\n",
       "      <td>...</td>\n",
       "      <td>...</td>\n",
       "      <td>...</td>\n",
       "      <td>...</td>\n",
       "      <td>...</td>\n",
       "      <td>...</td>\n",
       "      <td>...</td>\n",
       "      <td>...</td>\n",
       "      <td>...</td>\n",
       "      <td>...</td>\n",
       "      <td>...</td>\n",
       "      <td>...</td>\n",
       "      <td>...</td>\n",
       "      <td>...</td>\n",
       "      <td>...</td>\n",
       "      <td>...</td>\n",
       "      <td>...</td>\n",
       "      <td>...</td>\n",
       "      <td>...</td>\n",
       "    </tr>\n",
       "    <tr>\n",
       "      <th>1304</th>\n",
       "      <td>1305</td>\n",
       "      <td>NaN</td>\n",
       "      <td>3</td>\n",
       "      <td>Spector, Mr. Woolf</td>\n",
       "      <td>male</td>\n",
       "      <td>NaN</td>\n",
       "      <td>0</td>\n",
       "      <td>0</td>\n",
       "      <td>A.5. 3236</td>\n",
       "      <td>8.0500</td>\n",
       "      <td>...</td>\n",
       "      <td>test</td>\n",
       "      <td>Spector</td>\n",
       "      <td>False</td>\n",
       "      <td>False</td>\n",
       "      <td>884</td>\n",
       "      <td>1</td>\n",
       "      <td>False</td>\n",
       "      <td>713</td>\n",
       "      <td>1</td>\n",
       "      <td>False</td>\n",
       "    </tr>\n",
       "    <tr>\n",
       "      <th>1305</th>\n",
       "      <td>1306</td>\n",
       "      <td>NaN</td>\n",
       "      <td>1</td>\n",
       "      <td>Oliva y Ocana, Dona. Fermina</td>\n",
       "      <td>female</td>\n",
       "      <td>39.0</td>\n",
       "      <td>0</td>\n",
       "      <td>0</td>\n",
       "      <td>PC 17758</td>\n",
       "      <td>108.9000</td>\n",
       "      <td>...</td>\n",
       "      <td>test</td>\n",
       "      <td>Oliva y Ocana</td>\n",
       "      <td>True</td>\n",
       "      <td>False</td>\n",
       "      <td>707</td>\n",
       "      <td>1</td>\n",
       "      <td>False</td>\n",
       "      <td>836</td>\n",
       "      <td>3</td>\n",
       "      <td>True</td>\n",
       "    </tr>\n",
       "    <tr>\n",
       "      <th>1306</th>\n",
       "      <td>1307</td>\n",
       "      <td>NaN</td>\n",
       "      <td>3</td>\n",
       "      <td>Saether, Mr. Simon Sivertsen</td>\n",
       "      <td>male</td>\n",
       "      <td>38.5</td>\n",
       "      <td>0</td>\n",
       "      <td>0</td>\n",
       "      <td>SOTON/O.Q. 3101262</td>\n",
       "      <td>7.2500</td>\n",
       "      <td>...</td>\n",
       "      <td>test</td>\n",
       "      <td>Saether</td>\n",
       "      <td>False</td>\n",
       "      <td>False</td>\n",
       "      <td>826</td>\n",
       "      <td>1</td>\n",
       "      <td>False</td>\n",
       "      <td>875</td>\n",
       "      <td>1</td>\n",
       "      <td>False</td>\n",
       "    </tr>\n",
       "    <tr>\n",
       "      <th>1307</th>\n",
       "      <td>1308</td>\n",
       "      <td>NaN</td>\n",
       "      <td>3</td>\n",
       "      <td>Ware, Mr. Frederick</td>\n",
       "      <td>male</td>\n",
       "      <td>NaN</td>\n",
       "      <td>0</td>\n",
       "      <td>0</td>\n",
       "      <td>359309</td>\n",
       "      <td>8.0500</td>\n",
       "      <td>...</td>\n",
       "      <td>test</td>\n",
       "      <td>Ware</td>\n",
       "      <td>False</td>\n",
       "      <td>False</td>\n",
       "      <td>966</td>\n",
       "      <td>1</td>\n",
       "      <td>False</td>\n",
       "      <td>580</td>\n",
       "      <td>1</td>\n",
       "      <td>False</td>\n",
       "    </tr>\n",
       "    <tr>\n",
       "      <th>1308</th>\n",
       "      <td>1309</td>\n",
       "      <td>NaN</td>\n",
       "      <td>3</td>\n",
       "      <td>Peter, Master. Michael J</td>\n",
       "      <td>male</td>\n",
       "      <td>NaN</td>\n",
       "      <td>1</td>\n",
       "      <td>1</td>\n",
       "      <td>2668</td>\n",
       "      <td>22.3583</td>\n",
       "      <td>...</td>\n",
       "      <td>test</td>\n",
       "      <td>Peter</td>\n",
       "      <td>False</td>\n",
       "      <td>False</td>\n",
       "      <td>755</td>\n",
       "      <td>3</td>\n",
       "      <td>True</td>\n",
       "      <td>263</td>\n",
       "      <td>3</td>\n",
       "      <td>False</td>\n",
       "    </tr>\n",
       "  </tbody>\n",
       "</table>\n",
       "<p>1309 rows × 22 columns</p>\n",
       "</div>"
      ],
      "text/plain": [
       "      PassengerId  Survived  Pclass                          Name     Sex  \\\n",
       "0             546       0.0       1  Nicholson, Mr. Arthur Ernest    male   \n",
       "1             873       0.0       1      Carlsson, Mr. Frans Olof    male   \n",
       "2              75       1.0       3                 Bing, Mr. Lee    male   \n",
       "3             170       0.0       3                 Ling, Mr. Lee    male   \n",
       "4             510       1.0       3                Lang, Mr. Fang    male   \n",
       "...           ...       ...     ...                           ...     ...   \n",
       "1304         1305       NaN       3            Spector, Mr. Woolf    male   \n",
       "1305         1306       NaN       1  Oliva y Ocana, Dona. Fermina  female   \n",
       "1306         1307       NaN       3  Saether, Mr. Simon Sivertsen    male   \n",
       "1307         1308       NaN       3           Ware, Mr. Frederick    male   \n",
       "1308         1309       NaN       3      Peter, Master. Michael J    male   \n",
       "\n",
       "       Age  SibSp  Parch              Ticket      Fare  ...  label  \\\n",
       "0     64.0      0      0                 693   26.0000  ...  train   \n",
       "1     33.0      0      0                 695    5.0000  ...  train   \n",
       "2     32.0      0      0                1601   56.4958  ...  train   \n",
       "3     28.0      0      0                1601   56.4958  ...  train   \n",
       "4     26.0      0      0                1601   56.4958  ...  train   \n",
       "...    ...    ...    ...                 ...       ...  ...    ...   \n",
       "1304   NaN      0      0           A.5. 3236    8.0500  ...   test   \n",
       "1305  39.0      0      0            PC 17758  108.9000  ...   test   \n",
       "1306  38.5      0      0  SOTON/O.Q. 3101262    7.2500  ...   test   \n",
       "1307   NaN      0      0              359309    8.0500  ...   test   \n",
       "1308   NaN      1      1                2668   22.3583  ...   test   \n",
       "\n",
       "           LastName cabin_proper multiple_cabin  family_number  \\\n",
       "0         Nicholson        False          False            678   \n",
       "1          Carlsson        False           True            158   \n",
       "2              Bing        False          False             88   \n",
       "3              Ling        False          False            558   \n",
       "4              Lang        False          False            528   \n",
       "...             ...          ...            ...            ...   \n",
       "1304        Spector        False          False            884   \n",
       "1305  Oliva y Ocana         True          False            707   \n",
       "1306        Saether        False          False            826   \n",
       "1307           Ware        False          False            966   \n",
       "1308          Peter        False          False            755   \n",
       "\n",
       "      family_memb_count  has_family  friend_number  friends_count  has_friend  \n",
       "0                     1       False            687              1       False  \n",
       "1                     1       False            689              1       False  \n",
       "2                     1       False            105              8        True  \n",
       "3                     1       False            105              8        True  \n",
       "4                     1       False            105              8        True  \n",
       "...                 ...         ...            ...            ...         ...  \n",
       "1304                  1       False            713              1       False  \n",
       "1305                  1       False            836              3        True  \n",
       "1306                  1       False            875              1       False  \n",
       "1307                  1       False            580              1       False  \n",
       "1308                  3        True            263              3       False  \n",
       "\n",
       "[1309 rows x 22 columns]"
      ]
     },
     "execution_count": 25,
     "metadata": {},
     "output_type": "execute_result"
    }
   ],
   "source": [
    "titanic_raw_combined"
   ]
  },
  {
   "cell_type": "code",
   "execution_count": 26,
   "id": "f9e65e1a",
   "metadata": {},
   "outputs": [
    {
     "data": {
      "text/plain": [
       "1309"
      ]
     },
     "execution_count": 26,
     "metadata": {},
     "output_type": "execute_result"
    }
   ],
   "source": [
    "len(titanic_raw_combined)"
   ]
  },
  {
   "cell_type": "markdown",
   "id": "47b26e97",
   "metadata": {},
   "source": [
    "### add no family / friends"
   ]
  },
  {
   "cell_type": "code",
   "execution_count": 27,
   "id": "ff9aaf56",
   "metadata": {},
   "outputs": [],
   "source": [
    "titanic_raw_combined = titanic_raw_combined.assign(no_fam_friend = ~titanic_raw_combined.has_family & ~titanic_raw_combined.has_friend)"
   ]
  },
  {
   "cell_type": "markdown",
   "id": "7ae37c8c",
   "metadata": {},
   "source": [
    "### drop columns that are not useful"
   ]
  },
  {
   "cell_type": "code",
   "execution_count": 28,
   "id": "7c8b4c23",
   "metadata": {},
   "outputs": [],
   "source": [
    "titanic_raw_combined.drop(['family_number', 'friend_number'], axis=1, inplace=True)"
   ]
  },
  {
   "cell_type": "markdown",
   "id": "a58e8867",
   "metadata": {},
   "source": [
    "### Add age group column"
   ]
  },
  {
   "cell_type": "code",
   "execution_count": 29,
   "id": "1d00942d",
   "metadata": {},
   "outputs": [],
   "source": [
    "#fill null age considering nultiple factors"
   ]
  },
  {
   "cell_type": "code",
   "execution_count": 30,
   "id": "e4c5f1f7",
   "metadata": {},
   "outputs": [],
   "source": [
    "#check if miss or master in name\n",
    "import re\n",
    "titanic_raw_combined = titanic_raw_combined.assign(has_master_miss = titanic_raw_combined.Name.str.contains(\"master|miss\", flags=re.IGNORECASE))"
   ]
  },
  {
   "cell_type": "code",
   "execution_count": 31,
   "id": "eda13191",
   "metadata": {},
   "outputs": [],
   "source": [
    "#create df for imputation\n",
    "age_impute_df_full = titanic_raw_combined.drop(['PassengerId', 'Name', 'LastName', 'Survived'], axis=1)"
   ]
  },
  {
   "cell_type": "code",
   "execution_count": 32,
   "id": "5b04503e",
   "metadata": {},
   "outputs": [
    {
     "data": {
      "text/html": [
       "<div>\n",
       "<style scoped>\n",
       "    .dataframe tbody tr th:only-of-type {\n",
       "        vertical-align: middle;\n",
       "    }\n",
       "\n",
       "    .dataframe tbody tr th {\n",
       "        vertical-align: top;\n",
       "    }\n",
       "\n",
       "    .dataframe thead th {\n",
       "        text-align: right;\n",
       "    }\n",
       "</style>\n",
       "<table border=\"1\" class=\"dataframe\">\n",
       "  <thead>\n",
       "    <tr style=\"text-align: right;\">\n",
       "      <th></th>\n",
       "      <th>Pclass</th>\n",
       "      <th>Sex</th>\n",
       "      <th>Age</th>\n",
       "      <th>SibSp</th>\n",
       "      <th>Parch</th>\n",
       "      <th>Ticket</th>\n",
       "      <th>Fare</th>\n",
       "      <th>Cabin</th>\n",
       "      <th>Embarked</th>\n",
       "      <th>label</th>\n",
       "      <th>cabin_proper</th>\n",
       "      <th>multiple_cabin</th>\n",
       "      <th>family_memb_count</th>\n",
       "      <th>has_family</th>\n",
       "      <th>friends_count</th>\n",
       "      <th>has_friend</th>\n",
       "      <th>no_fam_friend</th>\n",
       "      <th>has_master_miss</th>\n",
       "    </tr>\n",
       "  </thead>\n",
       "  <tbody>\n",
       "    <tr>\n",
       "      <th>0</th>\n",
       "      <td>1</td>\n",
       "      <td>male</td>\n",
       "      <td>64.0</td>\n",
       "      <td>0</td>\n",
       "      <td>0</td>\n",
       "      <td>693</td>\n",
       "      <td>26.0000</td>\n",
       "      <td>not_assigned</td>\n",
       "      <td>S</td>\n",
       "      <td>train</td>\n",
       "      <td>False</td>\n",
       "      <td>False</td>\n",
       "      <td>1</td>\n",
       "      <td>False</td>\n",
       "      <td>1</td>\n",
       "      <td>False</td>\n",
       "      <td>True</td>\n",
       "      <td>False</td>\n",
       "    </tr>\n",
       "    <tr>\n",
       "      <th>1</th>\n",
       "      <td>1</td>\n",
       "      <td>male</td>\n",
       "      <td>33.0</td>\n",
       "      <td>0</td>\n",
       "      <td>0</td>\n",
       "      <td>695</td>\n",
       "      <td>5.0000</td>\n",
       "      <td>B51 B53 B55</td>\n",
       "      <td>S</td>\n",
       "      <td>train</td>\n",
       "      <td>False</td>\n",
       "      <td>True</td>\n",
       "      <td>1</td>\n",
       "      <td>False</td>\n",
       "      <td>1</td>\n",
       "      <td>False</td>\n",
       "      <td>True</td>\n",
       "      <td>False</td>\n",
       "    </tr>\n",
       "    <tr>\n",
       "      <th>2</th>\n",
       "      <td>3</td>\n",
       "      <td>male</td>\n",
       "      <td>32.0</td>\n",
       "      <td>0</td>\n",
       "      <td>0</td>\n",
       "      <td>1601</td>\n",
       "      <td>56.4958</td>\n",
       "      <td>not_assigned</td>\n",
       "      <td>S</td>\n",
       "      <td>train</td>\n",
       "      <td>False</td>\n",
       "      <td>False</td>\n",
       "      <td>1</td>\n",
       "      <td>False</td>\n",
       "      <td>8</td>\n",
       "      <td>True</td>\n",
       "      <td>False</td>\n",
       "      <td>False</td>\n",
       "    </tr>\n",
       "    <tr>\n",
       "      <th>3</th>\n",
       "      <td>3</td>\n",
       "      <td>male</td>\n",
       "      <td>28.0</td>\n",
       "      <td>0</td>\n",
       "      <td>0</td>\n",
       "      <td>1601</td>\n",
       "      <td>56.4958</td>\n",
       "      <td>not_assigned</td>\n",
       "      <td>S</td>\n",
       "      <td>train</td>\n",
       "      <td>False</td>\n",
       "      <td>False</td>\n",
       "      <td>1</td>\n",
       "      <td>False</td>\n",
       "      <td>8</td>\n",
       "      <td>True</td>\n",
       "      <td>False</td>\n",
       "      <td>False</td>\n",
       "    </tr>\n",
       "    <tr>\n",
       "      <th>4</th>\n",
       "      <td>3</td>\n",
       "      <td>male</td>\n",
       "      <td>26.0</td>\n",
       "      <td>0</td>\n",
       "      <td>0</td>\n",
       "      <td>1601</td>\n",
       "      <td>56.4958</td>\n",
       "      <td>not_assigned</td>\n",
       "      <td>S</td>\n",
       "      <td>train</td>\n",
       "      <td>False</td>\n",
       "      <td>False</td>\n",
       "      <td>1</td>\n",
       "      <td>False</td>\n",
       "      <td>8</td>\n",
       "      <td>True</td>\n",
       "      <td>False</td>\n",
       "      <td>False</td>\n",
       "    </tr>\n",
       "  </tbody>\n",
       "</table>\n",
       "</div>"
      ],
      "text/plain": [
       "   Pclass   Sex   Age  SibSp  Parch Ticket     Fare         Cabin Embarked  \\\n",
       "0       1  male  64.0      0      0    693  26.0000  not_assigned        S   \n",
       "1       1  male  33.0      0      0    695   5.0000   B51 B53 B55        S   \n",
       "2       3  male  32.0      0      0   1601  56.4958  not_assigned        S   \n",
       "3       3  male  28.0      0      0   1601  56.4958  not_assigned        S   \n",
       "4       3  male  26.0      0      0   1601  56.4958  not_assigned        S   \n",
       "\n",
       "   label  cabin_proper  multiple_cabin  family_memb_count  has_family  \\\n",
       "0  train         False           False                  1       False   \n",
       "1  train         False            True                  1       False   \n",
       "2  train         False           False                  1       False   \n",
       "3  train         False           False                  1       False   \n",
       "4  train         False           False                  1       False   \n",
       "\n",
       "   friends_count  has_friend  no_fam_friend  has_master_miss  \n",
       "0              1       False           True            False  \n",
       "1              1       False           True            False  \n",
       "2              8        True          False            False  \n",
       "3              8        True          False            False  \n",
       "4              8        True          False            False  "
      ]
     },
     "execution_count": 32,
     "metadata": {},
     "output_type": "execute_result"
    }
   ],
   "source": [
    "age_impute_df_full.head()"
   ]
  },
  {
   "cell_type": "code",
   "execution_count": 33,
   "id": "1ba07a09",
   "metadata": {},
   "outputs": [],
   "source": [
    "from sklearn import preprocessing\n",
    "le = preprocessing.LabelEncoder()\n",
    "\n",
    "age_impute_df_full['Sex'] = le.fit_transform(age_impute_df_full['Sex'])\n",
    "age_impute_df_full['Ticket'] = le.fit_transform(age_impute_df_full['Ticket'])\n",
    "age_impute_df_full['Cabin'] = le.fit_transform(age_impute_df_full['Cabin'])\n",
    "age_impute_df_full['Embarked'] = le.fit_transform(age_impute_df_full['Embarked'])"
   ]
  },
  {
   "cell_type": "code",
   "execution_count": 34,
   "id": "84c9ae8f",
   "metadata": {},
   "outputs": [],
   "source": [
    "import sklearn.neighbors._base\n",
    "import sys\n",
    "sys.modules['sklearn.neighbors.base'] = sklearn.neighbors._base\n",
    "from missingpy import MissForest\n",
    "\n",
    "imputer = MissForest()\n",
    "age_imputed_fit = imputer.fit(age_impute_df_full[age_impute_df_full['label']=='train'].drop('label', axis=1))"
   ]
  },
  {
   "cell_type": "code",
   "execution_count": 35,
   "id": "69941117",
   "metadata": {},
   "outputs": [
    {
     "name": "stderr",
     "output_type": "stream",
     "text": [
      "C:\\Users\\Personal\\.conda\\envs\\tensorflow_gpu\\lib\\site-packages\\sklearn\\ensemble\\_forest.py:400: FutureWarning: Criterion 'mse' was deprecated in v1.0 and will be removed in version 1.2. Use `criterion='squared_error'` which is equivalent.\n",
      "  warn(\n",
      "C:\\Users\\Personal\\.conda\\envs\\tensorflow_gpu\\lib\\site-packages\\sklearn\\ensemble\\_forest.py:416: FutureWarning: `max_features='auto'` has been deprecated in 1.1 and will be removed in 1.3. To keep the past behaviour, explicitly set `max_features=1.0` or remove this parameter as it is also the default value for RandomForestRegressors and ExtraTreesRegressors.\n",
      "  warn(\n",
      "C:\\Users\\Personal\\.conda\\envs\\tensorflow_gpu\\lib\\site-packages\\sklearn\\ensemble\\_forest.py:400: FutureWarning: Criterion 'mse' was deprecated in v1.0 and will be removed in version 1.2. Use `criterion='squared_error'` which is equivalent.\n",
      "  warn(\n",
      "C:\\Users\\Personal\\.conda\\envs\\tensorflow_gpu\\lib\\site-packages\\sklearn\\ensemble\\_forest.py:416: FutureWarning: `max_features='auto'` has been deprecated in 1.1 and will be removed in 1.3. To keep the past behaviour, explicitly set `max_features=1.0` or remove this parameter as it is also the default value for RandomForestRegressors and ExtraTreesRegressors.\n",
      "  warn(\n"
     ]
    },
    {
     "name": "stdout",
     "output_type": "stream",
     "text": [
      "Iteration: 0\n",
      "Iteration: 1\n"
     ]
    },
    {
     "name": "stderr",
     "output_type": "stream",
     "text": [
      "C:\\Users\\Personal\\.conda\\envs\\tensorflow_gpu\\lib\\site-packages\\sklearn\\ensemble\\_forest.py:400: FutureWarning: Criterion 'mse' was deprecated in v1.0 and will be removed in version 1.2. Use `criterion='squared_error'` which is equivalent.\n",
      "  warn(\n",
      "C:\\Users\\Personal\\.conda\\envs\\tensorflow_gpu\\lib\\site-packages\\sklearn\\ensemble\\_forest.py:416: FutureWarning: `max_features='auto'` has been deprecated in 1.1 and will be removed in 1.3. To keep the past behaviour, explicitly set `max_features=1.0` or remove this parameter as it is also the default value for RandomForestRegressors and ExtraTreesRegressors.\n",
      "  warn(\n",
      "C:\\Users\\Personal\\.conda\\envs\\tensorflow_gpu\\lib\\site-packages\\sklearn\\ensemble\\_forest.py:400: FutureWarning: Criterion 'mse' was deprecated in v1.0 and will be removed in version 1.2. Use `criterion='squared_error'` which is equivalent.\n",
      "  warn(\n",
      "C:\\Users\\Personal\\.conda\\envs\\tensorflow_gpu\\lib\\site-packages\\sklearn\\ensemble\\_forest.py:416: FutureWarning: `max_features='auto'` has been deprecated in 1.1 and will be removed in 1.3. To keep the past behaviour, explicitly set `max_features=1.0` or remove this parameter as it is also the default value for RandomForestRegressors and ExtraTreesRegressors.\n",
      "  warn(\n"
     ]
    },
    {
     "name": "stdout",
     "output_type": "stream",
     "text": [
      "Iteration: 2\n",
      "Iteration: 3\n"
     ]
    },
    {
     "name": "stderr",
     "output_type": "stream",
     "text": [
      "C:\\Users\\Personal\\.conda\\envs\\tensorflow_gpu\\lib\\site-packages\\sklearn\\ensemble\\_forest.py:400: FutureWarning: Criterion 'mse' was deprecated in v1.0 and will be removed in version 1.2. Use `criterion='squared_error'` which is equivalent.\n",
      "  warn(\n",
      "C:\\Users\\Personal\\.conda\\envs\\tensorflow_gpu\\lib\\site-packages\\sklearn\\ensemble\\_forest.py:416: FutureWarning: `max_features='auto'` has been deprecated in 1.1 and will be removed in 1.3. To keep the past behaviour, explicitly set `max_features=1.0` or remove this parameter as it is also the default value for RandomForestRegressors and ExtraTreesRegressors.\n",
      "  warn(\n",
      "C:\\Users\\Personal\\.conda\\envs\\tensorflow_gpu\\lib\\site-packages\\sklearn\\ensemble\\_forest.py:400: FutureWarning: Criterion 'mse' was deprecated in v1.0 and will be removed in version 1.2. Use `criterion='squared_error'` which is equivalent.\n",
      "  warn(\n",
      "C:\\Users\\Personal\\.conda\\envs\\tensorflow_gpu\\lib\\site-packages\\sklearn\\ensemble\\_forest.py:416: FutureWarning: `max_features='auto'` has been deprecated in 1.1 and will be removed in 1.3. To keep the past behaviour, explicitly set `max_features=1.0` or remove this parameter as it is also the default value for RandomForestRegressors and ExtraTreesRegressors.\n",
      "  warn(\n"
     ]
    },
    {
     "name": "stdout",
     "output_type": "stream",
     "text": [
      "Iteration: 4\n",
      "Iteration: 5\n"
     ]
    }
   ],
   "source": [
    "age_imputed = imputer.transform(age_impute_df_full.drop('label', axis=1))"
   ]
  },
  {
   "cell_type": "code",
   "execution_count": 36,
   "id": "a5f90fba",
   "metadata": {},
   "outputs": [
    {
     "data": {
      "text/plain": [
       "1309"
      ]
     },
     "execution_count": 36,
     "metadata": {},
     "output_type": "execute_result"
    }
   ],
   "source": [
    "len(age_imputed[:, 2])"
   ]
  },
  {
   "cell_type": "code",
   "execution_count": 37,
   "id": "f7b0f239",
   "metadata": {},
   "outputs": [],
   "source": [
    "titanic_raw_combined['Age'] = age_imputed[:, 2]"
   ]
  },
  {
   "cell_type": "code",
   "execution_count": 38,
   "id": "ff9bd07a",
   "metadata": {},
   "outputs": [
    {
     "data": {
      "text/html": [
       "<div>\n",
       "<style scoped>\n",
       "    .dataframe tbody tr th:only-of-type {\n",
       "        vertical-align: middle;\n",
       "    }\n",
       "\n",
       "    .dataframe tbody tr th {\n",
       "        vertical-align: top;\n",
       "    }\n",
       "\n",
       "    .dataframe thead th {\n",
       "        text-align: right;\n",
       "    }\n",
       "</style>\n",
       "<table border=\"1\" class=\"dataframe\">\n",
       "  <thead>\n",
       "    <tr style=\"text-align: right;\">\n",
       "      <th></th>\n",
       "      <th>age_grp</th>\n",
       "      <th>lower_limit</th>\n",
       "      <th>upper_limit</th>\n",
       "    </tr>\n",
       "  </thead>\n",
       "  <tbody>\n",
       "    <tr>\n",
       "      <th>6</th>\n",
       "      <td>6</td>\n",
       "      <td>35.00001</td>\n",
       "      <td>45.0</td>\n",
       "    </tr>\n",
       "    <tr>\n",
       "      <th>7</th>\n",
       "      <td>7</td>\n",
       "      <td>45.00001</td>\n",
       "      <td>55.0</td>\n",
       "    </tr>\n",
       "    <tr>\n",
       "      <th>8</th>\n",
       "      <td>8</td>\n",
       "      <td>55.00001</td>\n",
       "      <td>65.0</td>\n",
       "    </tr>\n",
       "    <tr>\n",
       "      <th>9</th>\n",
       "      <td>9</td>\n",
       "      <td>65.00001</td>\n",
       "      <td>75.0</td>\n",
       "    </tr>\n",
       "    <tr>\n",
       "      <th>10</th>\n",
       "      <td>10</td>\n",
       "      <td>75.00001</td>\n",
       "      <td>150.0</td>\n",
       "    </tr>\n",
       "  </tbody>\n",
       "</table>\n",
       "</div>"
      ],
      "text/plain": [
       "   age_grp  lower_limit  upper_limit\n",
       "6        6     35.00001         45.0\n",
       "7        7     45.00001         55.0\n",
       "8        8     55.00001         65.0\n",
       "9        9     65.00001         75.0\n",
       "10      10     75.00001        150.0"
      ]
     },
     "execution_count": 38,
     "metadata": {},
     "output_type": "execute_result"
    }
   ],
   "source": [
    "#create age range dataframe for mapping\n",
    "age_map = {\"lower_limit\":[0.0,3.00001,7.00001,14.00001,18.00001,25.00001,35.00001,45.00001,55.00001,65.00001,75.00001], \n",
    "           \"upper_limit\":[3.0,7.0,14.0,18.0,25.0,35.0,45.0,55.0,65.0,75.0,150.0]}\n",
    "\n",
    "age_map_df = pd.DataFrame(data=age_map)\n",
    "age_map_df.reset_index(inplace=True)\n",
    "age_map_df=age_map_df.rename(columns={'index':'age_grp'}) \n",
    "age_map_df['age_grp'] = age_map_df['age_grp'].astype('category')\n",
    "age_map_df.tail()"
   ]
  },
  {
   "cell_type": "code",
   "execution_count": 39,
   "id": "b725e478",
   "metadata": {},
   "outputs": [],
   "source": [
    "#join the map to main df and retain only if age conditions match to get age_range group\n",
    "titanic_raw_combined = titanic_raw_combined.merge(age_map_df, how=\"cross\")"
   ]
  },
  {
   "cell_type": "code",
   "execution_count": 40,
   "id": "5129d825",
   "metadata": {},
   "outputs": [],
   "source": [
    "titanic_raw_combined = titanic_raw_combined[(titanic_raw_combined['Age']<=titanic_raw_combined['upper_limit']) & (titanic_raw_combined['Age']>=titanic_raw_combined['lower_limit'])]\n",
    "titanic_raw_combined.drop(['lower_limit', 'upper_limit'], axis=1, inplace=True)"
   ]
  },
  {
   "cell_type": "code",
   "execution_count": 41,
   "id": "3e1c5778",
   "metadata": {},
   "outputs": [
    {
     "data": {
      "text/plain": [
       "1309"
      ]
     },
     "execution_count": 41,
     "metadata": {},
     "output_type": "execute_result"
    }
   ],
   "source": [
    "len(titanic_raw_combined)"
   ]
  },
  {
   "cell_type": "markdown",
   "id": "8af54f0f",
   "metadata": {},
   "source": [
    "### Save as excel for review / analysis using pivot table"
   ]
  },
  {
   "cell_type": "code",
   "execution_count": 42,
   "id": "5a7e0191",
   "metadata": {},
   "outputs": [],
   "source": [
    "titanic_raw_combined.to_csv('./Titanic8/titanic_raw_combined_engineered.csv')"
   ]
  },
  {
   "cell_type": "code",
   "execution_count": 43,
   "id": "9796299b",
   "metadata": {},
   "outputs": [
    {
     "data": {
      "text/html": [
       "<div>\n",
       "<style scoped>\n",
       "    .dataframe tbody tr th:only-of-type {\n",
       "        vertical-align: middle;\n",
       "    }\n",
       "\n",
       "    .dataframe tbody tr th {\n",
       "        vertical-align: top;\n",
       "    }\n",
       "\n",
       "    .dataframe thead th {\n",
       "        text-align: right;\n",
       "    }\n",
       "</style>\n",
       "<table border=\"1\" class=\"dataframe\">\n",
       "  <thead>\n",
       "    <tr style=\"text-align: right;\">\n",
       "      <th></th>\n",
       "      <th>PassengerId</th>\n",
       "      <th>Survived</th>\n",
       "      <th>Pclass</th>\n",
       "      <th>Name</th>\n",
       "      <th>Sex</th>\n",
       "      <th>Age</th>\n",
       "      <th>SibSp</th>\n",
       "      <th>Parch</th>\n",
       "      <th>Ticket</th>\n",
       "      <th>Fare</th>\n",
       "      <th>...</th>\n",
       "      <th>LastName</th>\n",
       "      <th>cabin_proper</th>\n",
       "      <th>multiple_cabin</th>\n",
       "      <th>family_memb_count</th>\n",
       "      <th>has_family</th>\n",
       "      <th>friends_count</th>\n",
       "      <th>has_friend</th>\n",
       "      <th>no_fam_friend</th>\n",
       "      <th>has_master_miss</th>\n",
       "      <th>age_grp</th>\n",
       "    </tr>\n",
       "  </thead>\n",
       "  <tbody>\n",
       "    <tr>\n",
       "      <th>8</th>\n",
       "      <td>546</td>\n",
       "      <td>0.0</td>\n",
       "      <td>1</td>\n",
       "      <td>Nicholson, Mr. Arthur Ernest</td>\n",
       "      <td>male</td>\n",
       "      <td>64.000000</td>\n",
       "      <td>0</td>\n",
       "      <td>0</td>\n",
       "      <td>693</td>\n",
       "      <td>26.0000</td>\n",
       "      <td>...</td>\n",
       "      <td>Nicholson</td>\n",
       "      <td>False</td>\n",
       "      <td>False</td>\n",
       "      <td>1</td>\n",
       "      <td>False</td>\n",
       "      <td>1</td>\n",
       "      <td>False</td>\n",
       "      <td>True</td>\n",
       "      <td>False</td>\n",
       "      <td>8</td>\n",
       "    </tr>\n",
       "    <tr>\n",
       "      <th>16</th>\n",
       "      <td>873</td>\n",
       "      <td>0.0</td>\n",
       "      <td>1</td>\n",
       "      <td>Carlsson, Mr. Frans Olof</td>\n",
       "      <td>male</td>\n",
       "      <td>33.000000</td>\n",
       "      <td>0</td>\n",
       "      <td>0</td>\n",
       "      <td>695</td>\n",
       "      <td>5.0000</td>\n",
       "      <td>...</td>\n",
       "      <td>Carlsson</td>\n",
       "      <td>False</td>\n",
       "      <td>True</td>\n",
       "      <td>1</td>\n",
       "      <td>False</td>\n",
       "      <td>1</td>\n",
       "      <td>False</td>\n",
       "      <td>True</td>\n",
       "      <td>False</td>\n",
       "      <td>5</td>\n",
       "    </tr>\n",
       "    <tr>\n",
       "      <th>27</th>\n",
       "      <td>75</td>\n",
       "      <td>1.0</td>\n",
       "      <td>3</td>\n",
       "      <td>Bing, Mr. Lee</td>\n",
       "      <td>male</td>\n",
       "      <td>32.000000</td>\n",
       "      <td>0</td>\n",
       "      <td>0</td>\n",
       "      <td>1601</td>\n",
       "      <td>56.4958</td>\n",
       "      <td>...</td>\n",
       "      <td>Bing</td>\n",
       "      <td>False</td>\n",
       "      <td>False</td>\n",
       "      <td>1</td>\n",
       "      <td>False</td>\n",
       "      <td>8</td>\n",
       "      <td>True</td>\n",
       "      <td>False</td>\n",
       "      <td>False</td>\n",
       "      <td>5</td>\n",
       "    </tr>\n",
       "    <tr>\n",
       "      <th>38</th>\n",
       "      <td>170</td>\n",
       "      <td>0.0</td>\n",
       "      <td>3</td>\n",
       "      <td>Ling, Mr. Lee</td>\n",
       "      <td>male</td>\n",
       "      <td>28.000000</td>\n",
       "      <td>0</td>\n",
       "      <td>0</td>\n",
       "      <td>1601</td>\n",
       "      <td>56.4958</td>\n",
       "      <td>...</td>\n",
       "      <td>Ling</td>\n",
       "      <td>False</td>\n",
       "      <td>False</td>\n",
       "      <td>1</td>\n",
       "      <td>False</td>\n",
       "      <td>8</td>\n",
       "      <td>True</td>\n",
       "      <td>False</td>\n",
       "      <td>False</td>\n",
       "      <td>5</td>\n",
       "    </tr>\n",
       "    <tr>\n",
       "      <th>49</th>\n",
       "      <td>510</td>\n",
       "      <td>1.0</td>\n",
       "      <td>3</td>\n",
       "      <td>Lang, Mr. Fang</td>\n",
       "      <td>male</td>\n",
       "      <td>26.000000</td>\n",
       "      <td>0</td>\n",
       "      <td>0</td>\n",
       "      <td>1601</td>\n",
       "      <td>56.4958</td>\n",
       "      <td>...</td>\n",
       "      <td>Lang</td>\n",
       "      <td>False</td>\n",
       "      <td>False</td>\n",
       "      <td>1</td>\n",
       "      <td>False</td>\n",
       "      <td>8</td>\n",
       "      <td>True</td>\n",
       "      <td>False</td>\n",
       "      <td>False</td>\n",
       "      <td>5</td>\n",
       "    </tr>\n",
       "    <tr>\n",
       "      <th>60</th>\n",
       "      <td>644</td>\n",
       "      <td>1.0</td>\n",
       "      <td>3</td>\n",
       "      <td>Foo, Mr. Choong</td>\n",
       "      <td>male</td>\n",
       "      <td>29.507857</td>\n",
       "      <td>0</td>\n",
       "      <td>0</td>\n",
       "      <td>1601</td>\n",
       "      <td>56.4958</td>\n",
       "      <td>...</td>\n",
       "      <td>Foo</td>\n",
       "      <td>False</td>\n",
       "      <td>False</td>\n",
       "      <td>1</td>\n",
       "      <td>False</td>\n",
       "      <td>8</td>\n",
       "      <td>True</td>\n",
       "      <td>False</td>\n",
       "      <td>False</td>\n",
       "      <td>5</td>\n",
       "    </tr>\n",
       "    <tr>\n",
       "      <th>71</th>\n",
       "      <td>693</td>\n",
       "      <td>1.0</td>\n",
       "      <td>3</td>\n",
       "      <td>Lam, Mr. Ali</td>\n",
       "      <td>male</td>\n",
       "      <td>31.245952</td>\n",
       "      <td>0</td>\n",
       "      <td>0</td>\n",
       "      <td>1601</td>\n",
       "      <td>56.4958</td>\n",
       "      <td>...</td>\n",
       "      <td>Lam</td>\n",
       "      <td>False</td>\n",
       "      <td>False</td>\n",
       "      <td>2</td>\n",
       "      <td>True</td>\n",
       "      <td>8</td>\n",
       "      <td>False</td>\n",
       "      <td>False</td>\n",
       "      <td>False</td>\n",
       "      <td>5</td>\n",
       "    </tr>\n",
       "    <tr>\n",
       "      <th>82</th>\n",
       "      <td>827</td>\n",
       "      <td>0.0</td>\n",
       "      <td>3</td>\n",
       "      <td>Lam, Mr. Len</td>\n",
       "      <td>male</td>\n",
       "      <td>31.245952</td>\n",
       "      <td>0</td>\n",
       "      <td>0</td>\n",
       "      <td>1601</td>\n",
       "      <td>56.4958</td>\n",
       "      <td>...</td>\n",
       "      <td>Lam</td>\n",
       "      <td>False</td>\n",
       "      <td>False</td>\n",
       "      <td>2</td>\n",
       "      <td>True</td>\n",
       "      <td>8</td>\n",
       "      <td>False</td>\n",
       "      <td>False</td>\n",
       "      <td>False</td>\n",
       "      <td>5</td>\n",
       "    </tr>\n",
       "    <tr>\n",
       "      <th>93</th>\n",
       "      <td>839</td>\n",
       "      <td>1.0</td>\n",
       "      <td>3</td>\n",
       "      <td>Chip, Mr. Chang</td>\n",
       "      <td>male</td>\n",
       "      <td>32.000000</td>\n",
       "      <td>0</td>\n",
       "      <td>0</td>\n",
       "      <td>1601</td>\n",
       "      <td>56.4958</td>\n",
       "      <td>...</td>\n",
       "      <td>Chip</td>\n",
       "      <td>False</td>\n",
       "      <td>False</td>\n",
       "      <td>1</td>\n",
       "      <td>False</td>\n",
       "      <td>8</td>\n",
       "      <td>True</td>\n",
       "      <td>False</td>\n",
       "      <td>False</td>\n",
       "      <td>5</td>\n",
       "    </tr>\n",
       "    <tr>\n",
       "      <th>104</th>\n",
       "      <td>427</td>\n",
       "      <td>1.0</td>\n",
       "      <td>2</td>\n",
       "      <td>Clarke, Mrs. Charles V (Ada Maria Winfield)</td>\n",
       "      <td>female</td>\n",
       "      <td>28.000000</td>\n",
       "      <td>1</td>\n",
       "      <td>0</td>\n",
       "      <td>2003</td>\n",
       "      <td>26.0000</td>\n",
       "      <td>...</td>\n",
       "      <td>Clarke</td>\n",
       "      <td>False</td>\n",
       "      <td>False</td>\n",
       "      <td>2</td>\n",
       "      <td>True</td>\n",
       "      <td>2</td>\n",
       "      <td>False</td>\n",
       "      <td>False</td>\n",
       "      <td>False</td>\n",
       "      <td>5</td>\n",
       "    </tr>\n",
       "  </tbody>\n",
       "</table>\n",
       "<p>10 rows × 23 columns</p>\n",
       "</div>"
      ],
      "text/plain": [
       "     PassengerId  Survived  Pclass  \\\n",
       "8            546       0.0       1   \n",
       "16           873       0.0       1   \n",
       "27            75       1.0       3   \n",
       "38           170       0.0       3   \n",
       "49           510       1.0       3   \n",
       "60           644       1.0       3   \n",
       "71           693       1.0       3   \n",
       "82           827       0.0       3   \n",
       "93           839       1.0       3   \n",
       "104          427       1.0       2   \n",
       "\n",
       "                                            Name     Sex        Age  SibSp  \\\n",
       "8                   Nicholson, Mr. Arthur Ernest    male  64.000000      0   \n",
       "16                      Carlsson, Mr. Frans Olof    male  33.000000      0   \n",
       "27                                 Bing, Mr. Lee    male  32.000000      0   \n",
       "38                                 Ling, Mr. Lee    male  28.000000      0   \n",
       "49                                Lang, Mr. Fang    male  26.000000      0   \n",
       "60                               Foo, Mr. Choong    male  29.507857      0   \n",
       "71                                  Lam, Mr. Ali    male  31.245952      0   \n",
       "82                                  Lam, Mr. Len    male  31.245952      0   \n",
       "93                               Chip, Mr. Chang    male  32.000000      0   \n",
       "104  Clarke, Mrs. Charles V (Ada Maria Winfield)  female  28.000000      1   \n",
       "\n",
       "     Parch Ticket     Fare  ...   LastName cabin_proper multiple_cabin  \\\n",
       "8        0    693  26.0000  ...  Nicholson        False          False   \n",
       "16       0    695   5.0000  ...   Carlsson        False           True   \n",
       "27       0   1601  56.4958  ...       Bing        False          False   \n",
       "38       0   1601  56.4958  ...       Ling        False          False   \n",
       "49       0   1601  56.4958  ...       Lang        False          False   \n",
       "60       0   1601  56.4958  ...        Foo        False          False   \n",
       "71       0   1601  56.4958  ...        Lam        False          False   \n",
       "82       0   1601  56.4958  ...        Lam        False          False   \n",
       "93       0   1601  56.4958  ...       Chip        False          False   \n",
       "104      0   2003  26.0000  ...     Clarke        False          False   \n",
       "\n",
       "    family_memb_count  has_family  friends_count  has_friend  no_fam_friend  \\\n",
       "8                   1       False              1       False           True   \n",
       "16                  1       False              1       False           True   \n",
       "27                  1       False              8        True          False   \n",
       "38                  1       False              8        True          False   \n",
       "49                  1       False              8        True          False   \n",
       "60                  1       False              8        True          False   \n",
       "71                  2        True              8       False          False   \n",
       "82                  2        True              8       False          False   \n",
       "93                  1       False              8        True          False   \n",
       "104                 2        True              2       False          False   \n",
       "\n",
       "     has_master_miss  age_grp  \n",
       "8              False        8  \n",
       "16             False        5  \n",
       "27             False        5  \n",
       "38             False        5  \n",
       "49             False        5  \n",
       "60             False        5  \n",
       "71             False        5  \n",
       "82             False        5  \n",
       "93             False        5  \n",
       "104            False        5  \n",
       "\n",
       "[10 rows x 23 columns]"
      ]
     },
     "execution_count": 43,
     "metadata": {},
     "output_type": "execute_result"
    }
   ],
   "source": [
    "titanic_raw_combined.head(10)"
   ]
  },
  {
   "cell_type": "code",
   "execution_count": 44,
   "id": "440589ae",
   "metadata": {},
   "outputs": [],
   "source": [
    "# pls.stop() #stopping point for run all"
   ]
  },
  {
   "cell_type": "markdown",
   "id": "c312c4ae",
   "metadata": {},
   "source": [
    "# Separate Out Validation set"
   ]
  },
  {
   "cell_type": "code",
   "execution_count": 45,
   "id": "627c9574",
   "metadata": {},
   "outputs": [],
   "source": [
    "val_set_proportion = 0.25\n",
    "val_set_count = len(titanic_raw_combined[titanic_raw_combined['label']=='train'])*val_set_proportion\n",
    "val_set_index = titanic_raw_combined[titanic_raw_combined['label']=='train'].sample(int(val_set_count), random_state=123).index\n",
    "titanic_raw_combined.loc[val_set_index, 'label'] = 'validation'"
   ]
  },
  {
   "cell_type": "markdown",
   "id": "420af0c1",
   "metadata": {},
   "source": [
    "# Handle Multiple Collinearity"
   ]
  },
  {
   "cell_type": "code",
   "execution_count": 46,
   "id": "6291e9ee",
   "metadata": {},
   "outputs": [],
   "source": [
    "include_pca=False"
   ]
  },
  {
   "cell_type": "code",
   "execution_count": 47,
   "id": "2b3d32e9",
   "metadata": {},
   "outputs": [],
   "source": [
    "# identify PCA components\n",
    "data_for_pca = ['SibSp', 'Parch', 'Fare', 'family_memb_count', 'friends_count']"
   ]
  },
  {
   "cell_type": "code",
   "execution_count": 48,
   "id": "506f9f0f",
   "metadata": {},
   "outputs": [],
   "source": [
    "from sklearn.preprocessing import StandardScaler\n",
    "scaled_df = titanic_raw_combined[data_for_pca]\n",
    "scaled_df = StandardScaler().fit_transform(scaled_df) # normalizing the features"
   ]
  },
  {
   "cell_type": "code",
   "execution_count": 49,
   "id": "ddb4a57e",
   "metadata": {},
   "outputs": [],
   "source": [
    "from sklearn.decomposition import PCA\n",
    "pca_model = PCA(0.95)\n",
    "pca_df = pca_model.fit_transform(scaled_df)"
   ]
  },
  {
   "cell_type": "code",
   "execution_count": 50,
   "id": "882013c2",
   "metadata": {},
   "outputs": [
    {
     "data": {
      "text/plain": [
       "array([0.64521727, 0.18685685, 0.1244368 ])"
      ]
     },
     "execution_count": 50,
     "metadata": {},
     "output_type": "execute_result"
    }
   ],
   "source": [
    "pca_model.explained_variance_ratio_"
   ]
  },
  {
   "cell_type": "code",
   "execution_count": 51,
   "id": "2549bbbb",
   "metadata": {},
   "outputs": [
    {
     "data": {
      "text/html": [
       "<div>\n",
       "<style scoped>\n",
       "    .dataframe tbody tr th:only-of-type {\n",
       "        vertical-align: middle;\n",
       "    }\n",
       "\n",
       "    .dataframe tbody tr th {\n",
       "        vertical-align: top;\n",
       "    }\n",
       "\n",
       "    .dataframe thead th {\n",
       "        text-align: right;\n",
       "    }\n",
       "</style>\n",
       "<table border=\"1\" class=\"dataframe\">\n",
       "  <thead>\n",
       "    <tr style=\"text-align: right;\">\n",
       "      <th></th>\n",
       "    </tr>\n",
       "  </thead>\n",
       "  <tbody>\n",
       "  </tbody>\n",
       "</table>\n",
       "</div>"
      ],
      "text/plain": [
       "Empty DataFrame\n",
       "Columns: []\n",
       "Index: []"
      ]
     },
     "execution_count": 51,
     "metadata": {},
     "output_type": "execute_result"
    }
   ],
   "source": [
    "if include_pca:\n",
    "    pca_df = pd.DataFrame(pca_df)\n",
    "else:\n",
    "    pca_df = pd.DataFrame()\n",
    "pca_df"
   ]
  },
  {
   "cell_type": "code",
   "execution_count": 52,
   "id": "80abd3e3",
   "metadata": {},
   "outputs": [
    {
     "data": {
      "text/html": [
       "<div>\n",
       "<style scoped>\n",
       "    .dataframe tbody tr th:only-of-type {\n",
       "        vertical-align: middle;\n",
       "    }\n",
       "\n",
       "    .dataframe tbody tr th {\n",
       "        vertical-align: top;\n",
       "    }\n",
       "\n",
       "    .dataframe thead th {\n",
       "        text-align: right;\n",
       "    }\n",
       "</style>\n",
       "<table border=\"1\" class=\"dataframe\">\n",
       "  <thead>\n",
       "    <tr style=\"text-align: right;\">\n",
       "      <th></th>\n",
       "      <th>Age</th>\n",
       "      <th>Cabin</th>\n",
       "      <th>Embarked</th>\n",
       "      <th>LastName</th>\n",
       "      <th>Name</th>\n",
       "      <th>PassengerId</th>\n",
       "      <th>Pclass</th>\n",
       "      <th>Sex</th>\n",
       "      <th>Survived</th>\n",
       "      <th>Ticket</th>\n",
       "      <th>age_grp</th>\n",
       "      <th>cabin_proper</th>\n",
       "      <th>has_family</th>\n",
       "      <th>has_friend</th>\n",
       "      <th>has_master_miss</th>\n",
       "      <th>label</th>\n",
       "      <th>multiple_cabin</th>\n",
       "      <th>no_fam_friend</th>\n",
       "    </tr>\n",
       "    <tr>\n",
       "      <th>index</th>\n",
       "      <th></th>\n",
       "      <th></th>\n",
       "      <th></th>\n",
       "      <th></th>\n",
       "      <th></th>\n",
       "      <th></th>\n",
       "      <th></th>\n",
       "      <th></th>\n",
       "      <th></th>\n",
       "      <th></th>\n",
       "      <th></th>\n",
       "      <th></th>\n",
       "      <th></th>\n",
       "      <th></th>\n",
       "      <th></th>\n",
       "      <th></th>\n",
       "      <th></th>\n",
       "      <th></th>\n",
       "    </tr>\n",
       "  </thead>\n",
       "  <tbody>\n",
       "    <tr>\n",
       "      <th>14350</th>\n",
       "      <td>35.890000</td>\n",
       "      <td>not_assigned</td>\n",
       "      <td>S</td>\n",
       "      <td>Spector</td>\n",
       "      <td>Spector, Mr. Woolf</td>\n",
       "      <td>1305</td>\n",
       "      <td>3</td>\n",
       "      <td>male</td>\n",
       "      <td>NaN</td>\n",
       "      <td>A.5. 3236</td>\n",
       "      <td>6</td>\n",
       "      <td>False</td>\n",
       "      <td>False</td>\n",
       "      <td>False</td>\n",
       "      <td>False</td>\n",
       "      <td>test</td>\n",
       "      <td>False</td>\n",
       "      <td>True</td>\n",
       "    </tr>\n",
       "    <tr>\n",
       "      <th>14361</th>\n",
       "      <td>39.000000</td>\n",
       "      <td>C105</td>\n",
       "      <td>C</td>\n",
       "      <td>Oliva y Ocana</td>\n",
       "      <td>Oliva y Ocana, Dona. Fermina</td>\n",
       "      <td>1306</td>\n",
       "      <td>1</td>\n",
       "      <td>female</td>\n",
       "      <td>NaN</td>\n",
       "      <td>PC 17758</td>\n",
       "      <td>6</td>\n",
       "      <td>True</td>\n",
       "      <td>False</td>\n",
       "      <td>True</td>\n",
       "      <td>False</td>\n",
       "      <td>test</td>\n",
       "      <td>False</td>\n",
       "      <td>False</td>\n",
       "    </tr>\n",
       "    <tr>\n",
       "      <th>14372</th>\n",
       "      <td>38.500000</td>\n",
       "      <td>not_assigned</td>\n",
       "      <td>S</td>\n",
       "      <td>Saether</td>\n",
       "      <td>Saether, Mr. Simon Sivertsen</td>\n",
       "      <td>1307</td>\n",
       "      <td>3</td>\n",
       "      <td>male</td>\n",
       "      <td>NaN</td>\n",
       "      <td>SOTON/O.Q. 3101262</td>\n",
       "      <td>6</td>\n",
       "      <td>False</td>\n",
       "      <td>False</td>\n",
       "      <td>False</td>\n",
       "      <td>False</td>\n",
       "      <td>test</td>\n",
       "      <td>False</td>\n",
       "      <td>True</td>\n",
       "    </tr>\n",
       "    <tr>\n",
       "      <th>14382</th>\n",
       "      <td>34.070000</td>\n",
       "      <td>not_assigned</td>\n",
       "      <td>S</td>\n",
       "      <td>Ware</td>\n",
       "      <td>Ware, Mr. Frederick</td>\n",
       "      <td>1308</td>\n",
       "      <td>3</td>\n",
       "      <td>male</td>\n",
       "      <td>NaN</td>\n",
       "      <td>359309</td>\n",
       "      <td>5</td>\n",
       "      <td>False</td>\n",
       "      <td>False</td>\n",
       "      <td>False</td>\n",
       "      <td>False</td>\n",
       "      <td>test</td>\n",
       "      <td>False</td>\n",
       "      <td>True</td>\n",
       "    </tr>\n",
       "    <tr>\n",
       "      <th>14388</th>\n",
       "      <td>2.987403</td>\n",
       "      <td>not_assigned</td>\n",
       "      <td>C</td>\n",
       "      <td>Peter</td>\n",
       "      <td>Peter, Master. Michael J</td>\n",
       "      <td>1309</td>\n",
       "      <td>3</td>\n",
       "      <td>male</td>\n",
       "      <td>NaN</td>\n",
       "      <td>2668</td>\n",
       "      <td>0</td>\n",
       "      <td>False</td>\n",
       "      <td>True</td>\n",
       "      <td>False</td>\n",
       "      <td>True</td>\n",
       "      <td>test</td>\n",
       "      <td>False</td>\n",
       "      <td>False</td>\n",
       "    </tr>\n",
       "  </tbody>\n",
       "</table>\n",
       "</div>"
      ],
      "text/plain": [
       "             Age         Cabin Embarked       LastName  \\\n",
       "index                                                    \n",
       "14350  35.890000  not_assigned        S        Spector   \n",
       "14361  39.000000          C105        C  Oliva y Ocana   \n",
       "14372  38.500000  not_assigned        S        Saether   \n",
       "14382  34.070000  not_assigned        S           Ware   \n",
       "14388   2.987403  not_assigned        C          Peter   \n",
       "\n",
       "                               Name  PassengerId  Pclass     Sex  Survived  \\\n",
       "index                                                                        \n",
       "14350            Spector, Mr. Woolf         1305       3    male       NaN   \n",
       "14361  Oliva y Ocana, Dona. Fermina         1306       1  female       NaN   \n",
       "14372  Saether, Mr. Simon Sivertsen         1307       3    male       NaN   \n",
       "14382           Ware, Mr. Frederick         1308       3    male       NaN   \n",
       "14388      Peter, Master. Michael J         1309       3    male       NaN   \n",
       "\n",
       "                   Ticket age_grp  cabin_proper  has_family  has_friend  \\\n",
       "index                                                                     \n",
       "14350           A.5. 3236       6         False       False       False   \n",
       "14361            PC 17758       6          True       False        True   \n",
       "14372  SOTON/O.Q. 3101262       6         False       False       False   \n",
       "14382              359309       5         False       False       False   \n",
       "14388                2668       0         False        True       False   \n",
       "\n",
       "       has_master_miss label  multiple_cabin  no_fam_friend  \n",
       "index                                                        \n",
       "14350            False  test           False           True  \n",
       "14361            False  test           False          False  \n",
       "14372            False  test           False           True  \n",
       "14382            False  test           False           True  \n",
       "14388             True  test           False          False  "
      ]
     },
     "execution_count": 52,
     "metadata": {},
     "output_type": "execute_result"
    }
   ],
   "source": [
    "titanic_raw_combined = pd.concat([titanic_raw_combined.reset_index(), pca_df], axis=1).set_index('index')\n",
    "titanic_raw_combined = titanic_raw_combined[titanic_raw_combined.columns.difference(data_for_pca)]\n",
    "titanic_raw_combined.tail()"
   ]
  },
  {
   "cell_type": "markdown",
   "id": "c1cd7652",
   "metadata": {},
   "source": [
    "# Introduce Multicategory Output"
   ]
  },
  {
   "cell_type": "code",
   "execution_count": 53,
   "id": "7c5d30d8",
   "metadata": {},
   "outputs": [],
   "source": [
    "titanic_raw_combined = titanic_raw_combined.assign(temp_surv=np.select([~titanic_raw_combined['Survived'].isnull()], [titanic_raw_combined['Sex']+titanic_raw_combined['Survived'].astype('str')], np.nan))"
   ]
  },
  {
   "cell_type": "code",
   "execution_count": 54,
   "id": "a53fa66a",
   "metadata": {},
   "outputs": [],
   "source": [
    "titanic_raw_combined['Survived'] = titanic_raw_combined['temp_surv']\n",
    "titanic_raw_combined.drop('temp_surv', axis=1, inplace=True)"
   ]
  },
  {
   "cell_type": "code",
   "execution_count": 97,
   "id": "35b08faf",
   "metadata": {},
   "outputs": [],
   "source": [
    "weights_for_model = {\n",
    "    'male1.0': 100,\n",
    "    'female1.0': 1.0,\n",
    "    'male0.0': 1.0,\n",
    "    'female0.0': 100,\n",
    "}"
   ]
  },
  {
   "cell_type": "code",
   "execution_count": 98,
   "id": "8584d226",
   "metadata": {},
   "outputs": [],
   "source": [
    "# weights_for_model = 'balanced'"
   ]
  },
  {
   "cell_type": "markdown",
   "id": "befd156c",
   "metadata": {},
   "source": [
    "# Model Data"
   ]
  },
  {
   "cell_type": "code",
   "execution_count": 99,
   "id": "ecf5a79a",
   "metadata": {},
   "outputs": [],
   "source": [
    "model_data = titanic_raw_combined.drop(['PassengerId', 'Name', 'LastName', 'Age'], axis=1)"
   ]
  },
  {
   "cell_type": "code",
   "execution_count": 100,
   "id": "fedbac28",
   "metadata": {},
   "outputs": [],
   "source": [
    "from sklearn import preprocessing\n",
    "le = preprocessing.LabelEncoder()\n",
    "\n",
    "model_data['Sex'] = le.fit_transform(model_data['Sex'])\n",
    "model_data['Ticket'] = le.fit_transform(model_data['Ticket'])\n",
    "model_data['Cabin'] = le.fit_transform(model_data['Cabin'])\n",
    "model_data['Embarked'] = le.fit_transform(model_data['Embarked'])\n",
    "model_data['age_grp'] = le.fit_transform(model_data['age_grp'])"
   ]
  },
  {
   "cell_type": "markdown",
   "id": "08dc2671",
   "metadata": {},
   "source": [
    "# Model Training"
   ]
  },
  {
   "cell_type": "code",
   "execution_count": 101,
   "id": "efc710f8",
   "metadata": {},
   "outputs": [],
   "source": [
    "training_data = model_data[model_data['label']=='train'].drop('label', axis=1)"
   ]
  },
  {
   "cell_type": "code",
   "execution_count": 102,
   "id": "a2099972",
   "metadata": {},
   "outputs": [],
   "source": [
    "x_train = training_data.drop('Survived', axis=1)\n",
    "y_train = training_data['Survived']"
   ]
  },
  {
   "cell_type": "code",
   "execution_count": 103,
   "id": "e0a30ddc",
   "metadata": {},
   "outputs": [
    {
     "name": "stdout",
     "output_type": "stream",
     "text": [
      "<class 'pandas.core.frame.DataFrame'>\n",
      "Int64Index: 669 entries, 8 to 9799\n",
      "Data columns (total 12 columns):\n",
      " #   Column           Non-Null Count  Dtype\n",
      "---  ------           --------------  -----\n",
      " 0   Cabin            669 non-null    int32\n",
      " 1   Embarked         669 non-null    int32\n",
      " 2   Pclass           669 non-null    int64\n",
      " 3   Sex              669 non-null    int32\n",
      " 4   Ticket           669 non-null    int32\n",
      " 5   age_grp          669 non-null    int64\n",
      " 6   cabin_proper     669 non-null    bool \n",
      " 7   has_family       669 non-null    bool \n",
      " 8   has_friend       669 non-null    bool \n",
      " 9   has_master_miss  669 non-null    bool \n",
      " 10  multiple_cabin   669 non-null    bool \n",
      " 11  no_fam_friend    669 non-null    bool \n",
      "dtypes: bool(6), int32(4), int64(2)\n",
      "memory usage: 30.1 KB\n"
     ]
    }
   ],
   "source": [
    "x_train.info()"
   ]
  },
  {
   "cell_type": "code",
   "execution_count": 104,
   "id": "61a255a0",
   "metadata": {},
   "outputs": [],
   "source": [
    "# Import the model we are using\n",
    "from sklearn.ensemble import RandomForestClassifier\n",
    "# Instantiate model with 1000 decision trees\n",
    "rf = RandomForestClassifier(n_estimators = 1000, \n",
    "                            random_state = 42,\n",
    "                           class_weight=weights_for_model)\n",
    "# Train the model on training data\n",
    "rf.fit(x_train, y_train);"
   ]
  },
  {
   "cell_type": "code",
   "execution_count": 105,
   "id": "2768cb4d",
   "metadata": {},
   "outputs": [
    {
     "data": {
      "text/plain": [
       "{'male1.0': 100, 'female1.0': 1.0, 'male0.0': 1.0, 'female0.0': 100}"
      ]
     },
     "execution_count": 105,
     "metadata": {},
     "output_type": "execute_result"
    }
   ],
   "source": [
    "rf.class_weight"
   ]
  },
  {
   "cell_type": "code",
   "execution_count": 106,
   "id": "f44b4086",
   "metadata": {},
   "outputs": [
    {
     "data": {
      "text/plain": [
       "array(['female0.0', 'female1.0', 'male0.0', 'male1.0'], dtype=object)"
      ]
     },
     "execution_count": 106,
     "metadata": {},
     "output_type": "execute_result"
    }
   ],
   "source": [
    "rf.classes_"
   ]
  },
  {
   "cell_type": "markdown",
   "id": "9b34fa34",
   "metadata": {},
   "source": [
    "# Validation"
   ]
  },
  {
   "cell_type": "code",
   "execution_count": 107,
   "id": "2649725d",
   "metadata": {},
   "outputs": [],
   "source": [
    "val_data = model_data[model_data['label']=='validation'].drop('label', axis=1)\n",
    "x_val = val_data.drop('Survived', axis=1)\n",
    "y_val = val_data['Survived']"
   ]
  },
  {
   "cell_type": "code",
   "execution_count": 108,
   "id": "540808d1",
   "metadata": {},
   "outputs": [],
   "source": [
    "survival_val = rf.predict(x_val) #class pred\n",
    "survival_val_proba = rf.predict_proba(x_val) #probability pred"
   ]
  },
  {
   "cell_type": "markdown",
   "id": "aca46b34",
   "metadata": {},
   "source": [
    "### Output Accuracy Metrics - 4 classes w gender"
   ]
  },
  {
   "cell_type": "code",
   "execution_count": 109,
   "id": "361074bc",
   "metadata": {},
   "outputs": [
    {
     "data": {
      "text/html": [
       "<div>\n",
       "<style scoped>\n",
       "    .dataframe tbody tr th:only-of-type {\n",
       "        vertical-align: middle;\n",
       "    }\n",
       "\n",
       "    .dataframe tbody tr th {\n",
       "        vertical-align: top;\n",
       "    }\n",
       "\n",
       "    .dataframe thead th {\n",
       "        text-align: right;\n",
       "    }\n",
       "</style>\n",
       "<table border=\"1\" class=\"dataframe\">\n",
       "  <thead>\n",
       "    <tr style=\"text-align: right;\">\n",
       "      <th></th>\n",
       "      <th>female0.0</th>\n",
       "      <th>female1.0</th>\n",
       "      <th>male0.0</th>\n",
       "      <th>male1.0</th>\n",
       "    </tr>\n",
       "  </thead>\n",
       "  <tbody>\n",
       "    <tr>\n",
       "      <th>precision</th>\n",
       "      <td>0.533333</td>\n",
       "      <td>0.906250</td>\n",
       "      <td>0.873016</td>\n",
       "      <td>0.705882</td>\n",
       "    </tr>\n",
       "    <tr>\n",
       "      <th>recall</th>\n",
       "      <td>0.571429</td>\n",
       "      <td>0.892308</td>\n",
       "      <td>0.956522</td>\n",
       "      <td>0.428571</td>\n",
       "    </tr>\n",
       "    <tr>\n",
       "      <th>fscore</th>\n",
       "      <td>0.551724</td>\n",
       "      <td>0.899225</td>\n",
       "      <td>0.912863</td>\n",
       "      <td>0.533333</td>\n",
       "    </tr>\n",
       "    <tr>\n",
       "      <th>support</th>\n",
       "      <td>14.000000</td>\n",
       "      <td>65.000000</td>\n",
       "      <td>115.000000</td>\n",
       "      <td>28.000000</td>\n",
       "    </tr>\n",
       "  </tbody>\n",
       "</table>\n",
       "</div>"
      ],
      "text/plain": [
       "           female0.0  female1.0     male0.0    male1.0\n",
       "precision   0.533333   0.906250    0.873016   0.705882\n",
       "recall      0.571429   0.892308    0.956522   0.428571\n",
       "fscore      0.551724   0.899225    0.912863   0.533333\n",
       "support    14.000000  65.000000  115.000000  28.000000"
      ]
     },
     "execution_count": 109,
     "metadata": {},
     "output_type": "execute_result"
    }
   ],
   "source": [
    "from sklearn.metrics import precision_recall_fscore_support\n",
    "class_output_metrics_w_gender = pd.DataFrame(precision_recall_fscore_support(y_val,survival_val,average=None), index=str.split('precision_recall_fscore_support', '_')).set_axis(rf.classes_, axis=1)\n",
    "class_output_metrics_w_gender"
   ]
  },
  {
   "cell_type": "markdown",
   "id": "751b19eb",
   "metadata": {},
   "source": [
    "### Output Accuracy Metrics - 2 classes"
   ]
  },
  {
   "cell_type": "code",
   "execution_count": 110,
   "id": "7f5e93bd",
   "metadata": {},
   "outputs": [],
   "source": [
    "y_val_2_class = val_data['Survived'].str.slice(-3,).astype('float64').astype('int')\n",
    "survival_val_2_class = pd.Series(survival_val).str.slice(-3,).astype('float64').astype('int')"
   ]
  },
  {
   "cell_type": "code",
   "execution_count": 111,
   "id": "8bac84fe",
   "metadata": {},
   "outputs": [],
   "source": [
    "temp_proba = pd.DataFrame(survival_val_proba)\n",
    "temp_proba = temp_proba.assign(Not_Survived=temp_proba[0]+temp_proba[2])\n",
    "temp_proba = temp_proba.assign(Survived=temp_proba[1]+temp_proba[3])\n",
    "survival_val_2_class_proba = temp_proba.iloc[:,-2:]"
   ]
  },
  {
   "cell_type": "code",
   "execution_count": 112,
   "id": "997d78ad",
   "metadata": {},
   "outputs": [
    {
     "data": {
      "text/html": [
       "<div>\n",
       "<style scoped>\n",
       "    .dataframe tbody tr th:only-of-type {\n",
       "        vertical-align: middle;\n",
       "    }\n",
       "\n",
       "    .dataframe tbody tr th {\n",
       "        vertical-align: top;\n",
       "    }\n",
       "\n",
       "    .dataframe thead th {\n",
       "        text-align: right;\n",
       "    }\n",
       "</style>\n",
       "<table border=\"1\" class=\"dataframe\">\n",
       "  <thead>\n",
       "    <tr style=\"text-align: right;\">\n",
       "      <th></th>\n",
       "      <th>Not_Survived</th>\n",
       "      <th>Survived</th>\n",
       "    </tr>\n",
       "  </thead>\n",
       "  <tbody>\n",
       "    <tr>\n",
       "      <th>precision</th>\n",
       "      <td>0.836879</td>\n",
       "      <td>0.864198</td>\n",
       "    </tr>\n",
       "    <tr>\n",
       "      <th>recall</th>\n",
       "      <td>0.914729</td>\n",
       "      <td>0.752688</td>\n",
       "    </tr>\n",
       "    <tr>\n",
       "      <th>fscore</th>\n",
       "      <td>0.874074</td>\n",
       "      <td>0.804598</td>\n",
       "    </tr>\n",
       "    <tr>\n",
       "      <th>support</th>\n",
       "      <td>129.000000</td>\n",
       "      <td>93.000000</td>\n",
       "    </tr>\n",
       "  </tbody>\n",
       "</table>\n",
       "</div>"
      ],
      "text/plain": [
       "           Not_Survived   Survived\n",
       "precision      0.836879   0.864198\n",
       "recall         0.914729   0.752688\n",
       "fscore         0.874074   0.804598\n",
       "support      129.000000  93.000000"
      ]
     },
     "execution_count": 112,
     "metadata": {},
     "output_type": "execute_result"
    }
   ],
   "source": [
    "from sklearn.metrics import precision_recall_fscore_support\n",
    "class_output_metrics_2_class = pd.DataFrame(precision_recall_fscore_support(y_val_2_class,survival_val_2_class,average=None), index=str.split('precision_recall_fscore_support', '_')).rename(columns={0:'Not_Survived',1:'Survived'})\n",
    "class_output_metrics_2_class"
   ]
  },
  {
   "cell_type": "markdown",
   "id": "12f94d12",
   "metadata": {},
   "source": [
    "### ROC curve - 4 classes"
   ]
  },
  {
   "cell_type": "code",
   "execution_count": 113,
   "id": "b8b19de4",
   "metadata": {},
   "outputs": [
    {
     "name": "stderr",
     "output_type": "stream",
     "text": [
      "C:\\Users\\Personal\\.conda\\envs\\tensorflow_gpu\\lib\\site-packages\\sklearn\\utils\\deprecation.py:87: FutureWarning: Function plot_roc_curve is deprecated; This will be removed in v0.5.0. Please use scikitplot.metrics.plot_roc instead.\n",
      "  warnings.warn(msg, category=FutureWarning)\n"
     ]
    },
    {
     "data": {
      "image/png": "[encoded data removed]",
      "text/plain": [
       "<Figure size 640x480 with 1 Axes>"
      ]
     },
     "metadata": {},
     "output_type": "display_data"
    }
   ],
   "source": [
    "import scikitplot as skplt\n",
    "import matplotlib.pyplot as plt\n",
    "\n",
    "skplt.metrics.plot_roc_curve(y_val, survival_val_proba)\n",
    "plt.show()"
   ]
  },
  {
   "cell_type": "markdown",
   "id": "112ecaba",
   "metadata": {},
   "source": [
    "### ROC curve - 2 classes"
   ]
  },
  {
   "cell_type": "code",
   "execution_count": 114,
   "id": "63ed5a2a",
   "metadata": {},
   "outputs": [
    {
     "name": "stderr",
     "output_type": "stream",
     "text": [
      "C:\\Users\\Personal\\.conda\\envs\\tensorflow_gpu\\lib\\site-packages\\sklearn\\utils\\deprecation.py:87: FutureWarning: Function plot_roc_curve is deprecated; This will be removed in v0.5.0. Please use scikitplot.metrics.plot_roc instead.\n",
      "  warnings.warn(msg, category=FutureWarning)\n"
     ]
    },
    {
     "data": {
      "image/png": "[encoded data removed]",
      "text/plain": [
       "<Figure size 640x480 with 1 Axes>"
      ]
     },
     "metadata": {},
     "output_type": "display_data"
    }
   ],
   "source": [
    "skplt.metrics.plot_roc_curve(y_val_2_class, survival_val_2_class_proba)\n",
    "plt.show()"
   ]
  },
  {
   "cell_type": "code",
   "execution_count": 115,
   "id": "2b8b7874",
   "metadata": {},
   "outputs": [],
   "source": [
    "# pls.stop()"
   ]
  },
  {
   "cell_type": "markdown",
   "id": "af7be692",
   "metadata": {},
   "source": [
    "# Prediction"
   ]
  },
  {
   "cell_type": "code",
   "execution_count": 116,
   "id": "11fa618e",
   "metadata": {},
   "outputs": [],
   "source": [
    "#test data\n",
    "test_data = model_data[model_data['label']=='test'].drop('label', axis=1)\n",
    "x_test = test_data.drop('Survived', axis=1)\n",
    "survival_pred = rf.predict(x_test)"
   ]
  },
  {
   "cell_type": "code",
   "execution_count": 75,
   "id": "66c7a655",
   "metadata": {},
   "outputs": [],
   "source": [
    "output_dataset = titanic_raw_combined[titanic_raw_combined['label']=='test'].drop('Survived', axis=1)"
   ]
  },
  {
   "cell_type": "code",
   "execution_count": 76,
   "id": "e3101a6e",
   "metadata": {},
   "outputs": [],
   "source": [
    "x_test['Survived'] = survival_pred"
   ]
  },
  {
   "cell_type": "code",
   "execution_count": 77,
   "id": "2cd11e8d",
   "metadata": {},
   "outputs": [],
   "source": [
    "output_dataset = pd.concat([output_dataset, x_test], axis=1)"
   ]
  },
  {
   "cell_type": "code",
   "execution_count": 78,
   "id": "a12a4ac6",
   "metadata": {},
   "outputs": [],
   "source": [
    "output_dataset['Survived'] = output_dataset['Survived'].str.slice(-3,).astype('float64').astype('int')"
   ]
  },
  {
   "cell_type": "code",
   "execution_count": 79,
   "id": "6a938776",
   "metadata": {},
   "outputs": [],
   "source": [
    "surv_pred_submission = output_dataset[['PassengerId', 'Survived']].astype('float64').astype('int')\n",
    "surv_pred_submission.to_csv('./Titanic8/Titanic8_submission.csv', index=False)"
   ]
  },
  {
   "cell_type": "code",
   "execution_count": 80,
   "id": "457397d4",
   "metadata": {
    "scrolled": true
   },
   "outputs": [
    {
     "data": {
      "text/html": [
       "<div>\n",
       "<style scoped>\n",
       "    .dataframe tbody tr th:only-of-type {\n",
       "        vertical-align: middle;\n",
       "    }\n",
       "\n",
       "    .dataframe tbody tr th {\n",
       "        vertical-align: top;\n",
       "    }\n",
       "\n",
       "    .dataframe thead th {\n",
       "        text-align: right;\n",
       "    }\n",
       "</style>\n",
       "<table border=\"1\" class=\"dataframe\">\n",
       "  <thead>\n",
       "    <tr style=\"text-align: right;\">\n",
       "      <th></th>\n",
       "      <th>PassengerId</th>\n",
       "      <th>Survived</th>\n",
       "    </tr>\n",
       "    <tr>\n",
       "      <th>index</th>\n",
       "      <th></th>\n",
       "      <th></th>\n",
       "    </tr>\n",
       "  </thead>\n",
       "  <tbody>\n",
       "    <tr>\n",
       "      <th>9806</th>\n",
       "      <td>892</td>\n",
       "      <td>0</td>\n",
       "    </tr>\n",
       "    <tr>\n",
       "      <th>9819</th>\n",
       "      <td>893</td>\n",
       "      <td>1</td>\n",
       "    </tr>\n",
       "    <tr>\n",
       "      <th>9831</th>\n",
       "      <td>894</td>\n",
       "      <td>0</td>\n",
       "    </tr>\n",
       "    <tr>\n",
       "      <th>9839</th>\n",
       "      <td>895</td>\n",
       "      <td>0</td>\n",
       "    </tr>\n",
       "    <tr>\n",
       "      <th>9849</th>\n",
       "      <td>896</td>\n",
       "      <td>1</td>\n",
       "    </tr>\n",
       "    <tr>\n",
       "      <th>...</th>\n",
       "      <td>...</td>\n",
       "      <td>...</td>\n",
       "    </tr>\n",
       "    <tr>\n",
       "      <th>14350</th>\n",
       "      <td>1305</td>\n",
       "      <td>0</td>\n",
       "    </tr>\n",
       "    <tr>\n",
       "      <th>14361</th>\n",
       "      <td>1306</td>\n",
       "      <td>1</td>\n",
       "    </tr>\n",
       "    <tr>\n",
       "      <th>14372</th>\n",
       "      <td>1307</td>\n",
       "      <td>0</td>\n",
       "    </tr>\n",
       "    <tr>\n",
       "      <th>14382</th>\n",
       "      <td>1308</td>\n",
       "      <td>0</td>\n",
       "    </tr>\n",
       "    <tr>\n",
       "      <th>14388</th>\n",
       "      <td>1309</td>\n",
       "      <td>1</td>\n",
       "    </tr>\n",
       "  </tbody>\n",
       "</table>\n",
       "<p>418 rows × 2 columns</p>\n",
       "</div>"
      ],
      "text/plain": [
       "       PassengerId  Survived\n",
       "index                       \n",
       "9806           892         0\n",
       "9819           893         1\n",
       "9831           894         0\n",
       "9839           895         0\n",
       "9849           896         1\n",
       "...            ...       ...\n",
       "14350         1305         0\n",
       "14361         1306         1\n",
       "14372         1307         0\n",
       "14382         1308         0\n",
       "14388         1309         1\n",
       "\n",
       "[418 rows x 2 columns]"
      ]
     },
     "execution_count": 80,
     "metadata": {},
     "output_type": "execute_result"
    }
   ],
   "source": [
    "surv_pred_submission"
   ]
  },
  {
   "cell_type": "code",
   "execution_count": null,
   "id": "cc312aea",
   "metadata": {},
   "outputs": [],
   "source": []
  }
 ],
 "metadata": {
  "kernelspec": {
   "display_name": "Python 3 (ipykernel)",
   "language": "python",
   "name": "python3"
  },
  "language_info": {
   "codemirror_mode": {
    "name": "ipython",
    "version": 3
   },
   "file_extension": ".py",
   "mimetype": "text/x-python",
   "name": "python",
   "nbconvert_exporter": "python",
   "pygments_lexer": "ipython3",
   "version": "3.8.1"
  }
 },
 "nbformat": 4,
 "nbformat_minor": 5
}
